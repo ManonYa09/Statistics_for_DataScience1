{
 "cells": [
  {
   "cell_type": "markdown",
   "id": "e111497d",
   "metadata": {
    "papermill": {
     "duration": 0.011368,
     "end_time": "2022-10-21T18:22:40.257294",
     "exception": false,
     "start_time": "2022-10-21T18:22:40.245926",
     "status": "completed"
    },
    "tags": []
   },
   "source": [
    "<h1 style=\"font-family:verdana;\"> <center>🏦Bank🏦 Churn Prediction Dataset Using 🦥Classifier Logistics Regression :</center> </h1>"
   ]
  },
  {
   "cell_type": "markdown",
   "id": "b597f5c8",
   "metadata": {
    "papermill": {
     "duration": 0.010038,
     "end_time": "2022-10-21T18:22:40.277443",
     "exception": false,
     "start_time": "2022-10-21T18:22:40.267405",
     "status": "completed"
    },
    "tags": []
   },
   "source": [
    "# Table of Contents :\n",
    "* [1. Introduction](#section1)\n",
    "* [2. Importing Required Libraries](#section2)\n",
    "* [3. Data Exploration](#section3)\n",
    "  - [Feature Description](#section31)\n",
    "  - [Null Value Distribution](#section32)\n",
    "  - [Data Cleaning](#section33)\n",
    "  - [Important Observations](#section34)\n",
    "* [4.Data Visualization](#section4)\n",
    "   - [Content Analysis with help of Target Variable](#section41)\n",
    "   - [HeatMap](#section42)\n",
    "   - [Important Observations](#section43)\n",
    "* [5. Data preprocessing and feature engineering](#4)\n",
    "    - [5.1 Min-Max Scaling or Standardization?](#4.1)\n",
    "    - [5.2 Encoding Categorical Variables](#4.2)\n",
    "        - [5.2.1 Label Encoding](#4.2.1)\n",
    "        - [5.2.2 One hot Encoding](#4.2.2)\n",
    "        - [5.2.3 Multicolinearity](#4.2.3)\n",
    "* [5. Modelling](#section5)\n",
    "   - [Pre-Processing](#section51)\n",
    "   - [Model Implementation](#section52)\n",
    "   - [Accuracy vs Model](#section53)\n",
    "   - [Time Taken vs Model](#section54)\n",
    "* [6. EndNote](#section6)\n",
    "  "
   ]
  },
  {
   "cell_type": "markdown",
   "id": "2879c6f0",
   "metadata": {
    "papermill": {
     "duration": 0.00946,
     "end_time": "2022-10-21T18:22:40.297301",
     "exception": false,
     "start_time": "2022-10-21T18:22:40.287841",
     "status": "completed"
    },
    "tags": []
   },
   "source": [
    "<a id=\"section1\"></a>\n",
    "<div style=\"padding:20px;\n",
    "            color:white;\n",
    "            margin:10;\n",
    "            font-size:170%;\n",
    "            text-align:left;\n",
    "            display:fill;\n",
    "            border-radius:5px;\n",
    "            background-color:#222222;\n",
    "            overflow:hidden;\n",
    "            font-weight:700\">1 <span style='color:#CDA63A'>|</span>Introduction</div>\n",
    "            \n",
    "![Bank](https://images.pexels.com/photos/351264/pexels-photo-351264.jpeg?auto=compress&cs=tinysrgb&dpr=1&w=500)\n",
    "<p style=\"font-size:15px; font-family:verdana; line-height: 1.7em\"> We are given the dataset about bank information of around 10000 customers and also given if they have churned or not. Our task is to build a ML model such that we can predict if a customer is going to churn or not. We will also perform EDA on this dataset to inform the bank on what they could do to minimise the churn and build a sustainable business. We are going to use LazyClassifier which has around 29 pre-trained models which will help us find out the best model on basis of accuracy and time taken.</p>"
   ]
  },
  {
   "cell_type": "markdown",
   "id": "152f7593",
   "metadata": {
    "papermill": {
     "duration": 0.010175,
     "end_time": "2022-10-21T18:22:40.317669",
     "exception": false,
     "start_time": "2022-10-21T18:22:40.307494",
     "status": "completed"
    },
    "tags": []
   },
   "source": [
    "<a id=\"section2\"></a>\n",
    "<div style=\"padding:20px;\n",
    "            color:white;\n",
    "            margin:10;\n",
    "            font-size:170%;\n",
    "            text-align:left;\n",
    "            display:fill;\n",
    "            border-radius:5px;\n",
    "            background-color:#222222;\n",
    "            overflow:hidden;\n",
    "            font-weight:700\">1 <span style='color:#CDA63A'>|</span>Exploring The Dataset</div>"
   ]
  },
  {
   "cell_type": "code",
   "execution_count": 1,
   "id": "a61e06f8",
   "metadata": {
    "execution": {
     "iopub.execute_input": "2022-10-21T18:22:40.342954Z",
     "iopub.status.busy": "2022-10-21T18:22:40.342055Z",
     "iopub.status.idle": "2022-10-21T18:23:04.941692Z",
     "shell.execute_reply": "2022-10-21T18:23:04.940388Z"
    },
    "papermill": {
     "duration": 24.615373,
     "end_time": "2022-10-21T18:23:04.944705",
     "exception": false,
     "start_time": "2022-10-21T18:22:40.329332",
     "status": "completed"
    },
    "tags": []
   },
   "outputs": [],
   "source": [
    "# from IPython.display import clear_output\n",
    "# !pip3 install -U lazypredict\n",
    "# !pip3 install -U pandas\n",
    "\n",
    "# clear_output()"
   ]
  },
  {
   "cell_type": "code",
   "execution_count": 2,
   "id": "0df36f68",
   "metadata": {
    "execution": {
     "iopub.execute_input": "2022-10-21T18:23:04.967882Z",
     "iopub.status.busy": "2022-10-21T18:23:04.967421Z",
     "iopub.status.idle": "2022-10-21T18:23:08.867734Z",
     "shell.execute_reply": "2022-10-21T18:23:08.866544Z"
    },
    "papermill": {
     "duration": 3.91604,
     "end_time": "2022-10-21T18:23:08.870792",
     "exception": false,
     "start_time": "2022-10-21T18:23:04.954752",
     "status": "completed"
    },
    "tags": []
   },
   "outputs": [],
   "source": [
    "#Importing all essential libraries\n",
    "import numpy as np , pandas as pd, seaborn as sns\n",
    "import matplotlib.pyplot as plt\n",
    "from sklearn.linear_model import LogisticRegression\n",
    "from sklearn.model_selection import train_test_split\n",
    "from sklearn.preprocessing import StandardScaler,LabelEncoder\n",
    "from sklearn.metrics import confusion_matrix\n",
    "import warnings\n",
    "warnings.filterwarnings('ignore')\n"
   ]
  },
  {
   "cell_type": "markdown",
   "id": "922d9d8a",
   "metadata": {
    "papermill": {
     "duration": 0.010481,
     "end_time": "2022-10-21T18:23:08.954032",
     "exception": false,
     "start_time": "2022-10-21T18:23:08.943551",
     "status": "completed"
    },
    "tags": []
   },
   "source": [
    "<a id=\"section3\"></a>\n",
    "#  Data Exploration :"
   ]
  },
  {
   "cell_type": "markdown",
   "id": "68a75d70",
   "metadata": {
    "papermill": {
     "duration": 0.010755,
     "end_time": "2022-10-21T18:23:08.975396",
     "exception": false,
     "start_time": "2022-10-21T18:23:08.964641",
     "status": "completed"
    },
    "tags": []
   },
   "source": [
    "<a id=\"section31\"></a>\n",
    "<div style=\"font-size:15px; font-family:verdana;\"><h3 style=\"font-family:verdana;\">Feature Description:</h3>\n",
    "\n",
    "<ol>\n",
    "    <li style=\"font-family:verdana;\"><code style=\"font-family:verdana;\">Customer ID</code> - Unique ID given to identify a particular customer.</li>\n",
    "    <li style=\"font-family:verdana;\"><code style=\"font-family:verdana;\">Credit Score</code> - It is the score which determines the creditworthiness of a customer.</li>\n",
    "    <li style=\"font-family:verdana;\"><code style=\"font-family:verdana;\">Country</code> - The country where customer lives.</li>\n",
    "    <li style=\"font-family:verdana;\"><code style=\"font-family:verdana;\">Gender</code> - The Sex of customer.</li>\n",
    "    <li style=\"font-family:verdana;\"><code style=\"font-family:verdana;\">Age</code> - The age of customer.</li>\n",
    "    <li style=\"font-family:verdana;\"><code style=\"font-family:verdana;\">Tenure</code> - Number of years the customer has Bank Account in that Bank.</li>\n",
    "    <li style=\"font-family:verdana;\"><code style=\"font-family:verdana;\">Balance</code> - Amount of money present in customer's bank.</li>\n",
    "    <li style=\"font-family:verdana;\"><code style=\"font-family:verdana;\">Products Number</code> - Number of Products from that Bank.</li>\n",
    "    <li style=\"font-family:verdana;\"><code style=\"font-family:verdana;\">Credit Card</code> - Does the customer own a credit card of that Bank.</li>\n",
    "    <li style=\"font-family:verdana;\"><code style=\"font-family:verdana;\">Active Member</code> - Whether the customer is an active member of that Bank.</li>\n",
    "    <li style=\"font-family:verdana;\"><code style=\"font-family:verdana;\">Estimated Salary</code> - Total Income of the Customer.</li>\n",
    "    <li style=\"font-family:verdana;\"><code style=\"font-family:verdana;\">Churn</code> - Churn (Loss of existing customers) of the Bank.</li>\n",
    "</ol>\n",
    "</div>"
   ]
  },
  {
   "cell_type": "code",
   "execution_count": 3,
   "id": "b8c682f1",
   "metadata": {
    "execution": {
     "iopub.execute_input": "2022-10-21T18:23:09.000069Z",
     "iopub.status.busy": "2022-10-21T18:23:08.999657Z",
     "iopub.status.idle": "2022-10-21T18:23:09.068914Z",
     "shell.execute_reply": "2022-10-21T18:23:09.067701Z"
    },
    "papermill": {
     "duration": 0.083855,
     "end_time": "2022-10-21T18:23:09.071380",
     "exception": false,
     "start_time": "2022-10-21T18:23:08.987525",
     "status": "completed"
    },
    "scrolled": true,
    "tags": []
   },
   "outputs": [
    {
     "data": {
      "text/html": [
       "<div>\n",
       "<style scoped>\n",
       "    .dataframe tbody tr th:only-of-type {\n",
       "        vertical-align: middle;\n",
       "    }\n",
       "\n",
       "    .dataframe tbody tr th {\n",
       "        vertical-align: top;\n",
       "    }\n",
       "\n",
       "    .dataframe thead th {\n",
       "        text-align: right;\n",
       "    }\n",
       "</style>\n",
       "<table border=\"1\" class=\"dataframe\">\n",
       "  <thead>\n",
       "    <tr style=\"text-align: right;\">\n",
       "      <th></th>\n",
       "      <th>credit_score</th>\n",
       "      <th>country</th>\n",
       "      <th>gender</th>\n",
       "      <th>age</th>\n",
       "      <th>tenure</th>\n",
       "      <th>balance</th>\n",
       "      <th>products_number</th>\n",
       "      <th>credit_card</th>\n",
       "      <th>active_member</th>\n",
       "      <th>estimated_salary</th>\n",
       "      <th>churn</th>\n",
       "    </tr>\n",
       "  </thead>\n",
       "  <tbody>\n",
       "    <tr>\n",
       "      <th>0</th>\n",
       "      <td>619</td>\n",
       "      <td>France</td>\n",
       "      <td>Female</td>\n",
       "      <td>42</td>\n",
       "      <td>2</td>\n",
       "      <td>0.00</td>\n",
       "      <td>1</td>\n",
       "      <td>1</td>\n",
       "      <td>1</td>\n",
       "      <td>101348.88</td>\n",
       "      <td>1</td>\n",
       "    </tr>\n",
       "    <tr>\n",
       "      <th>1</th>\n",
       "      <td>608</td>\n",
       "      <td>Spain</td>\n",
       "      <td>Female</td>\n",
       "      <td>41</td>\n",
       "      <td>1</td>\n",
       "      <td>83807.86</td>\n",
       "      <td>1</td>\n",
       "      <td>0</td>\n",
       "      <td>1</td>\n",
       "      <td>112542.58</td>\n",
       "      <td>0</td>\n",
       "    </tr>\n",
       "    <tr>\n",
       "      <th>2</th>\n",
       "      <td>502</td>\n",
       "      <td>France</td>\n",
       "      <td>Female</td>\n",
       "      <td>42</td>\n",
       "      <td>8</td>\n",
       "      <td>159660.80</td>\n",
       "      <td>3</td>\n",
       "      <td>1</td>\n",
       "      <td>0</td>\n",
       "      <td>113931.57</td>\n",
       "      <td>1</td>\n",
       "    </tr>\n",
       "    <tr>\n",
       "      <th>3</th>\n",
       "      <td>699</td>\n",
       "      <td>France</td>\n",
       "      <td>Female</td>\n",
       "      <td>39</td>\n",
       "      <td>1</td>\n",
       "      <td>0.00</td>\n",
       "      <td>2</td>\n",
       "      <td>0</td>\n",
       "      <td>0</td>\n",
       "      <td>93826.63</td>\n",
       "      <td>0</td>\n",
       "    </tr>\n",
       "    <tr>\n",
       "      <th>4</th>\n",
       "      <td>850</td>\n",
       "      <td>Spain</td>\n",
       "      <td>Female</td>\n",
       "      <td>43</td>\n",
       "      <td>2</td>\n",
       "      <td>125510.82</td>\n",
       "      <td>1</td>\n",
       "      <td>1</td>\n",
       "      <td>1</td>\n",
       "      <td>79084.10</td>\n",
       "      <td>0</td>\n",
       "    </tr>\n",
       "  </tbody>\n",
       "</table>\n",
       "</div>"
      ],
      "text/plain": [
       "   credit_score country  gender  age  tenure    balance  products_number  \\\n",
       "0           619  France  Female   42       2       0.00                1   \n",
       "1           608   Spain  Female   41       1   83807.86                1   \n",
       "2           502  France  Female   42       8  159660.80                3   \n",
       "3           699  France  Female   39       1       0.00                2   \n",
       "4           850   Spain  Female   43       2  125510.82                1   \n",
       "\n",
       "   credit_card  active_member  estimated_salary  churn  \n",
       "0            1              1         101348.88      1  \n",
       "1            0              1         112542.58      0  \n",
       "2            1              0         113931.57      1  \n",
       "3            0              0          93826.63      0  \n",
       "4            1              1          79084.10      0  "
      ]
     },
     "execution_count": 3,
     "metadata": {},
     "output_type": "execute_result"
    }
   ],
   "source": [
    "df = pd.read_csv(\"Bank Customer Churn Prediction.csv\")\n",
    "df.drop(columns='customer_id', inplace=True)\n",
    "df.head()"
   ]
  },
  {
   "cell_type": "code",
   "execution_count": 4,
   "id": "0cb37478",
   "metadata": {},
   "outputs": [
    {
     "data": {
      "text/plain": [
       "array(['France', 'Spain', 'Germany'], dtype=object)"
      ]
     },
     "execution_count": 4,
     "metadata": {},
     "output_type": "execute_result"
    }
   ],
   "source": [
    "df['country'].unique()"
   ]
  },
  {
   "cell_type": "code",
   "execution_count": 5,
   "id": "5f263920",
   "metadata": {
    "execution": {
     "iopub.execute_input": "2022-10-21T18:23:09.094566Z",
     "iopub.status.busy": "2022-10-21T18:23:09.093727Z",
     "iopub.status.idle": "2022-10-21T18:23:09.101118Z",
     "shell.execute_reply": "2022-10-21T18:23:09.100177Z"
    },
    "papermill": {
     "duration": 0.021483,
     "end_time": "2022-10-21T18:23:09.103432",
     "exception": false,
     "start_time": "2022-10-21T18:23:09.081949",
     "status": "completed"
    },
    "tags": []
   },
   "outputs": [
    {
     "data": {
      "text/plain": [
       "(10000, 11)"
      ]
     },
     "execution_count": 5,
     "metadata": {},
     "output_type": "execute_result"
    }
   ],
   "source": [
    "df.shape"
   ]
  },
  {
   "cell_type": "code",
   "execution_count": 6,
   "id": "f9dbdcac",
   "metadata": {
    "execution": {
     "iopub.execute_input": "2022-10-21T18:23:09.128290Z",
     "iopub.status.busy": "2022-10-21T18:23:09.127901Z",
     "iopub.status.idle": "2022-10-21T18:23:09.137077Z",
     "shell.execute_reply": "2022-10-21T18:23:09.135730Z"
    },
    "papermill": {
     "duration": 0.025023,
     "end_time": "2022-10-21T18:23:09.139432",
     "exception": false,
     "start_time": "2022-10-21T18:23:09.114409",
     "status": "completed"
    },
    "tags": []
   },
   "outputs": [
    {
     "data": {
      "text/plain": [
       "credit_score          int64\n",
       "country              object\n",
       "gender               object\n",
       "age                   int64\n",
       "tenure                int64\n",
       "balance             float64\n",
       "products_number       int64\n",
       "credit_card           int64\n",
       "active_member         int64\n",
       "estimated_salary    float64\n",
       "churn                 int64\n",
       "dtype: object"
      ]
     },
     "execution_count": 6,
     "metadata": {},
     "output_type": "execute_result"
    }
   ],
   "source": [
    "df.dtypes"
   ]
  },
  {
   "cell_type": "code",
   "execution_count": 7,
   "id": "4a5e5155",
   "metadata": {
    "execution": {
     "iopub.execute_input": "2022-10-21T18:23:09.162406Z",
     "iopub.status.busy": "2022-10-21T18:23:09.162017Z",
     "iopub.status.idle": "2022-10-21T18:23:09.294642Z",
     "shell.execute_reply": "2022-10-21T18:23:09.293436Z"
    },
    "papermill": {
     "duration": 0.147286,
     "end_time": "2022-10-21T18:23:09.297491",
     "exception": false,
     "start_time": "2022-10-21T18:23:09.150205",
     "status": "completed"
    },
    "tags": []
   },
   "outputs": [
    {
     "data": {
      "text/html": [
       "<style type=\"text/css\">\n",
       "#T_477df_row0_col0, #T_477df_row1_col0, #T_477df_row1_col3, #T_477df_row1_col4, #T_477df_row2_col0, #T_477df_row2_col7, #T_477df_row3_col0, #T_477df_row3_col4, #T_477df_row3_col5, #T_477df_row3_col6, #T_477df_row3_col7, #T_477df_row4_col0, #T_477df_row4_col3, #T_477df_row4_col4, #T_477df_row4_col5, #T_477df_row4_col6, #T_477df_row4_col7, #T_477df_row5_col0, #T_477df_row5_col3, #T_477df_row5_col4, #T_477df_row5_col5, #T_477df_row5_col6, #T_477df_row5_col7, #T_477df_row6_col0, #T_477df_row6_col3, #T_477df_row6_col4, #T_477df_row6_col5, #T_477df_row6_col6, #T_477df_row6_col7, #T_477df_row7_col0, #T_477df_row7_col3, #T_477df_row7_col4, #T_477df_row7_col5, #T_477df_row7_col6, #T_477df_row7_col7, #T_477df_row8_col0, #T_477df_row8_col3, #T_477df_row8_col4, #T_477df_row8_col5, #T_477df_row8_col6, #T_477df_row8_col7 {\n",
       "  background-color: #f7fcfd;\n",
       "  color: #000000;\n",
       "}\n",
       "#T_477df_row0_col1 {\n",
       "  background-color: #00441b;\n",
       "  color: #f1f1f1;\n",
       "  width: 10em;\n",
       "  background: linear-gradient(90deg, blue 100.0%, transparent 100.0%);\n",
       "}\n",
       "#T_477df_row0_col2 {\n",
       "  background-color: #005e26;\n",
       "  color: #f1f1f1;\n",
       "  width: 10em;\n",
       "  background: linear-gradient(90deg, red 92.2%, transparent 92.2%);\n",
       "}\n",
       "#T_477df_row0_col3 {\n",
       "  background-color: #f2fafc;\n",
       "  color: #000000;\n",
       "}\n",
       "#T_477df_row0_col4, #T_477df_row0_col5, #T_477df_row0_col6, #T_477df_row1_col7, #T_477df_row2_col3 {\n",
       "  background-color: #00441b;\n",
       "  color: #f1f1f1;\n",
       "}\n",
       "#T_477df_row0_col7 {\n",
       "  background-color: #157f3b;\n",
       "  color: #f1f1f1;\n",
       "}\n",
       "#T_477df_row1_col1 {\n",
       "  background-color: #1f8742;\n",
       "  color: #f1f1f1;\n",
       "  width: 10em;\n",
       "  background: linear-gradient(90deg, blue 76.4%, transparent 76.4%);\n",
       "}\n",
       "#T_477df_row1_col2 {\n",
       "  background-color: #00441b;\n",
       "  color: #f1f1f1;\n",
       "  width: 10em;\n",
       "  background: linear-gradient(90deg, red 100.0%, transparent 100.0%);\n",
       "}\n",
       "#T_477df_row1_col5 {\n",
       "  background-color: #004d1f;\n",
       "  color: #f1f1f1;\n",
       "}\n",
       "#T_477df_row1_col6 {\n",
       "  background-color: #067230;\n",
       "  color: #f1f1f1;\n",
       "}\n",
       "#T_477df_row2_col1 {\n",
       "  background-color: #f6fcfd;\n",
       "  color: #000000;\n",
       "  width: 10em;\n",
       "  background: linear-gradient(90deg, blue 0.6%, transparent 0.6%);\n",
       "}\n",
       "#T_477df_row2_col2 {\n",
       "  background-color: #f7fcfd;\n",
       "  color: #000000;\n",
       "  width: 10em;\n",
       "  background: linear-gradient(90deg, red 0.2%, transparent 0.2%);\n",
       "}\n",
       "#T_477df_row2_col4, #T_477df_row2_col5, #T_477df_row2_col6 {\n",
       "  background-color: #f6fcfd;\n",
       "  color: #000000;\n",
       "}\n",
       "#T_477df_row3_col1, #T_477df_row4_col1, #T_477df_row5_col1, #T_477df_row6_col1, #T_477df_row7_col1, #T_477df_row8_col1 {\n",
       "  background-color: #f7fcfd;\n",
       "  color: #000000;\n",
       "  width: 10em;\n",
       "  background: linear-gradient(90deg, blue 0.0%, transparent 0.0%);\n",
       "}\n",
       "#T_477df_row3_col2, #T_477df_row4_col2, #T_477df_row5_col2, #T_477df_row6_col2, #T_477df_row7_col2, #T_477df_row8_col2 {\n",
       "  background-color: #f7fcfd;\n",
       "  color: #000000;\n",
       "  width: 10em;\n",
       "  background: linear-gradient(90deg, red 0.0%, transparent 0.0%);\n",
       "}\n",
       "#T_477df_row3_col3 {\n",
       "  background-color: #f0f9fb;\n",
       "  color: #000000;\n",
       "}\n",
       "</style>\n",
       "<table id=\"T_477df\">\n",
       "  <thead>\n",
       "    <tr>\n",
       "      <th class=\"blank level0\" >&nbsp;</th>\n",
       "      <th id=\"T_477df_level0_col0\" class=\"col_heading level0 col0\" >count</th>\n",
       "      <th id=\"T_477df_level0_col1\" class=\"col_heading level0 col1\" >mean</th>\n",
       "      <th id=\"T_477df_level0_col2\" class=\"col_heading level0 col2\" >std</th>\n",
       "      <th id=\"T_477df_level0_col3\" class=\"col_heading level0 col3\" >min</th>\n",
       "      <th id=\"T_477df_level0_col4\" class=\"col_heading level0 col4\" >25%</th>\n",
       "      <th id=\"T_477df_level0_col5\" class=\"col_heading level0 col5\" >50%</th>\n",
       "      <th id=\"T_477df_level0_col6\" class=\"col_heading level0 col6\" >75%</th>\n",
       "      <th id=\"T_477df_level0_col7\" class=\"col_heading level0 col7\" >max</th>\n",
       "    </tr>\n",
       "  </thead>\n",
       "  <tbody>\n",
       "    <tr>\n",
       "      <th id=\"T_477df_level0_row0\" class=\"row_heading level0 row0\" >estimated_salary</th>\n",
       "      <td id=\"T_477df_row0_col0\" class=\"data row0 col0\" >10000.000000</td>\n",
       "      <td id=\"T_477df_row0_col1\" class=\"data row0 col1\" >100090.239881</td>\n",
       "      <td id=\"T_477df_row0_col2\" class=\"data row0 col2\" >57510.492818</td>\n",
       "      <td id=\"T_477df_row0_col3\" class=\"data row0 col3\" >11.580000</td>\n",
       "      <td id=\"T_477df_row0_col4\" class=\"data row0 col4\" >51002.110000</td>\n",
       "      <td id=\"T_477df_row0_col5\" class=\"data row0 col5\" >100193.915000</td>\n",
       "      <td id=\"T_477df_row0_col6\" class=\"data row0 col6\" >149388.247500</td>\n",
       "      <td id=\"T_477df_row0_col7\" class=\"data row0 col7\" >199992.480000</td>\n",
       "    </tr>\n",
       "    <tr>\n",
       "      <th id=\"T_477df_level0_row1\" class=\"row_heading level0 row1\" >balance</th>\n",
       "      <td id=\"T_477df_row1_col0\" class=\"data row1 col0\" >10000.000000</td>\n",
       "      <td id=\"T_477df_row1_col1\" class=\"data row1 col1\" >76485.889288</td>\n",
       "      <td id=\"T_477df_row1_col2\" class=\"data row1 col2\" >62397.405202</td>\n",
       "      <td id=\"T_477df_row1_col3\" class=\"data row1 col3\" >0.000000</td>\n",
       "      <td id=\"T_477df_row1_col4\" class=\"data row1 col4\" >0.000000</td>\n",
       "      <td id=\"T_477df_row1_col5\" class=\"data row1 col5\" >97198.540000</td>\n",
       "      <td id=\"T_477df_row1_col6\" class=\"data row1 col6\" >127644.240000</td>\n",
       "      <td id=\"T_477df_row1_col7\" class=\"data row1 col7\" >250898.090000</td>\n",
       "    </tr>\n",
       "    <tr>\n",
       "      <th id=\"T_477df_level0_row2\" class=\"row_heading level0 row2\" >credit_score</th>\n",
       "      <td id=\"T_477df_row2_col0\" class=\"data row2 col0\" >10000.000000</td>\n",
       "      <td id=\"T_477df_row2_col1\" class=\"data row2 col1\" >650.528800</td>\n",
       "      <td id=\"T_477df_row2_col2\" class=\"data row2 col2\" >96.653299</td>\n",
       "      <td id=\"T_477df_row2_col3\" class=\"data row2 col3\" >350.000000</td>\n",
       "      <td id=\"T_477df_row2_col4\" class=\"data row2 col4\" >584.000000</td>\n",
       "      <td id=\"T_477df_row2_col5\" class=\"data row2 col5\" >652.000000</td>\n",
       "      <td id=\"T_477df_row2_col6\" class=\"data row2 col6\" >718.000000</td>\n",
       "      <td id=\"T_477df_row2_col7\" class=\"data row2 col7\" >850.000000</td>\n",
       "    </tr>\n",
       "    <tr>\n",
       "      <th id=\"T_477df_level0_row3\" class=\"row_heading level0 row3\" >age</th>\n",
       "      <td id=\"T_477df_row3_col0\" class=\"data row3 col0\" >10000.000000</td>\n",
       "      <td id=\"T_477df_row3_col1\" class=\"data row3 col1\" >38.921800</td>\n",
       "      <td id=\"T_477df_row3_col2\" class=\"data row3 col2\" >10.487806</td>\n",
       "      <td id=\"T_477df_row3_col3\" class=\"data row3 col3\" >18.000000</td>\n",
       "      <td id=\"T_477df_row3_col4\" class=\"data row3 col4\" >32.000000</td>\n",
       "      <td id=\"T_477df_row3_col5\" class=\"data row3 col5\" >37.000000</td>\n",
       "      <td id=\"T_477df_row3_col6\" class=\"data row3 col6\" >44.000000</td>\n",
       "      <td id=\"T_477df_row3_col7\" class=\"data row3 col7\" >92.000000</td>\n",
       "    </tr>\n",
       "    <tr>\n",
       "      <th id=\"T_477df_level0_row4\" class=\"row_heading level0 row4\" >tenure</th>\n",
       "      <td id=\"T_477df_row4_col0\" class=\"data row4 col0\" >10000.000000</td>\n",
       "      <td id=\"T_477df_row4_col1\" class=\"data row4 col1\" >5.012800</td>\n",
       "      <td id=\"T_477df_row4_col2\" class=\"data row4 col2\" >2.892174</td>\n",
       "      <td id=\"T_477df_row4_col3\" class=\"data row4 col3\" >0.000000</td>\n",
       "      <td id=\"T_477df_row4_col4\" class=\"data row4 col4\" >3.000000</td>\n",
       "      <td id=\"T_477df_row4_col5\" class=\"data row4 col5\" >5.000000</td>\n",
       "      <td id=\"T_477df_row4_col6\" class=\"data row4 col6\" >7.000000</td>\n",
       "      <td id=\"T_477df_row4_col7\" class=\"data row4 col7\" >10.000000</td>\n",
       "    </tr>\n",
       "    <tr>\n",
       "      <th id=\"T_477df_level0_row5\" class=\"row_heading level0 row5\" >products_number</th>\n",
       "      <td id=\"T_477df_row5_col0\" class=\"data row5 col0\" >10000.000000</td>\n",
       "      <td id=\"T_477df_row5_col1\" class=\"data row5 col1\" >1.530200</td>\n",
       "      <td id=\"T_477df_row5_col2\" class=\"data row5 col2\" >0.581654</td>\n",
       "      <td id=\"T_477df_row5_col3\" class=\"data row5 col3\" >1.000000</td>\n",
       "      <td id=\"T_477df_row5_col4\" class=\"data row5 col4\" >1.000000</td>\n",
       "      <td id=\"T_477df_row5_col5\" class=\"data row5 col5\" >1.000000</td>\n",
       "      <td id=\"T_477df_row5_col6\" class=\"data row5 col6\" >2.000000</td>\n",
       "      <td id=\"T_477df_row5_col7\" class=\"data row5 col7\" >4.000000</td>\n",
       "    </tr>\n",
       "    <tr>\n",
       "      <th id=\"T_477df_level0_row6\" class=\"row_heading level0 row6\" >credit_card</th>\n",
       "      <td id=\"T_477df_row6_col0\" class=\"data row6 col0\" >10000.000000</td>\n",
       "      <td id=\"T_477df_row6_col1\" class=\"data row6 col1\" >0.705500</td>\n",
       "      <td id=\"T_477df_row6_col2\" class=\"data row6 col2\" >0.455840</td>\n",
       "      <td id=\"T_477df_row6_col3\" class=\"data row6 col3\" >0.000000</td>\n",
       "      <td id=\"T_477df_row6_col4\" class=\"data row6 col4\" >0.000000</td>\n",
       "      <td id=\"T_477df_row6_col5\" class=\"data row6 col5\" >1.000000</td>\n",
       "      <td id=\"T_477df_row6_col6\" class=\"data row6 col6\" >1.000000</td>\n",
       "      <td id=\"T_477df_row6_col7\" class=\"data row6 col7\" >1.000000</td>\n",
       "    </tr>\n",
       "    <tr>\n",
       "      <th id=\"T_477df_level0_row7\" class=\"row_heading level0 row7\" >active_member</th>\n",
       "      <td id=\"T_477df_row7_col0\" class=\"data row7 col0\" >10000.000000</td>\n",
       "      <td id=\"T_477df_row7_col1\" class=\"data row7 col1\" >0.515100</td>\n",
       "      <td id=\"T_477df_row7_col2\" class=\"data row7 col2\" >0.499797</td>\n",
       "      <td id=\"T_477df_row7_col3\" class=\"data row7 col3\" >0.000000</td>\n",
       "      <td id=\"T_477df_row7_col4\" class=\"data row7 col4\" >0.000000</td>\n",
       "      <td id=\"T_477df_row7_col5\" class=\"data row7 col5\" >1.000000</td>\n",
       "      <td id=\"T_477df_row7_col6\" class=\"data row7 col6\" >1.000000</td>\n",
       "      <td id=\"T_477df_row7_col7\" class=\"data row7 col7\" >1.000000</td>\n",
       "    </tr>\n",
       "    <tr>\n",
       "      <th id=\"T_477df_level0_row8\" class=\"row_heading level0 row8\" >churn</th>\n",
       "      <td id=\"T_477df_row8_col0\" class=\"data row8 col0\" >10000.000000</td>\n",
       "      <td id=\"T_477df_row8_col1\" class=\"data row8 col1\" >0.203700</td>\n",
       "      <td id=\"T_477df_row8_col2\" class=\"data row8 col2\" >0.402769</td>\n",
       "      <td id=\"T_477df_row8_col3\" class=\"data row8 col3\" >0.000000</td>\n",
       "      <td id=\"T_477df_row8_col4\" class=\"data row8 col4\" >0.000000</td>\n",
       "      <td id=\"T_477df_row8_col5\" class=\"data row8 col5\" >0.000000</td>\n",
       "      <td id=\"T_477df_row8_col6\" class=\"data row8 col6\" >0.000000</td>\n",
       "      <td id=\"T_477df_row8_col7\" class=\"data row8 col7\" >1.000000</td>\n",
       "    </tr>\n",
       "  </tbody>\n",
       "</table>\n"
      ],
      "text/plain": [
       "<pandas.io.formats.style.Styler at 0x19bc8075f30>"
      ]
     },
     "execution_count": 7,
     "metadata": {},
     "output_type": "execute_result"
    }
   ],
   "source": [
    "df.describe().T.sort_values(ascending = 0,by = \"mean\").style.background_gradient(cmap = \"BuGn\")\\\n",
    ".bar(subset = [\"std\"], color =\"red\").bar(subset = [\"mean\"], color =\"blue\")"
   ]
  },
  {
   "cell_type": "code",
   "execution_count": 8,
   "id": "ba6f1d69",
   "metadata": {
    "execution": {
     "iopub.execute_input": "2022-10-21T18:23:09.323237Z",
     "iopub.status.busy": "2022-10-21T18:23:09.322064Z",
     "iopub.status.idle": "2022-10-21T18:23:09.338888Z",
     "shell.execute_reply": "2022-10-21T18:23:09.337603Z"
    },
    "papermill": {
     "duration": 0.03316,
     "end_time": "2022-10-21T18:23:09.341922",
     "exception": false,
     "start_time": "2022-10-21T18:23:09.308762",
     "status": "completed"
    },
    "tags": []
   },
   "outputs": [
    {
     "data": {
      "text/plain": [
       "credit_score         460\n",
       "country                3\n",
       "gender                 2\n",
       "age                   70\n",
       "tenure                11\n",
       "balance             6382\n",
       "products_number        4\n",
       "credit_card            2\n",
       "active_member          2\n",
       "estimated_salary    9999\n",
       "churn                  2\n",
       "dtype: int64"
      ]
     },
     "execution_count": 8,
     "metadata": {},
     "output_type": "execute_result"
    }
   ],
   "source": [
    "df.nunique()"
   ]
  },
  {
   "cell_type": "markdown",
   "id": "68e9c25d",
   "metadata": {
    "papermill": {
     "duration": 0.010802,
     "end_time": "2022-10-21T18:23:09.364151",
     "exception": false,
     "start_time": "2022-10-21T18:23:09.353349",
     "status": "completed"
    },
    "tags": []
   },
   "source": [
    "<a id=\"section32\"></a>\n",
    "<div style=\"font-size:15px; font-family:verdana;\"><h3 style=\"font-family:verdana;\">Null Value Distribution:</h3>"
   ]
  },
  {
   "cell_type": "code",
   "execution_count": 10,
   "id": "b74ae3cd",
   "metadata": {
    "execution": {
     "iopub.execute_input": "2022-10-21T18:23:09.390794Z",
     "iopub.status.busy": "2022-10-21T18:23:09.390101Z",
     "iopub.status.idle": "2022-10-21T18:23:09.401005Z",
     "shell.execute_reply": "2022-10-21T18:23:09.399843Z"
    },
    "papermill": {
     "duration": 0.026456,
     "end_time": "2022-10-21T18:23:09.403443",
     "exception": false,
     "start_time": "2022-10-21T18:23:09.376987",
     "status": "completed"
    },
    "tags": []
   },
   "outputs": [
    {
     "data": {
      "text/plain": [
       "credit_score        0\n",
       "country             0\n",
       "gender              0\n",
       "age                 0\n",
       "tenure              0\n",
       "balance             0\n",
       "products_number     0\n",
       "credit_card         0\n",
       "active_member       0\n",
       "estimated_salary    0\n",
       "churn               0\n",
       "dtype: int64"
      ]
     },
     "execution_count": 10,
     "metadata": {},
     "output_type": "execute_result"
    }
   ],
   "source": [
    "df.isnull().sum()"
   ]
  },
  {
   "cell_type": "markdown",
   "id": "6ab4aae5",
   "metadata": {
    "papermill": {
     "duration": 0.01228,
     "end_time": "2022-10-21T18:23:10.113764",
     "exception": false,
     "start_time": "2022-10-21T18:23:10.101484",
     "status": "completed"
    },
    "tags": []
   },
   "source": [
    "<a id=\"section33\"></a>\n",
    "<div style=\"font-size:15px; font-family:verdana;\"><h3 style=\"font-family:verdana;\">Data Cleaning:</h3>\n",
    "    <p style = \"font-family:verdana;\">We do not have any missing value in the dataset hence now we can analyse the data much better and build accurate models for prediction. If the dataset would contain missing values, check the below given links to help you know the process of Data cleaning :</p>\n",
    "        <ol>\n",
    "    <li><a href=\"https://www.geeksforgeeks.org/how-to-fill-nan-values-with-mean-in-pandas/\">Geek for Geeks</a></li>\n",
    "    </ol>\n",
    "        "
   ]
  },
  {
   "cell_type": "markdown",
   "id": "05c1b612",
   "metadata": {
    "papermill": {
     "duration": 0.01202,
     "end_time": "2022-10-21T18:23:10.173955",
     "exception": false,
     "start_time": "2022-10-21T18:23:10.161935",
     "status": "completed"
    },
    "tags": []
   },
   "source": [
    "<a id=\"section34\"></a>\n",
    "<div style=\"font-family:verdana;\"><h3 style=\"font-family:verdana;\">⭐Important Observations :</h3>\n",
    "    <div class=\"alert alert-block alert-info\">\n",
    "* <i> There are total of <code>12</code> columns and <code>10000</code> rows in data.</i><br>\n",
    "* <i> We drop <code>Customer ID</code> feature as it is of no use.</i><br>\n",
    "* <i> <code>Churn</code> is the Target Variable.</i><br>\n",
    "* <i> The data is of people from 3 countries, which are <code>France</code>,<code>Germany</code> and <code>Spain</code>.</i><br>\n",
    "    </div>\n",
    "    </div>"
   ]
  },
  {
   "cell_type": "markdown",
   "id": "a47bd50c",
   "metadata": {
    "papermill": {
     "duration": 0.011781,
     "end_time": "2022-10-21T18:23:10.198434",
     "exception": false,
     "start_time": "2022-10-21T18:23:10.186653",
     "status": "completed"
    },
    "tags": []
   },
   "source": [
    "<a id=\"section4\"></a>\n",
    "# Data Visualization :"
   ]
  },
  {
   "cell_type": "markdown",
   "id": "14d2865e",
   "metadata": {
    "papermill": {
     "duration": 0.011636,
     "end_time": "2022-10-21T18:23:10.222591",
     "exception": false,
     "start_time": "2022-10-21T18:23:10.210955",
     "status": "completed"
    },
    "tags": []
   },
   "source": [
    "<a id=\"section41\"></a>\n",
    "<div style=\"font-size:15px; font-family:verdana;\"><h3 style=\"font-family:verdana;\">Content Analysis with help of Target Variable :</h3>"
   ]
  },
  {
   "cell_type": "code",
   "execution_count": 12,
   "id": "4c713556",
   "metadata": {
    "execution": {
     "iopub.execute_input": "2022-10-21T18:23:13.002165Z",
     "iopub.status.busy": "2022-10-21T18:23:13.001737Z",
     "iopub.status.idle": "2022-10-21T18:23:13.305280Z",
     "shell.execute_reply": "2022-10-21T18:23:13.303834Z"
    },
    "papermill": {
     "duration": 0.656452,
     "end_time": "2022-10-21T18:23:13.309672",
     "exception": false,
     "start_time": "2022-10-21T18:23:12.653220",
     "status": "completed"
    },
    "tags": []
   },
   "outputs": [
    {
     "data": {
      "image/png": "[encoded data removed]",
      "text/plain": [
       "<Figure size 800x600 with 1 Axes>"
      ]
     },
     "metadata": {},
     "output_type": "display_data"
    }
   ],
   "source": [
    "sizes = [df.churn[df['churn']==1].count(), df.churn[df['churn']==0].count()]\n",
    "labels = ['Churned', 'Not Churned']\n",
    "figure, axes = plt.subplots(figsize=(8, 6))\n",
    "axes.pie(sizes, labels=labels,shadow=True,autopct = '%1.2f%%')\n",
    "plt.legend()\n",
    "plt.title(\"Churned VS Not Churned\", size = 15)\n",
    "plt.show()"
   ]
  },
  {
   "cell_type": "markdown",
   "id": "e357afcb",
   "metadata": {
    "papermill": {
     "duration": 0.455006,
     "end_time": "2022-10-21T18:23:18.648990",
     "exception": false,
     "start_time": "2022-10-21T18:23:18.193984",
     "status": "completed"
    },
    "tags": []
   },
   "source": [
    "<a id=\"section42\"></a>\n",
    "<div style=\"font-size:15px; font-family:verdana;\"><h3 style=\"font-family:verdana;\">HeatMap Analysis:</h3>\n"
   ]
  },
  {
   "cell_type": "code",
   "execution_count": 13,
   "id": "56db3e8f",
   "metadata": {},
   "outputs": [
    {
     "data": {
      "text/html": [
       "<div>\n",
       "<style scoped>\n",
       "    .dataframe tbody tr th:only-of-type {\n",
       "        vertical-align: middle;\n",
       "    }\n",
       "\n",
       "    .dataframe tbody tr th {\n",
       "        vertical-align: top;\n",
       "    }\n",
       "\n",
       "    .dataframe thead th {\n",
       "        text-align: right;\n",
       "    }\n",
       "</style>\n",
       "<table border=\"1\" class=\"dataframe\">\n",
       "  <thead>\n",
       "    <tr style=\"text-align: right;\">\n",
       "      <th></th>\n",
       "      <th>credit_score</th>\n",
       "      <th>country</th>\n",
       "      <th>gender</th>\n",
       "      <th>age</th>\n",
       "      <th>tenure</th>\n",
       "      <th>balance</th>\n",
       "      <th>products_number</th>\n",
       "      <th>credit_card</th>\n",
       "      <th>active_member</th>\n",
       "      <th>estimated_salary</th>\n",
       "      <th>churn</th>\n",
       "    </tr>\n",
       "  </thead>\n",
       "  <tbody>\n",
       "    <tr>\n",
       "      <th>0</th>\n",
       "      <td>619</td>\n",
       "      <td>France</td>\n",
       "      <td>Female</td>\n",
       "      <td>42</td>\n",
       "      <td>2</td>\n",
       "      <td>0.00</td>\n",
       "      <td>1</td>\n",
       "      <td>1</td>\n",
       "      <td>1</td>\n",
       "      <td>101348.88</td>\n",
       "      <td>1</td>\n",
       "    </tr>\n",
       "    <tr>\n",
       "      <th>1</th>\n",
       "      <td>608</td>\n",
       "      <td>Spain</td>\n",
       "      <td>Female</td>\n",
       "      <td>41</td>\n",
       "      <td>1</td>\n",
       "      <td>83807.86</td>\n",
       "      <td>1</td>\n",
       "      <td>0</td>\n",
       "      <td>1</td>\n",
       "      <td>112542.58</td>\n",
       "      <td>0</td>\n",
       "    </tr>\n",
       "    <tr>\n",
       "      <th>2</th>\n",
       "      <td>502</td>\n",
       "      <td>France</td>\n",
       "      <td>Female</td>\n",
       "      <td>42</td>\n",
       "      <td>8</td>\n",
       "      <td>159660.80</td>\n",
       "      <td>3</td>\n",
       "      <td>1</td>\n",
       "      <td>0</td>\n",
       "      <td>113931.57</td>\n",
       "      <td>1</td>\n",
       "    </tr>\n",
       "    <tr>\n",
       "      <th>3</th>\n",
       "      <td>699</td>\n",
       "      <td>France</td>\n",
       "      <td>Female</td>\n",
       "      <td>39</td>\n",
       "      <td>1</td>\n",
       "      <td>0.00</td>\n",
       "      <td>2</td>\n",
       "      <td>0</td>\n",
       "      <td>0</td>\n",
       "      <td>93826.63</td>\n",
       "      <td>0</td>\n",
       "    </tr>\n",
       "    <tr>\n",
       "      <th>4</th>\n",
       "      <td>850</td>\n",
       "      <td>Spain</td>\n",
       "      <td>Female</td>\n",
       "      <td>43</td>\n",
       "      <td>2</td>\n",
       "      <td>125510.82</td>\n",
       "      <td>1</td>\n",
       "      <td>1</td>\n",
       "      <td>1</td>\n",
       "      <td>79084.10</td>\n",
       "      <td>0</td>\n",
       "    </tr>\n",
       "  </tbody>\n",
       "</table>\n",
       "</div>"
      ],
      "text/plain": [
       "   credit_score country  gender  age  tenure    balance  products_number  \\\n",
       "0           619  France  Female   42       2       0.00                1   \n",
       "1           608   Spain  Female   41       1   83807.86                1   \n",
       "2           502  France  Female   42       8  159660.80                3   \n",
       "3           699  France  Female   39       1       0.00                2   \n",
       "4           850   Spain  Female   43       2  125510.82                1   \n",
       "\n",
       "   credit_card  active_member  estimated_salary  churn  \n",
       "0            1              1         101348.88      1  \n",
       "1            0              1         112542.58      0  \n",
       "2            1              0         113931.57      1  \n",
       "3            0              0          93826.63      0  \n",
       "4            1              1          79084.10      0  "
      ]
     },
     "execution_count": 13,
     "metadata": {},
     "output_type": "execute_result"
    }
   ],
   "source": [
    "df.head()"
   ]
  },
  {
   "cell_type": "code",
   "execution_count": 14,
   "id": "aed5b9c4",
   "metadata": {},
   "outputs": [
    {
     "data": {
      "text/plain": [
       "Index(['credit_score', 'country', 'gender', 'age', 'tenure', 'balance',\n",
       "       'products_number', 'credit_card', 'active_member', 'estimated_salary',\n",
       "       'churn'],\n",
       "      dtype='object')"
      ]
     },
     "execution_count": 14,
     "metadata": {},
     "output_type": "execute_result"
    }
   ],
   "source": [
    "df.columns"
   ]
  },
  {
   "cell_type": "code",
   "execution_count": 15,
   "id": "07817b14",
   "metadata": {},
   "outputs": [
    {
     "data": {
      "text/html": [
       "<div>\n",
       "<style scoped>\n",
       "    .dataframe tbody tr th:only-of-type {\n",
       "        vertical-align: middle;\n",
       "    }\n",
       "\n",
       "    .dataframe tbody tr th {\n",
       "        vertical-align: top;\n",
       "    }\n",
       "\n",
       "    .dataframe thead th {\n",
       "        text-align: right;\n",
       "    }\n",
       "</style>\n",
       "<table border=\"1\" class=\"dataframe\">\n",
       "  <thead>\n",
       "    <tr style=\"text-align: right;\">\n",
       "      <th></th>\n",
       "      <th>credit_score</th>\n",
       "      <th>age</th>\n",
       "      <th>balance</th>\n",
       "      <th>estimated_salary</th>\n",
       "    </tr>\n",
       "  </thead>\n",
       "  <tbody>\n",
       "    <tr>\n",
       "      <th>credit_score</th>\n",
       "      <td>1.000000</td>\n",
       "      <td>-0.003965</td>\n",
       "      <td>0.006268</td>\n",
       "      <td>-0.001384</td>\n",
       "    </tr>\n",
       "    <tr>\n",
       "      <th>age</th>\n",
       "      <td>-0.003965</td>\n",
       "      <td>1.000000</td>\n",
       "      <td>0.028308</td>\n",
       "      <td>-0.007201</td>\n",
       "    </tr>\n",
       "    <tr>\n",
       "      <th>balance</th>\n",
       "      <td>0.006268</td>\n",
       "      <td>0.028308</td>\n",
       "      <td>1.000000</td>\n",
       "      <td>0.012797</td>\n",
       "    </tr>\n",
       "    <tr>\n",
       "      <th>estimated_salary</th>\n",
       "      <td>-0.001384</td>\n",
       "      <td>-0.007201</td>\n",
       "      <td>0.012797</td>\n",
       "      <td>1.000000</td>\n",
       "    </tr>\n",
       "  </tbody>\n",
       "</table>\n",
       "</div>"
      ],
      "text/plain": [
       "                  credit_score       age   balance  estimated_salary\n",
       "credit_score          1.000000 -0.003965  0.006268         -0.001384\n",
       "age                  -0.003965  1.000000  0.028308         -0.007201\n",
       "balance               0.006268  0.028308  1.000000          0.012797\n",
       "estimated_salary     -0.001384 -0.007201  0.012797          1.000000"
      ]
     },
     "execution_count": 15,
     "metadata": {},
     "output_type": "execute_result"
    }
   ],
   "source": [
    "df[['credit_score', 'age', 'balance','estimated_salary' ]].corr()"
   ]
  },
  {
   "cell_type": "code",
   "execution_count": 16,
   "id": "0c61cdb8",
   "metadata": {
    "execution": {
     "iopub.execute_input": "2022-10-21T18:23:19.565094Z",
     "iopub.status.busy": "2022-10-21T18:23:19.564369Z",
     "iopub.status.idle": "2022-10-21T18:23:20.404005Z",
     "shell.execute_reply": "2022-10-21T18:23:20.402601Z"
    },
    "papermill": {
     "duration": 1.29962,
     "end_time": "2022-10-21T18:23:20.406794",
     "exception": false,
     "start_time": "2022-10-21T18:23:19.107174",
     "status": "completed"
    },
    "tags": []
   },
   "outputs": [
    {
     "data": {
      "image/png": "[encoded data removed]",
      "text/plain": [
       "<Figure size 800x400 with 2 Axes>"
      ]
     },
     "metadata": {},
     "output_type": "display_data"
    }
   ],
   "source": [
    "plt.figure(figsize=(8,4))\n",
    "sns.heatmap(data=df[['credit_score', 'age', 'balance','estimated_salary' ]].corr(), annot=True,cmap = \"GnBu\")\n",
    "plt.show()"
   ]
  },
  {
   "cell_type": "markdown",
   "id": "fe476327",
   "metadata": {},
   "source": [
    "\n",
    "<a id=\"4\"></a>\n",
    "<div style=\"padding:20px;\n",
    "            color:white;\n",
    "            margin:10;\n",
    "            font-size:170%;\n",
    "            text-align:left;\n",
    "            display:fill;\n",
    "            border-radius:5px;\n",
    "            background-color:#222222;\n",
    "            overflow:hidden;\n",
    "            font-weight:700\">5 <span style='color:#CDA63A'>|</span>Data preprocessing and feature engineering</div>\n"
   ]
  },
  {
   "cell_type": "code",
   "execution_count": 17,
   "id": "3757de79",
   "metadata": {},
   "outputs": [
    {
     "data": {
      "text/html": [
       "<div>\n",
       "<style scoped>\n",
       "    .dataframe tbody tr th:only-of-type {\n",
       "        vertical-align: middle;\n",
       "    }\n",
       "\n",
       "    .dataframe tbody tr th {\n",
       "        vertical-align: top;\n",
       "    }\n",
       "\n",
       "    .dataframe thead th {\n",
       "        text-align: right;\n",
       "    }\n",
       "</style>\n",
       "<table border=\"1\" class=\"dataframe\">\n",
       "  <thead>\n",
       "    <tr style=\"text-align: right;\">\n",
       "      <th></th>\n",
       "      <th>credit_score</th>\n",
       "      <th>country</th>\n",
       "      <th>gender</th>\n",
       "      <th>age</th>\n",
       "      <th>tenure</th>\n",
       "      <th>balance</th>\n",
       "      <th>products_number</th>\n",
       "      <th>credit_card</th>\n",
       "      <th>active_member</th>\n",
       "      <th>estimated_salary</th>\n",
       "      <th>churn</th>\n",
       "    </tr>\n",
       "  </thead>\n",
       "  <tbody>\n",
       "    <tr>\n",
       "      <th>0</th>\n",
       "      <td>619</td>\n",
       "      <td>France</td>\n",
       "      <td>Female</td>\n",
       "      <td>42</td>\n",
       "      <td>2</td>\n",
       "      <td>0.00</td>\n",
       "      <td>1</td>\n",
       "      <td>1</td>\n",
       "      <td>1</td>\n",
       "      <td>101348.88</td>\n",
       "      <td>1</td>\n",
       "    </tr>\n",
       "    <tr>\n",
       "      <th>1</th>\n",
       "      <td>608</td>\n",
       "      <td>Spain</td>\n",
       "      <td>Female</td>\n",
       "      <td>41</td>\n",
       "      <td>1</td>\n",
       "      <td>83807.86</td>\n",
       "      <td>1</td>\n",
       "      <td>0</td>\n",
       "      <td>1</td>\n",
       "      <td>112542.58</td>\n",
       "      <td>0</td>\n",
       "    </tr>\n",
       "    <tr>\n",
       "      <th>2</th>\n",
       "      <td>502</td>\n",
       "      <td>France</td>\n",
       "      <td>Female</td>\n",
       "      <td>42</td>\n",
       "      <td>8</td>\n",
       "      <td>159660.80</td>\n",
       "      <td>3</td>\n",
       "      <td>1</td>\n",
       "      <td>0</td>\n",
       "      <td>113931.57</td>\n",
       "      <td>1</td>\n",
       "    </tr>\n",
       "    <tr>\n",
       "      <th>3</th>\n",
       "      <td>699</td>\n",
       "      <td>France</td>\n",
       "      <td>Female</td>\n",
       "      <td>39</td>\n",
       "      <td>1</td>\n",
       "      <td>0.00</td>\n",
       "      <td>2</td>\n",
       "      <td>0</td>\n",
       "      <td>0</td>\n",
       "      <td>93826.63</td>\n",
       "      <td>0</td>\n",
       "    </tr>\n",
       "    <tr>\n",
       "      <th>4</th>\n",
       "      <td>850</td>\n",
       "      <td>Spain</td>\n",
       "      <td>Female</td>\n",
       "      <td>43</td>\n",
       "      <td>2</td>\n",
       "      <td>125510.82</td>\n",
       "      <td>1</td>\n",
       "      <td>1</td>\n",
       "      <td>1</td>\n",
       "      <td>79084.10</td>\n",
       "      <td>0</td>\n",
       "    </tr>\n",
       "  </tbody>\n",
       "</table>\n",
       "</div>"
      ],
      "text/plain": [
       "   credit_score country  gender  age  tenure    balance  products_number  \\\n",
       "0           619  France  Female   42       2       0.00                1   \n",
       "1           608   Spain  Female   41       1   83807.86                1   \n",
       "2           502  France  Female   42       8  159660.80                3   \n",
       "3           699  France  Female   39       1       0.00                2   \n",
       "4           850   Spain  Female   43       2  125510.82                1   \n",
       "\n",
       "   credit_card  active_member  estimated_salary  churn  \n",
       "0            1              1         101348.88      1  \n",
       "1            0              1         112542.58      0  \n",
       "2            1              0         113931.57      1  \n",
       "3            0              0          93826.63      0  \n",
       "4            1              1          79084.10      0  "
      ]
     },
     "execution_count": 17,
     "metadata": {},
     "output_type": "execute_result"
    }
   ],
   "source": [
    "df.head()"
   ]
  },
  {
   "cell_type": "code",
   "execution_count": 18,
   "id": "6ba50053",
   "metadata": {},
   "outputs": [],
   "source": [
    "df.replace('Male',1,inplace=True)\n",
    "df.replace('Female',0,inplace=True)"
   ]
  },
  {
   "cell_type": "markdown",
   "id": "186cf575",
   "metadata": {},
   "source": [
    "<a id=\"4.1\"></a>\n",
    "# <b>5.1 <span style='color:#00008B'>Scaling</span></b>\n",
    "**feature scaling** is not required for logistic regression\n"
   ]
  },
  {
   "cell_type": "markdown",
   "id": "a8721043",
   "metadata": {},
   "source": [
    "<a id=\"4.2\"></a>\n",
    "# <b>5.2 <span style='color:#00008B'>Encoding Categorical Variables</span></b>\n"
   ]
  },
  {
   "cell_type": "markdown",
   "id": "cdd4ebb7",
   "metadata": {},
   "source": [
    "<a id=\"4.2.1\"></a>\n",
    "## <b>5.2.1 <span style='color:#00008B'>Label Encoding or two Hot encoding</span></b>"
   ]
  },
  {
   "cell_type": "code",
   "execution_count": 19,
   "id": "f27037f0",
   "metadata": {},
   "outputs": [
    {
     "data": {
      "text/plain": [
       "Index(['credit_score', 'country', 'gender', 'age', 'tenure', 'balance',\n",
       "       'products_number', 'credit_card', 'active_member', 'estimated_salary',\n",
       "       'churn'],\n",
       "      dtype='object')"
      ]
     },
     "execution_count": 19,
     "metadata": {},
     "output_type": "execute_result"
    }
   ],
   "source": [
    "df.columns"
   ]
  },
  {
   "cell_type": "markdown",
   "id": "2e521ff0",
   "metadata": {},
   "source": [
    "<a id=\"4.2.2\"></a>\n",
    "## <b>5.2.2 <span style='color:#00008B'>One-Hot Encoding</span></b>\n"
   ]
  },
  {
   "cell_type": "code",
   "execution_count": 20,
   "id": "a759f7e3",
   "metadata": {},
   "outputs": [],
   "source": [
    "df = pd.get_dummies(df, columns=['country'])\n"
   ]
  },
  {
   "cell_type": "code",
   "execution_count": 21,
   "id": "f8f85f48",
   "metadata": {},
   "outputs": [
    {
     "data": {
      "text/html": [
       "<div>\n",
       "<style scoped>\n",
       "    .dataframe tbody tr th:only-of-type {\n",
       "        vertical-align: middle;\n",
       "    }\n",
       "\n",
       "    .dataframe tbody tr th {\n",
       "        vertical-align: top;\n",
       "    }\n",
       "\n",
       "    .dataframe thead th {\n",
       "        text-align: right;\n",
       "    }\n",
       "</style>\n",
       "<table border=\"1\" class=\"dataframe\">\n",
       "  <thead>\n",
       "    <tr style=\"text-align: right;\">\n",
       "      <th></th>\n",
       "      <th>credit_score</th>\n",
       "      <th>gender</th>\n",
       "      <th>age</th>\n",
       "      <th>tenure</th>\n",
       "      <th>balance</th>\n",
       "      <th>products_number</th>\n",
       "      <th>credit_card</th>\n",
       "      <th>active_member</th>\n",
       "      <th>estimated_salary</th>\n",
       "      <th>churn</th>\n",
       "      <th>country_France</th>\n",
       "      <th>country_Germany</th>\n",
       "      <th>country_Spain</th>\n",
       "    </tr>\n",
       "  </thead>\n",
       "  <tbody>\n",
       "    <tr>\n",
       "      <th>0</th>\n",
       "      <td>619</td>\n",
       "      <td>0</td>\n",
       "      <td>42</td>\n",
       "      <td>2</td>\n",
       "      <td>0.00</td>\n",
       "      <td>1</td>\n",
       "      <td>1</td>\n",
       "      <td>1</td>\n",
       "      <td>101348.88</td>\n",
       "      <td>1</td>\n",
       "      <td>1</td>\n",
       "      <td>0</td>\n",
       "      <td>0</td>\n",
       "    </tr>\n",
       "    <tr>\n",
       "      <th>1</th>\n",
       "      <td>608</td>\n",
       "      <td>0</td>\n",
       "      <td>41</td>\n",
       "      <td>1</td>\n",
       "      <td>83807.86</td>\n",
       "      <td>1</td>\n",
       "      <td>0</td>\n",
       "      <td>1</td>\n",
       "      <td>112542.58</td>\n",
       "      <td>0</td>\n",
       "      <td>0</td>\n",
       "      <td>0</td>\n",
       "      <td>1</td>\n",
       "    </tr>\n",
       "    <tr>\n",
       "      <th>2</th>\n",
       "      <td>502</td>\n",
       "      <td>0</td>\n",
       "      <td>42</td>\n",
       "      <td>8</td>\n",
       "      <td>159660.80</td>\n",
       "      <td>3</td>\n",
       "      <td>1</td>\n",
       "      <td>0</td>\n",
       "      <td>113931.57</td>\n",
       "      <td>1</td>\n",
       "      <td>1</td>\n",
       "      <td>0</td>\n",
       "      <td>0</td>\n",
       "    </tr>\n",
       "    <tr>\n",
       "      <th>3</th>\n",
       "      <td>699</td>\n",
       "      <td>0</td>\n",
       "      <td>39</td>\n",
       "      <td>1</td>\n",
       "      <td>0.00</td>\n",
       "      <td>2</td>\n",
       "      <td>0</td>\n",
       "      <td>0</td>\n",
       "      <td>93826.63</td>\n",
       "      <td>0</td>\n",
       "      <td>1</td>\n",
       "      <td>0</td>\n",
       "      <td>0</td>\n",
       "    </tr>\n",
       "    <tr>\n",
       "      <th>4</th>\n",
       "      <td>850</td>\n",
       "      <td>0</td>\n",
       "      <td>43</td>\n",
       "      <td>2</td>\n",
       "      <td>125510.82</td>\n",
       "      <td>1</td>\n",
       "      <td>1</td>\n",
       "      <td>1</td>\n",
       "      <td>79084.10</td>\n",
       "      <td>0</td>\n",
       "      <td>0</td>\n",
       "      <td>0</td>\n",
       "      <td>1</td>\n",
       "    </tr>\n",
       "    <tr>\n",
       "      <th>...</th>\n",
       "      <td>...</td>\n",
       "      <td>...</td>\n",
       "      <td>...</td>\n",
       "      <td>...</td>\n",
       "      <td>...</td>\n",
       "      <td>...</td>\n",
       "      <td>...</td>\n",
       "      <td>...</td>\n",
       "      <td>...</td>\n",
       "      <td>...</td>\n",
       "      <td>...</td>\n",
       "      <td>...</td>\n",
       "      <td>...</td>\n",
       "    </tr>\n",
       "    <tr>\n",
       "      <th>9995</th>\n",
       "      <td>771</td>\n",
       "      <td>1</td>\n",
       "      <td>39</td>\n",
       "      <td>5</td>\n",
       "      <td>0.00</td>\n",
       "      <td>2</td>\n",
       "      <td>1</td>\n",
       "      <td>0</td>\n",
       "      <td>96270.64</td>\n",
       "      <td>0</td>\n",
       "      <td>1</td>\n",
       "      <td>0</td>\n",
       "      <td>0</td>\n",
       "    </tr>\n",
       "    <tr>\n",
       "      <th>9996</th>\n",
       "      <td>516</td>\n",
       "      <td>1</td>\n",
       "      <td>35</td>\n",
       "      <td>10</td>\n",
       "      <td>57369.61</td>\n",
       "      <td>1</td>\n",
       "      <td>1</td>\n",
       "      <td>1</td>\n",
       "      <td>101699.77</td>\n",
       "      <td>0</td>\n",
       "      <td>1</td>\n",
       "      <td>0</td>\n",
       "      <td>0</td>\n",
       "    </tr>\n",
       "    <tr>\n",
       "      <th>9997</th>\n",
       "      <td>709</td>\n",
       "      <td>0</td>\n",
       "      <td>36</td>\n",
       "      <td>7</td>\n",
       "      <td>0.00</td>\n",
       "      <td>1</td>\n",
       "      <td>0</td>\n",
       "      <td>1</td>\n",
       "      <td>42085.58</td>\n",
       "      <td>1</td>\n",
       "      <td>1</td>\n",
       "      <td>0</td>\n",
       "      <td>0</td>\n",
       "    </tr>\n",
       "    <tr>\n",
       "      <th>9998</th>\n",
       "      <td>772</td>\n",
       "      <td>1</td>\n",
       "      <td>42</td>\n",
       "      <td>3</td>\n",
       "      <td>75075.31</td>\n",
       "      <td>2</td>\n",
       "      <td>1</td>\n",
       "      <td>0</td>\n",
       "      <td>92888.52</td>\n",
       "      <td>1</td>\n",
       "      <td>0</td>\n",
       "      <td>1</td>\n",
       "      <td>0</td>\n",
       "    </tr>\n",
       "    <tr>\n",
       "      <th>9999</th>\n",
       "      <td>792</td>\n",
       "      <td>0</td>\n",
       "      <td>28</td>\n",
       "      <td>4</td>\n",
       "      <td>130142.79</td>\n",
       "      <td>1</td>\n",
       "      <td>1</td>\n",
       "      <td>0</td>\n",
       "      <td>38190.78</td>\n",
       "      <td>0</td>\n",
       "      <td>1</td>\n",
       "      <td>0</td>\n",
       "      <td>0</td>\n",
       "    </tr>\n",
       "  </tbody>\n",
       "</table>\n",
       "<p>10000 rows × 13 columns</p>\n",
       "</div>"
      ],
      "text/plain": [
       "      credit_score  gender  age  tenure    balance  products_number  \\\n",
       "0              619       0   42       2       0.00                1   \n",
       "1              608       0   41       1   83807.86                1   \n",
       "2              502       0   42       8  159660.80                3   \n",
       "3              699       0   39       1       0.00                2   \n",
       "4              850       0   43       2  125510.82                1   \n",
       "...            ...     ...  ...     ...        ...              ...   \n",
       "9995           771       1   39       5       0.00                2   \n",
       "9996           516       1   35      10   57369.61                1   \n",
       "9997           709       0   36       7       0.00                1   \n",
       "9998           772       1   42       3   75075.31                2   \n",
       "9999           792       0   28       4  130142.79                1   \n",
       "\n",
       "      credit_card  active_member  estimated_salary  churn  country_France  \\\n",
       "0               1              1         101348.88      1               1   \n",
       "1               0              1         112542.58      0               0   \n",
       "2               1              0         113931.57      1               1   \n",
       "3               0              0          93826.63      0               1   \n",
       "4               1              1          79084.10      0               0   \n",
       "...           ...            ...               ...    ...             ...   \n",
       "9995            1              0          96270.64      0               1   \n",
       "9996            1              1         101699.77      0               1   \n",
       "9997            0              1          42085.58      1               1   \n",
       "9998            1              0          92888.52      1               0   \n",
       "9999            1              0          38190.78      0               1   \n",
       "\n",
       "      country_Germany  country_Spain  \n",
       "0                   0              0  \n",
       "1                   0              1  \n",
       "2                   0              0  \n",
       "3                   0              0  \n",
       "4                   0              1  \n",
       "...               ...            ...  \n",
       "9995                0              0  \n",
       "9996                0              0  \n",
       "9997                0              0  \n",
       "9998                1              0  \n",
       "9999                0              0  \n",
       "\n",
       "[10000 rows x 13 columns]"
      ]
     },
     "execution_count": 21,
     "metadata": {},
     "output_type": "execute_result"
    }
   ],
   "source": [
    "df"
   ]
  },
  {
   "cell_type": "markdown",
   "id": "b499a86a",
   "metadata": {},
   "source": [
    "<a id=\"4.2.2\"></a>\n",
    "## <b>4.2.2 <span style='color:#00008B'>Multicollinearity</span></b>"
   ]
  },
  {
   "cell_type": "code",
   "execution_count": 22,
   "id": "86ea949e",
   "metadata": {},
   "outputs": [
    {
     "data": {
      "text/html": [
       "<div>\n",
       "<style scoped>\n",
       "    .dataframe tbody tr th:only-of-type {\n",
       "        vertical-align: middle;\n",
       "    }\n",
       "\n",
       "    .dataframe tbody tr th {\n",
       "        vertical-align: top;\n",
       "    }\n",
       "\n",
       "    .dataframe thead th {\n",
       "        text-align: right;\n",
       "    }\n",
       "</style>\n",
       "<table border=\"1\" class=\"dataframe\">\n",
       "  <thead>\n",
       "    <tr style=\"text-align: right;\">\n",
       "      <th></th>\n",
       "      <th>credit_score</th>\n",
       "      <th>gender</th>\n",
       "      <th>age</th>\n",
       "      <th>tenure</th>\n",
       "      <th>balance</th>\n",
       "      <th>products_number</th>\n",
       "      <th>credit_card</th>\n",
       "      <th>active_member</th>\n",
       "      <th>estimated_salary</th>\n",
       "      <th>churn</th>\n",
       "      <th>country_France</th>\n",
       "      <th>country_Germany</th>\n",
       "      <th>country_Spain</th>\n",
       "    </tr>\n",
       "  </thead>\n",
       "  <tbody>\n",
       "    <tr>\n",
       "      <th>credit_score</th>\n",
       "      <td>1.000000</td>\n",
       "      <td>-0.002857</td>\n",
       "      <td>-0.003965</td>\n",
       "      <td>0.000842</td>\n",
       "      <td>0.006268</td>\n",
       "      <td>0.012238</td>\n",
       "      <td>-0.005458</td>\n",
       "      <td>0.025651</td>\n",
       "      <td>-0.001384</td>\n",
       "      <td>-0.027094</td>\n",
       "      <td>-0.008928</td>\n",
       "      <td>0.005538</td>\n",
       "      <td>0.004780</td>\n",
       "    </tr>\n",
       "    <tr>\n",
       "      <th>gender</th>\n",
       "      <td>-0.002857</td>\n",
       "      <td>1.000000</td>\n",
       "      <td>-0.027544</td>\n",
       "      <td>0.014733</td>\n",
       "      <td>0.012087</td>\n",
       "      <td>-0.021859</td>\n",
       "      <td>0.005766</td>\n",
       "      <td>0.022544</td>\n",
       "      <td>-0.008112</td>\n",
       "      <td>-0.106512</td>\n",
       "      <td>0.006772</td>\n",
       "      <td>-0.024628</td>\n",
       "      <td>0.016889</td>\n",
       "    </tr>\n",
       "    <tr>\n",
       "      <th>age</th>\n",
       "      <td>-0.003965</td>\n",
       "      <td>-0.027544</td>\n",
       "      <td>1.000000</td>\n",
       "      <td>-0.009997</td>\n",
       "      <td>0.028308</td>\n",
       "      <td>-0.030680</td>\n",
       "      <td>-0.011721</td>\n",
       "      <td>0.085472</td>\n",
       "      <td>-0.007201</td>\n",
       "      <td>0.285323</td>\n",
       "      <td>-0.039208</td>\n",
       "      <td>0.046897</td>\n",
       "      <td>-0.001685</td>\n",
       "    </tr>\n",
       "    <tr>\n",
       "      <th>tenure</th>\n",
       "      <td>0.000842</td>\n",
       "      <td>0.014733</td>\n",
       "      <td>-0.009997</td>\n",
       "      <td>1.000000</td>\n",
       "      <td>-0.012254</td>\n",
       "      <td>0.013444</td>\n",
       "      <td>0.022583</td>\n",
       "      <td>-0.028362</td>\n",
       "      <td>0.007784</td>\n",
       "      <td>-0.014001</td>\n",
       "      <td>-0.002848</td>\n",
       "      <td>-0.000567</td>\n",
       "      <td>0.003868</td>\n",
       "    </tr>\n",
       "    <tr>\n",
       "      <th>balance</th>\n",
       "      <td>0.006268</td>\n",
       "      <td>0.012087</td>\n",
       "      <td>0.028308</td>\n",
       "      <td>-0.012254</td>\n",
       "      <td>1.000000</td>\n",
       "      <td>-0.304180</td>\n",
       "      <td>-0.014858</td>\n",
       "      <td>-0.010084</td>\n",
       "      <td>0.012797</td>\n",
       "      <td>0.118533</td>\n",
       "      <td>-0.231329</td>\n",
       "      <td>0.401110</td>\n",
       "      <td>-0.134892</td>\n",
       "    </tr>\n",
       "    <tr>\n",
       "      <th>products_number</th>\n",
       "      <td>0.012238</td>\n",
       "      <td>-0.021859</td>\n",
       "      <td>-0.030680</td>\n",
       "      <td>0.013444</td>\n",
       "      <td>-0.304180</td>\n",
       "      <td>1.000000</td>\n",
       "      <td>0.003183</td>\n",
       "      <td>0.009612</td>\n",
       "      <td>0.014204</td>\n",
       "      <td>-0.047820</td>\n",
       "      <td>0.001230</td>\n",
       "      <td>-0.010419</td>\n",
       "      <td>0.009039</td>\n",
       "    </tr>\n",
       "    <tr>\n",
       "      <th>credit_card</th>\n",
       "      <td>-0.005458</td>\n",
       "      <td>0.005766</td>\n",
       "      <td>-0.011721</td>\n",
       "      <td>0.022583</td>\n",
       "      <td>-0.014858</td>\n",
       "      <td>0.003183</td>\n",
       "      <td>1.000000</td>\n",
       "      <td>-0.011866</td>\n",
       "      <td>-0.009933</td>\n",
       "      <td>-0.007138</td>\n",
       "      <td>0.002467</td>\n",
       "      <td>0.010577</td>\n",
       "      <td>-0.013480</td>\n",
       "    </tr>\n",
       "    <tr>\n",
       "      <th>active_member</th>\n",
       "      <td>0.025651</td>\n",
       "      <td>0.022544</td>\n",
       "      <td>0.085472</td>\n",
       "      <td>-0.028362</td>\n",
       "      <td>-0.010084</td>\n",
       "      <td>0.009612</td>\n",
       "      <td>-0.011866</td>\n",
       "      <td>1.000000</td>\n",
       "      <td>-0.011421</td>\n",
       "      <td>-0.156128</td>\n",
       "      <td>0.003317</td>\n",
       "      <td>-0.020486</td>\n",
       "      <td>0.016732</td>\n",
       "    </tr>\n",
       "    <tr>\n",
       "      <th>estimated_salary</th>\n",
       "      <td>-0.001384</td>\n",
       "      <td>-0.008112</td>\n",
       "      <td>-0.007201</td>\n",
       "      <td>0.007784</td>\n",
       "      <td>0.012797</td>\n",
       "      <td>0.014204</td>\n",
       "      <td>-0.009933</td>\n",
       "      <td>-0.011421</td>\n",
       "      <td>1.000000</td>\n",
       "      <td>0.012097</td>\n",
       "      <td>-0.003332</td>\n",
       "      <td>0.010297</td>\n",
       "      <td>-0.006482</td>\n",
       "    </tr>\n",
       "    <tr>\n",
       "      <th>churn</th>\n",
       "      <td>-0.027094</td>\n",
       "      <td>-0.106512</td>\n",
       "      <td>0.285323</td>\n",
       "      <td>-0.014001</td>\n",
       "      <td>0.118533</td>\n",
       "      <td>-0.047820</td>\n",
       "      <td>-0.007138</td>\n",
       "      <td>-0.156128</td>\n",
       "      <td>0.012097</td>\n",
       "      <td>1.000000</td>\n",
       "      <td>-0.104955</td>\n",
       "      <td>0.173488</td>\n",
       "      <td>-0.052667</td>\n",
       "    </tr>\n",
       "    <tr>\n",
       "      <th>country_France</th>\n",
       "      <td>-0.008928</td>\n",
       "      <td>0.006772</td>\n",
       "      <td>-0.039208</td>\n",
       "      <td>-0.002848</td>\n",
       "      <td>-0.231329</td>\n",
       "      <td>0.001230</td>\n",
       "      <td>0.002467</td>\n",
       "      <td>0.003317</td>\n",
       "      <td>-0.003332</td>\n",
       "      <td>-0.104955</td>\n",
       "      <td>1.000000</td>\n",
       "      <td>-0.580359</td>\n",
       "      <td>-0.575418</td>\n",
       "    </tr>\n",
       "    <tr>\n",
       "      <th>country_Germany</th>\n",
       "      <td>0.005538</td>\n",
       "      <td>-0.024628</td>\n",
       "      <td>0.046897</td>\n",
       "      <td>-0.000567</td>\n",
       "      <td>0.401110</td>\n",
       "      <td>-0.010419</td>\n",
       "      <td>0.010577</td>\n",
       "      <td>-0.020486</td>\n",
       "      <td>0.010297</td>\n",
       "      <td>0.173488</td>\n",
       "      <td>-0.580359</td>\n",
       "      <td>1.000000</td>\n",
       "      <td>-0.332084</td>\n",
       "    </tr>\n",
       "    <tr>\n",
       "      <th>country_Spain</th>\n",
       "      <td>0.004780</td>\n",
       "      <td>0.016889</td>\n",
       "      <td>-0.001685</td>\n",
       "      <td>0.003868</td>\n",
       "      <td>-0.134892</td>\n",
       "      <td>0.009039</td>\n",
       "      <td>-0.013480</td>\n",
       "      <td>0.016732</td>\n",
       "      <td>-0.006482</td>\n",
       "      <td>-0.052667</td>\n",
       "      <td>-0.575418</td>\n",
       "      <td>-0.332084</td>\n",
       "      <td>1.000000</td>\n",
       "    </tr>\n",
       "  </tbody>\n",
       "</table>\n",
       "</div>"
      ],
      "text/plain": [
       "                  credit_score    gender       age    tenure   balance  \\\n",
       "credit_score          1.000000 -0.002857 -0.003965  0.000842  0.006268   \n",
       "gender               -0.002857  1.000000 -0.027544  0.014733  0.012087   \n",
       "age                  -0.003965 -0.027544  1.000000 -0.009997  0.028308   \n",
       "tenure                0.000842  0.014733 -0.009997  1.000000 -0.012254   \n",
       "balance               0.006268  0.012087  0.028308 -0.012254  1.000000   \n",
       "products_number       0.012238 -0.021859 -0.030680  0.013444 -0.304180   \n",
       "credit_card          -0.005458  0.005766 -0.011721  0.022583 -0.014858   \n",
       "active_member         0.025651  0.022544  0.085472 -0.028362 -0.010084   \n",
       "estimated_salary     -0.001384 -0.008112 -0.007201  0.007784  0.012797   \n",
       "churn                -0.027094 -0.106512  0.285323 -0.014001  0.118533   \n",
       "country_France       -0.008928  0.006772 -0.039208 -0.002848 -0.231329   \n",
       "country_Germany       0.005538 -0.024628  0.046897 -0.000567  0.401110   \n",
       "country_Spain         0.004780  0.016889 -0.001685  0.003868 -0.134892   \n",
       "\n",
       "                  products_number  credit_card  active_member  \\\n",
       "credit_score             0.012238    -0.005458       0.025651   \n",
       "gender                  -0.021859     0.005766       0.022544   \n",
       "age                     -0.030680    -0.011721       0.085472   \n",
       "tenure                   0.013444     0.022583      -0.028362   \n",
       "balance                 -0.304180    -0.014858      -0.010084   \n",
       "products_number          1.000000     0.003183       0.009612   \n",
       "credit_card              0.003183     1.000000      -0.011866   \n",
       "active_member            0.009612    -0.011866       1.000000   \n",
       "estimated_salary         0.014204    -0.009933      -0.011421   \n",
       "churn                   -0.047820    -0.007138      -0.156128   \n",
       "country_France           0.001230     0.002467       0.003317   \n",
       "country_Germany         -0.010419     0.010577      -0.020486   \n",
       "country_Spain            0.009039    -0.013480       0.016732   \n",
       "\n",
       "                  estimated_salary     churn  country_France  country_Germany  \\\n",
       "credit_score             -0.001384 -0.027094       -0.008928         0.005538   \n",
       "gender                   -0.008112 -0.106512        0.006772        -0.024628   \n",
       "age                      -0.007201  0.285323       -0.039208         0.046897   \n",
       "tenure                    0.007784 -0.014001       -0.002848        -0.000567   \n",
       "balance                   0.012797  0.118533       -0.231329         0.401110   \n",
       "products_number           0.014204 -0.047820        0.001230        -0.010419   \n",
       "credit_card              -0.009933 -0.007138        0.002467         0.010577   \n",
       "active_member            -0.011421 -0.156128        0.003317        -0.020486   \n",
       "estimated_salary          1.000000  0.012097       -0.003332         0.010297   \n",
       "churn                     0.012097  1.000000       -0.104955         0.173488   \n",
       "country_France           -0.003332 -0.104955        1.000000        -0.580359   \n",
       "country_Germany           0.010297  0.173488       -0.580359         1.000000   \n",
       "country_Spain            -0.006482 -0.052667       -0.575418        -0.332084   \n",
       "\n",
       "                  country_Spain  \n",
       "credit_score           0.004780  \n",
       "gender                 0.016889  \n",
       "age                   -0.001685  \n",
       "tenure                 0.003868  \n",
       "balance               -0.134892  \n",
       "products_number        0.009039  \n",
       "credit_card           -0.013480  \n",
       "active_member          0.016732  \n",
       "estimated_salary      -0.006482  \n",
       "churn                 -0.052667  \n",
       "country_France        -0.575418  \n",
       "country_Germany       -0.332084  \n",
       "country_Spain          1.000000  "
      ]
     },
     "execution_count": 22,
     "metadata": {},
     "output_type": "execute_result"
    }
   ],
   "source": [
    "df.corr()"
   ]
  },
  {
   "cell_type": "markdown",
   "id": "b8583012",
   "metadata": {
    "papermill": {
     "duration": 0.463778,
     "end_time": "2022-10-21T18:23:22.342613",
     "exception": false,
     "start_time": "2022-10-21T18:23:21.878835",
     "status": "completed"
    },
    "tags": []
   },
   "source": [
    "<a id=\"section5\"></a>\n",
    "\n",
    "<div style=\"padding:20px;\n",
    "            color:white;\n",
    "            margin:10;\n",
    "            font-size:170%;\n",
    "            text-align:left;\n",
    "            display:fill;\n",
    "            border-radius:5px;\n",
    "            background-color:#222222;\n",
    "            overflow:hidden;\n",
    "            font-weight:700\">6 <span style='color:#CDA63A'>|</span>Data Splitting and Model Building</div>"
   ]
  },
  {
   "cell_type": "markdown",
   "id": "21aee1ef",
   "metadata": {},
   "source": [
    "<a id=\"5.1\"></a>\n",
    "# <b>6.1 <span style='color:#00008B'>Data Splitting Or Cross Validation</span></b>\n"
   ]
  },
  {
   "cell_type": "code",
   "execution_count": 23,
   "id": "823a40ba",
   "metadata": {
    "execution": {
     "iopub.execute_input": "2022-10-21T18:23:25.148082Z",
     "iopub.status.busy": "2022-10-21T18:23:25.147650Z",
     "iopub.status.idle": "2022-10-21T18:23:25.166523Z",
     "shell.execute_reply": "2022-10-21T18:23:25.165557Z"
    },
    "papermill": {
     "duration": 0.549129,
     "end_time": "2022-10-21T18:23:25.169029",
     "exception": false,
     "start_time": "2022-10-21T18:23:24.619900",
     "status": "completed"
    },
    "tags": []
   },
   "outputs": [],
   "source": [
    "X = df.copy();\n",
    "X.drop('churn',axis = 1,inplace = True)\n",
    "y = df['churn']\n",
    "X_train, X_test, y_train, y_test = train_test_split(X, y, test_size=0.2,random_state=0)"
   ]
  },
  {
   "cell_type": "markdown",
   "id": "b0d64186",
   "metadata": {},
   "source": [
    "<a id=\"5.2\"></a>\n",
    "# <b>5.2 <span style='color:#00008B'>Model Buiding and Model Evaluation</span></b>"
   ]
  },
  {
   "cell_type": "markdown",
   "id": "6cc928cb",
   "metadata": {},
   "source": [
    "**LogisticRegression**\n",
    "<img src=\"Photos/Logistics.png\" alt=\"Logistics\" width=\"50%\" style=\"display: block; margin: 0 auto;\">\n",
    "<img src=\"Photos/Sigmoid_function.png\" alt=\"Logistics\" width=\"50%\" style=\"display: block; margin: 0 auto;\">"
   ]
  },
  {
   "cell_type": "code",
   "execution_count": 24,
   "id": "bbb0a753",
   "metadata": {},
   "outputs": [],
   "source": [
    "model = LogisticRegression()"
   ]
  },
  {
   "cell_type": "code",
   "execution_count": 25,
   "id": "2f31847b",
   "metadata": {},
   "outputs": [
    {
     "data": {
      "text/html": [
       "<style>#sk-container-id-1 {color: black;}#sk-container-id-1 pre{padding: 0;}#sk-container-id-1 div.sk-toggleable {background-color: white;}#sk-container-id-1 label.sk-toggleable__label {cursor: pointer;display: block;width: 100%;margin-bottom: 0;padding: 0.3em;box-sizing: border-box;text-align: center;}#sk-container-id-1 label.sk-toggleable__label-arrow:before {content: \"▸\";float: left;margin-right: 0.25em;color: #696969;}#sk-container-id-1 label.sk-toggleable__label-arrow:hover:before {color: black;}#sk-container-id-1 div.sk-estimator:hover label.sk-toggleable__label-arrow:before {color: black;}#sk-container-id-1 div.sk-toggleable__content {max-height: 0;max-width: 0;overflow: hidden;text-align: left;background-color: #f0f8ff;}#sk-container-id-1 div.sk-toggleable__content pre {margin: 0.2em;color: black;border-radius: 0.25em;background-color: #f0f8ff;}#sk-container-id-1 input.sk-toggleable__control:checked~div.sk-toggleable__content {max-height: 200px;max-width: 100%;overflow: auto;}#sk-container-id-1 input.sk-toggleable__control:checked~label.sk-toggleable__label-arrow:before {content: \"▾\";}#sk-container-id-1 div.sk-estimator input.sk-toggleable__control:checked~label.sk-toggleable__label {background-color: #d4ebff;}#sk-container-id-1 div.sk-label input.sk-toggleable__control:checked~label.sk-toggleable__label {background-color: #d4ebff;}#sk-container-id-1 input.sk-hidden--visually {border: 0;clip: rect(1px 1px 1px 1px);clip: rect(1px, 1px, 1px, 1px);height: 1px;margin: -1px;overflow: hidden;padding: 0;position: absolute;width: 1px;}#sk-container-id-1 div.sk-estimator {font-family: monospace;background-color: #f0f8ff;border: 1px dotted black;border-radius: 0.25em;box-sizing: border-box;margin-bottom: 0.5em;}#sk-container-id-1 div.sk-estimator:hover {background-color: #d4ebff;}#sk-container-id-1 div.sk-parallel-item::after {content: \"\";width: 100%;border-bottom: 1px solid gray;flex-grow: 1;}#sk-container-id-1 div.sk-label:hover label.sk-toggleable__label {background-color: #d4ebff;}#sk-container-id-1 div.sk-serial::before {content: \"\";position: absolute;border-left: 1px solid gray;box-sizing: border-box;top: 0;bottom: 0;left: 50%;z-index: 0;}#sk-container-id-1 div.sk-serial {display: flex;flex-direction: column;align-items: center;background-color: white;padding-right: 0.2em;padding-left: 0.2em;position: relative;}#sk-container-id-1 div.sk-item {position: relative;z-index: 1;}#sk-container-id-1 div.sk-parallel {display: flex;align-items: stretch;justify-content: center;background-color: white;position: relative;}#sk-container-id-1 div.sk-item::before, #sk-container-id-1 div.sk-parallel-item::before {content: \"\";position: absolute;border-left: 1px solid gray;box-sizing: border-box;top: 0;bottom: 0;left: 50%;z-index: -1;}#sk-container-id-1 div.sk-parallel-item {display: flex;flex-direction: column;z-index: 1;position: relative;background-color: white;}#sk-container-id-1 div.sk-parallel-item:first-child::after {align-self: flex-end;width: 50%;}#sk-container-id-1 div.sk-parallel-item:last-child::after {align-self: flex-start;width: 50%;}#sk-container-id-1 div.sk-parallel-item:only-child::after {width: 0;}#sk-container-id-1 div.sk-dashed-wrapped {border: 1px dashed gray;margin: 0 0.4em 0.5em 0.4em;box-sizing: border-box;padding-bottom: 0.4em;background-color: white;}#sk-container-id-1 div.sk-label label {font-family: monospace;font-weight: bold;display: inline-block;line-height: 1.2em;}#sk-container-id-1 div.sk-label-container {text-align: center;}#sk-container-id-1 div.sk-container {/* jupyter's `normalize.less` sets `[hidden] { display: none; }` but bootstrap.min.css set `[hidden] { display: none !important; }` so we also need the `!important` here to be able to override the default hidden behavior on the sphinx rendered scikit-learn.org. See: https://github.com/scikit-learn/scikit-learn/issues/21755 */display: inline-block !important;position: relative;}#sk-container-id-1 div.sk-text-repr-fallback {display: none;}</style><div id=\"sk-container-id-1\" class=\"sk-top-container\"><div class=\"sk-text-repr-fallback\"><pre>LogisticRegression()</pre><b>In a Jupyter environment, please rerun this cell to show the HTML representation or trust the notebook. <br />On GitHub, the HTML representation is unable to render, please try loading this page with nbviewer.org.</b></div><div class=\"sk-container\" hidden><div class=\"sk-item\"><div class=\"sk-estimator sk-toggleable\"><input class=\"sk-toggleable__control sk-hidden--visually\" id=\"sk-estimator-id-1\" type=\"checkbox\" checked><label for=\"sk-estimator-id-1\" class=\"sk-toggleable__label sk-toggleable__label-arrow\">LogisticRegression</label><div class=\"sk-toggleable__content\"><pre>LogisticRegression()</pre></div></div></div></div></div>"
      ],
      "text/plain": [
       "LogisticRegression()"
      ]
     },
     "execution_count": 25,
     "metadata": {},
     "output_type": "execute_result"
    }
   ],
   "source": [
    "model.fit(X_train, y_train)"
   ]
  },
  {
   "cell_type": "code",
   "execution_count": 26,
   "id": "4ac0eac1",
   "metadata": {},
   "outputs": [
    {
     "data": {
      "text/plain": [
       "array([[-5.00793141e-03, -1.04543927e-03,  4.39218123e-02,\n",
       "        -2.27067762e-03,  3.56539970e-06, -4.92503022e-04,\n",
       "        -2.21523600e-04, -1.38033076e-03, -1.43640821e-06,\n",
       "        -8.92357264e-04,  9.70050467e-04, -2.68326981e-04]])"
      ]
     },
     "execution_count": 26,
     "metadata": {},
     "output_type": "execute_result"
    }
   ],
   "source": [
    "model.coef_"
   ]
  },
  {
   "cell_type": "code",
   "execution_count": 27,
   "id": "64a63b09",
   "metadata": {},
   "outputs": [
    {
     "data": {
      "text/plain": [
       "array([-0.00019063])"
      ]
     },
     "execution_count": 27,
     "metadata": {},
     "output_type": "execute_result"
    }
   ],
   "source": [
    "model.intercept_"
   ]
  },
  {
   "cell_type": "code",
   "execution_count": 28,
   "id": "20d70504",
   "metadata": {},
   "outputs": [],
   "source": [
    "coefficients = model.coef_\n",
    "feature_names = X_train.columns"
   ]
  },
  {
   "cell_type": "code",
   "execution_count": 29,
   "id": "76aa9d19",
   "metadata": {},
   "outputs": [],
   "source": [
    "coefficients_list = coefficients[0].tolist()  # Convert NumPy array to a list\n",
    "feature_names_list = feature_names.tolist()\n",
    "Finally_Re = pd.DataFrame({'coefficients':coefficients_list, \n",
    "                           'feeature Name':feature_names_list\n",
    "                          }) "
   ]
  },
  {
   "cell_type": "code",
   "execution_count": 30,
   "id": "57918f42",
   "metadata": {},
   "outputs": [
    {
     "data": {
      "text/html": [
       "<div>\n",
       "<style scoped>\n",
       "    .dataframe tbody tr th:only-of-type {\n",
       "        vertical-align: middle;\n",
       "    }\n",
       "\n",
       "    .dataframe tbody tr th {\n",
       "        vertical-align: top;\n",
       "    }\n",
       "\n",
       "    .dataframe thead th {\n",
       "        text-align: right;\n",
       "    }\n",
       "</style>\n",
       "<table border=\"1\" class=\"dataframe\">\n",
       "  <thead>\n",
       "    <tr style=\"text-align: right;\">\n",
       "      <th></th>\n",
       "      <th>coefficients</th>\n",
       "      <th>feeature Name</th>\n",
       "    </tr>\n",
       "  </thead>\n",
       "  <tbody>\n",
       "    <tr>\n",
       "      <th>0</th>\n",
       "      <td>-0.005008</td>\n",
       "      <td>credit_score</td>\n",
       "    </tr>\n",
       "    <tr>\n",
       "      <th>1</th>\n",
       "      <td>-0.001045</td>\n",
       "      <td>gender</td>\n",
       "    </tr>\n",
       "    <tr>\n",
       "      <th>2</th>\n",
       "      <td>0.043922</td>\n",
       "      <td>age</td>\n",
       "    </tr>\n",
       "    <tr>\n",
       "      <th>3</th>\n",
       "      <td>-0.002271</td>\n",
       "      <td>tenure</td>\n",
       "    </tr>\n",
       "    <tr>\n",
       "      <th>4</th>\n",
       "      <td>0.000004</td>\n",
       "      <td>balance</td>\n",
       "    </tr>\n",
       "    <tr>\n",
       "      <th>5</th>\n",
       "      <td>-0.000493</td>\n",
       "      <td>products_number</td>\n",
       "    </tr>\n",
       "    <tr>\n",
       "      <th>6</th>\n",
       "      <td>-0.000222</td>\n",
       "      <td>credit_card</td>\n",
       "    </tr>\n",
       "    <tr>\n",
       "      <th>7</th>\n",
       "      <td>-0.001380</td>\n",
       "      <td>active_member</td>\n",
       "    </tr>\n",
       "    <tr>\n",
       "      <th>8</th>\n",
       "      <td>-0.000001</td>\n",
       "      <td>estimated_salary</td>\n",
       "    </tr>\n",
       "    <tr>\n",
       "      <th>9</th>\n",
       "      <td>-0.000892</td>\n",
       "      <td>country_France</td>\n",
       "    </tr>\n",
       "    <tr>\n",
       "      <th>10</th>\n",
       "      <td>0.000970</td>\n",
       "      <td>country_Germany</td>\n",
       "    </tr>\n",
       "    <tr>\n",
       "      <th>11</th>\n",
       "      <td>-0.000268</td>\n",
       "      <td>country_Spain</td>\n",
       "    </tr>\n",
       "  </tbody>\n",
       "</table>\n",
       "</div>"
      ],
      "text/plain": [
       "    coefficients     feeature Name\n",
       "0      -0.005008      credit_score\n",
       "1      -0.001045            gender\n",
       "2       0.043922               age\n",
       "3      -0.002271            tenure\n",
       "4       0.000004           balance\n",
       "5      -0.000493   products_number\n",
       "6      -0.000222       credit_card\n",
       "7      -0.001380     active_member\n",
       "8      -0.000001  estimated_salary\n",
       "9      -0.000892    country_France\n",
       "10      0.000970   country_Germany\n",
       "11     -0.000268     country_Spain"
      ]
     },
     "execution_count": 30,
     "metadata": {},
     "output_type": "execute_result"
    }
   ],
   "source": [
    "Finally_Re"
   ]
  },
  {
   "cell_type": "code",
   "execution_count": 31,
   "id": "fd4bd281",
   "metadata": {},
   "outputs": [
    {
     "data": {
      "text/html": [
       "<div>\n",
       "<style scoped>\n",
       "    .dataframe tbody tr th:only-of-type {\n",
       "        vertical-align: middle;\n",
       "    }\n",
       "\n",
       "    .dataframe tbody tr th {\n",
       "        vertical-align: top;\n",
       "    }\n",
       "\n",
       "    .dataframe thead th {\n",
       "        text-align: right;\n",
       "    }\n",
       "</style>\n",
       "<table border=\"1\" class=\"dataframe\">\n",
       "  <thead>\n",
       "    <tr style=\"text-align: right;\">\n",
       "      <th></th>\n",
       "      <th>coefficients</th>\n",
       "      <th>feeature Name</th>\n",
       "    </tr>\n",
       "  </thead>\n",
       "  <tbody>\n",
       "    <tr>\n",
       "      <th>2</th>\n",
       "      <td>0.043922</td>\n",
       "      <td>age</td>\n",
       "    </tr>\n",
       "    <tr>\n",
       "      <th>10</th>\n",
       "      <td>0.000970</td>\n",
       "      <td>country_Germany</td>\n",
       "    </tr>\n",
       "    <tr>\n",
       "      <th>4</th>\n",
       "      <td>0.000004</td>\n",
       "      <td>balance</td>\n",
       "    </tr>\n",
       "    <tr>\n",
       "      <th>8</th>\n",
       "      <td>-0.000001</td>\n",
       "      <td>estimated_salary</td>\n",
       "    </tr>\n",
       "    <tr>\n",
       "      <th>6</th>\n",
       "      <td>-0.000222</td>\n",
       "      <td>credit_card</td>\n",
       "    </tr>\n",
       "    <tr>\n",
       "      <th>11</th>\n",
       "      <td>-0.000268</td>\n",
       "      <td>country_Spain</td>\n",
       "    </tr>\n",
       "    <tr>\n",
       "      <th>5</th>\n",
       "      <td>-0.000493</td>\n",
       "      <td>products_number</td>\n",
       "    </tr>\n",
       "    <tr>\n",
       "      <th>9</th>\n",
       "      <td>-0.000892</td>\n",
       "      <td>country_France</td>\n",
       "    </tr>\n",
       "    <tr>\n",
       "      <th>1</th>\n",
       "      <td>-0.001045</td>\n",
       "      <td>gender</td>\n",
       "    </tr>\n",
       "    <tr>\n",
       "      <th>7</th>\n",
       "      <td>-0.001380</td>\n",
       "      <td>active_member</td>\n",
       "    </tr>\n",
       "    <tr>\n",
       "      <th>3</th>\n",
       "      <td>-0.002271</td>\n",
       "      <td>tenure</td>\n",
       "    </tr>\n",
       "    <tr>\n",
       "      <th>0</th>\n",
       "      <td>-0.005008</td>\n",
       "      <td>credit_score</td>\n",
       "    </tr>\n",
       "  </tbody>\n",
       "</table>\n",
       "</div>"
      ],
      "text/plain": [
       "    coefficients     feeature Name\n",
       "2       0.043922               age\n",
       "10      0.000970   country_Germany\n",
       "4       0.000004           balance\n",
       "8      -0.000001  estimated_salary\n",
       "6      -0.000222       credit_card\n",
       "11     -0.000268     country_Spain\n",
       "5      -0.000493   products_number\n",
       "9      -0.000892    country_France\n",
       "1      -0.001045            gender\n",
       "7      -0.001380     active_member\n",
       "3      -0.002271            tenure\n",
       "0      -0.005008      credit_score"
      ]
     },
     "execution_count": 31,
     "metadata": {},
     "output_type": "execute_result"
    }
   ],
   "source": [
    "Finally_Re.sort_values('coefficients', ascending=False)"
   ]
  },
  {
   "cell_type": "code",
   "execution_count": 32,
   "id": "8a8503f3",
   "metadata": {},
   "outputs": [],
   "source": [
    "y_pred = model.predict(X_test)"
   ]
  },
  {
   "cell_type": "code",
   "execution_count": 33,
   "id": "06c47568",
   "metadata": {},
   "outputs": [
    {
     "data": {
      "text/plain": [
       "array([0, 0, 0, ..., 0, 0, 0], dtype=int64)"
      ]
     },
     "execution_count": 33,
     "metadata": {},
     "output_type": "execute_result"
    }
   ],
   "source": [
    "y_pred"
   ]
  },
  {
   "cell_type": "code",
   "execution_count": 34,
   "id": "c848440d",
   "metadata": {},
   "outputs": [
    {
     "data": {
      "text/plain": [
       "9394    0\n",
       "898     1\n",
       "2398    0\n",
       "5906    0\n",
       "2343    0\n",
       "       ..\n",
       "1037    0\n",
       "2899    0\n",
       "9549    0\n",
       "2740    0\n",
       "6690    0\n",
       "Name: churn, Length: 2000, dtype: int64"
      ]
     },
     "execution_count": 34,
     "metadata": {},
     "output_type": "execute_result"
    }
   ],
   "source": [
    "y_test"
   ]
  },
  {
   "cell_type": "code",
   "execution_count": 35,
   "id": "f93aa259",
   "metadata": {},
   "outputs": [
    {
     "data": {
      "text/plain": [
       "array([[1553,   42],\n",
       "       [ 380,   25]], dtype=int64)"
      ]
     },
     "execution_count": 35,
     "metadata": {},
     "output_type": "execute_result"
    }
   ],
   "source": [
    "confusion_matrix(y_test, y_pred)"
   ]
  },
  {
   "cell_type": "code",
   "execution_count": 36,
   "id": "e6b8e3bc",
   "metadata": {},
   "outputs": [],
   "source": [
    "def model_eval(y_true,y_pred):\n",
    "    tn, fp, fn, tp = confusion_matrix(y_test,y_pred).ravel()\n",
    "    accuracy=(tp+tn)/(tp+tn+fp+fn)\n",
    "    error = 1-accuracy\n",
    "    precision=tp/(tp+fp)\n",
    "    recall=tp/(tp+fn)\n",
    "    specificity=tn/(fp+tn)\n",
    "    result={\"Accuracy\":accuracy,\"Error\":error, \"Precision\":precision,\"Recall\":recall,'Specificity':specificity}\n",
    "    return result"
   ]
  },
  {
   "cell_type": "code",
   "execution_count": null,
   "id": "d2f6e57c",
   "metadata": {},
   "outputs": [],
   "source": []
  },
  {
   "cell_type": "markdown",
   "id": "a9795a7c",
   "metadata": {},
   "source": [
    "<img src=\"Photos/confusion_matrix.webp\" alt=\"Logistics\" width=\"50%\" style=\"display: block; margin: 0 auto;\">"
   ]
  },
  {
   "cell_type": "code",
   "execution_count": 37,
   "id": "9cbf632d",
   "metadata": {},
   "outputs": [
    {
     "data": {
      "text/plain": [
       "array([0, 0, 0, ..., 0, 0, 0], dtype=int64)"
      ]
     },
     "execution_count": 37,
     "metadata": {},
     "output_type": "execute_result"
    }
   ],
   "source": [
    "y_pred"
   ]
  },
  {
   "cell_type": "code",
   "execution_count": 38,
   "id": "818ea665",
   "metadata": {},
   "outputs": [
    {
     "data": {
      "text/plain": [
       "{'Accuracy': 0.789,\n",
       " 'Error': 0.21099999999999997,\n",
       " 'Precision': 0.373134328358209,\n",
       " 'Recall': 0.06172839506172839,\n",
       " 'Specificity': 0.9736677115987461}"
      ]
     },
     "execution_count": 38,
     "metadata": {},
     "output_type": "execute_result"
    }
   ],
   "source": [
    "y_pred = model.predict(X_test)\n",
    "model_eval(y_test,y_pred )"
   ]
  },
  {
   "cell_type": "code",
   "execution_count": 39,
   "id": "d29809ab",
   "metadata": {},
   "outputs": [],
   "source": [
    "df_churn_no =df[df['churn']==0]"
   ]
  },
  {
   "cell_type": "code",
   "execution_count": 40,
   "id": "fda11444",
   "metadata": {},
   "outputs": [],
   "source": [
    "df_churn_no = df_churn_no.sample(n=2037)"
   ]
  },
  {
   "cell_type": "code",
   "execution_count": 41,
   "id": "151727ae",
   "metadata": {},
   "outputs": [],
   "source": [
    "df_churn_yes = df[df['churn']==1]"
   ]
  },
  {
   "cell_type": "code",
   "execution_count": 42,
   "id": "b6aad6b8",
   "metadata": {},
   "outputs": [],
   "source": [
    "df1 = pd.concat([df_churn_no,df_churn_yes],axis=0)"
   ]
  },
  {
   "cell_type": "code",
   "execution_count": 43,
   "id": "7165fa98",
   "metadata": {},
   "outputs": [
    {
     "data": {
      "text/html": [
       "<div>\n",
       "<style scoped>\n",
       "    .dataframe tbody tr th:only-of-type {\n",
       "        vertical-align: middle;\n",
       "    }\n",
       "\n",
       "    .dataframe tbody tr th {\n",
       "        vertical-align: top;\n",
       "    }\n",
       "\n",
       "    .dataframe thead th {\n",
       "        text-align: right;\n",
       "    }\n",
       "</style>\n",
       "<table border=\"1\" class=\"dataframe\">\n",
       "  <thead>\n",
       "    <tr style=\"text-align: right;\">\n",
       "      <th></th>\n",
       "      <th>credit_score</th>\n",
       "      <th>gender</th>\n",
       "      <th>age</th>\n",
       "      <th>tenure</th>\n",
       "      <th>balance</th>\n",
       "      <th>products_number</th>\n",
       "      <th>credit_card</th>\n",
       "      <th>active_member</th>\n",
       "      <th>estimated_salary</th>\n",
       "      <th>churn</th>\n",
       "      <th>country_France</th>\n",
       "      <th>country_Germany</th>\n",
       "      <th>country_Spain</th>\n",
       "    </tr>\n",
       "  </thead>\n",
       "  <tbody>\n",
       "    <tr>\n",
       "      <th>2949</th>\n",
       "      <td>519</td>\n",
       "      <td>1</td>\n",
       "      <td>39</td>\n",
       "      <td>4</td>\n",
       "      <td>111900.14</td>\n",
       "      <td>1</td>\n",
       "      <td>1</td>\n",
       "      <td>1</td>\n",
       "      <td>97577.17</td>\n",
       "      <td>0</td>\n",
       "      <td>0</td>\n",
       "      <td>0</td>\n",
       "      <td>1</td>\n",
       "    </tr>\n",
       "    <tr>\n",
       "      <th>5862</th>\n",
       "      <td>682</td>\n",
       "      <td>1</td>\n",
       "      <td>40</td>\n",
       "      <td>4</td>\n",
       "      <td>0.00</td>\n",
       "      <td>2</td>\n",
       "      <td>1</td>\n",
       "      <td>1</td>\n",
       "      <td>140745.91</td>\n",
       "      <td>0</td>\n",
       "      <td>1</td>\n",
       "      <td>0</td>\n",
       "      <td>0</td>\n",
       "    </tr>\n",
       "    <tr>\n",
       "      <th>5173</th>\n",
       "      <td>800</td>\n",
       "      <td>1</td>\n",
       "      <td>38</td>\n",
       "      <td>9</td>\n",
       "      <td>0.00</td>\n",
       "      <td>1</td>\n",
       "      <td>1</td>\n",
       "      <td>0</td>\n",
       "      <td>78744.39</td>\n",
       "      <td>0</td>\n",
       "      <td>0</td>\n",
       "      <td>0</td>\n",
       "      <td>1</td>\n",
       "    </tr>\n",
       "    <tr>\n",
       "      <th>6425</th>\n",
       "      <td>793</td>\n",
       "      <td>1</td>\n",
       "      <td>39</td>\n",
       "      <td>3</td>\n",
       "      <td>137817.52</td>\n",
       "      <td>1</td>\n",
       "      <td>0</td>\n",
       "      <td>0</td>\n",
       "      <td>83997.79</td>\n",
       "      <td>0</td>\n",
       "      <td>1</td>\n",
       "      <td>0</td>\n",
       "      <td>0</td>\n",
       "    </tr>\n",
       "    <tr>\n",
       "      <th>9102</th>\n",
       "      <td>445</td>\n",
       "      <td>0</td>\n",
       "      <td>61</td>\n",
       "      <td>2</td>\n",
       "      <td>137655.31</td>\n",
       "      <td>1</td>\n",
       "      <td>0</td>\n",
       "      <td>1</td>\n",
       "      <td>29909.84</td>\n",
       "      <td>0</td>\n",
       "      <td>0</td>\n",
       "      <td>1</td>\n",
       "      <td>0</td>\n",
       "    </tr>\n",
       "    <tr>\n",
       "      <th>...</th>\n",
       "      <td>...</td>\n",
       "      <td>...</td>\n",
       "      <td>...</td>\n",
       "      <td>...</td>\n",
       "      <td>...</td>\n",
       "      <td>...</td>\n",
       "      <td>...</td>\n",
       "      <td>...</td>\n",
       "      <td>...</td>\n",
       "      <td>...</td>\n",
       "      <td>...</td>\n",
       "      <td>...</td>\n",
       "      <td>...</td>\n",
       "    </tr>\n",
       "    <tr>\n",
       "      <th>9981</th>\n",
       "      <td>498</td>\n",
       "      <td>1</td>\n",
       "      <td>42</td>\n",
       "      <td>3</td>\n",
       "      <td>152039.70</td>\n",
       "      <td>1</td>\n",
       "      <td>1</td>\n",
       "      <td>1</td>\n",
       "      <td>53445.17</td>\n",
       "      <td>1</td>\n",
       "      <td>0</td>\n",
       "      <td>1</td>\n",
       "      <td>0</td>\n",
       "    </tr>\n",
       "    <tr>\n",
       "      <th>9982</th>\n",
       "      <td>655</td>\n",
       "      <td>0</td>\n",
       "      <td>46</td>\n",
       "      <td>7</td>\n",
       "      <td>137145.12</td>\n",
       "      <td>1</td>\n",
       "      <td>1</td>\n",
       "      <td>0</td>\n",
       "      <td>115146.40</td>\n",
       "      <td>1</td>\n",
       "      <td>0</td>\n",
       "      <td>1</td>\n",
       "      <td>0</td>\n",
       "    </tr>\n",
       "    <tr>\n",
       "      <th>9991</th>\n",
       "      <td>597</td>\n",
       "      <td>0</td>\n",
       "      <td>53</td>\n",
       "      <td>4</td>\n",
       "      <td>88381.21</td>\n",
       "      <td>1</td>\n",
       "      <td>1</td>\n",
       "      <td>0</td>\n",
       "      <td>69384.71</td>\n",
       "      <td>1</td>\n",
       "      <td>1</td>\n",
       "      <td>0</td>\n",
       "      <td>0</td>\n",
       "    </tr>\n",
       "    <tr>\n",
       "      <th>9997</th>\n",
       "      <td>709</td>\n",
       "      <td>0</td>\n",
       "      <td>36</td>\n",
       "      <td>7</td>\n",
       "      <td>0.00</td>\n",
       "      <td>1</td>\n",
       "      <td>0</td>\n",
       "      <td>1</td>\n",
       "      <td>42085.58</td>\n",
       "      <td>1</td>\n",
       "      <td>1</td>\n",
       "      <td>0</td>\n",
       "      <td>0</td>\n",
       "    </tr>\n",
       "    <tr>\n",
       "      <th>9998</th>\n",
       "      <td>772</td>\n",
       "      <td>1</td>\n",
       "      <td>42</td>\n",
       "      <td>3</td>\n",
       "      <td>75075.31</td>\n",
       "      <td>2</td>\n",
       "      <td>1</td>\n",
       "      <td>0</td>\n",
       "      <td>92888.52</td>\n",
       "      <td>1</td>\n",
       "      <td>0</td>\n",
       "      <td>1</td>\n",
       "      <td>0</td>\n",
       "    </tr>\n",
       "  </tbody>\n",
       "</table>\n",
       "<p>4074 rows × 13 columns</p>\n",
       "</div>"
      ],
      "text/plain": [
       "      credit_score  gender  age  tenure    balance  products_number  \\\n",
       "2949           519       1   39       4  111900.14                1   \n",
       "5862           682       1   40       4       0.00                2   \n",
       "5173           800       1   38       9       0.00                1   \n",
       "6425           793       1   39       3  137817.52                1   \n",
       "9102           445       0   61       2  137655.31                1   \n",
       "...            ...     ...  ...     ...        ...              ...   \n",
       "9981           498       1   42       3  152039.70                1   \n",
       "9982           655       0   46       7  137145.12                1   \n",
       "9991           597       0   53       4   88381.21                1   \n",
       "9997           709       0   36       7       0.00                1   \n",
       "9998           772       1   42       3   75075.31                2   \n",
       "\n",
       "      credit_card  active_member  estimated_salary  churn  country_France  \\\n",
       "2949            1              1          97577.17      0               0   \n",
       "5862            1              1         140745.91      0               1   \n",
       "5173            1              0          78744.39      0               0   \n",
       "6425            0              0          83997.79      0               1   \n",
       "9102            0              1          29909.84      0               0   \n",
       "...           ...            ...               ...    ...             ...   \n",
       "9981            1              1          53445.17      1               0   \n",
       "9982            1              0         115146.40      1               0   \n",
       "9991            1              0          69384.71      1               1   \n",
       "9997            0              1          42085.58      1               1   \n",
       "9998            1              0          92888.52      1               0   \n",
       "\n",
       "      country_Germany  country_Spain  \n",
       "2949                0              1  \n",
       "5862                0              0  \n",
       "5173                0              1  \n",
       "6425                0              0  \n",
       "9102                1              0  \n",
       "...               ...            ...  \n",
       "9981                1              0  \n",
       "9982                1              0  \n",
       "9991                0              0  \n",
       "9997                0              0  \n",
       "9998                1              0  \n",
       "\n",
       "[4074 rows x 13 columns]"
      ]
     },
     "execution_count": 43,
     "metadata": {},
     "output_type": "execute_result"
    }
   ],
   "source": [
    "df1"
   ]
  },
  {
   "cell_type": "code",
   "execution_count": 44,
   "id": "123c2b78",
   "metadata": {},
   "outputs": [],
   "source": [
    "x = df1.drop(columns='churn')"
   ]
  },
  {
   "cell_type": "code",
   "execution_count": 54,
   "id": "43619e56",
   "metadata": {},
   "outputs": [],
   "source": [
    "y = df1['churn']"
   ]
  },
  {
   "cell_type": "code",
   "execution_count": 55,
   "id": "e151dafc",
   "metadata": {},
   "outputs": [],
   "source": [
    "x_train, x_test, y1_train, y1_test = train_test_split(x, y)"
   ]
  },
  {
   "cell_type": "code",
   "execution_count": 56,
   "id": "6cea1710",
   "metadata": {},
   "outputs": [
    {
     "data": {
      "text/html": [
       "<style>#sk-container-id-3 {color: black;}#sk-container-id-3 pre{padding: 0;}#sk-container-id-3 div.sk-toggleable {background-color: white;}#sk-container-id-3 label.sk-toggleable__label {cursor: pointer;display: block;width: 100%;margin-bottom: 0;padding: 0.3em;box-sizing: border-box;text-align: center;}#sk-container-id-3 label.sk-toggleable__label-arrow:before {content: \"▸\";float: left;margin-right: 0.25em;color: #696969;}#sk-container-id-3 label.sk-toggleable__label-arrow:hover:before {color: black;}#sk-container-id-3 div.sk-estimator:hover label.sk-toggleable__label-arrow:before {color: black;}#sk-container-id-3 div.sk-toggleable__content {max-height: 0;max-width: 0;overflow: hidden;text-align: left;background-color: #f0f8ff;}#sk-container-id-3 div.sk-toggleable__content pre {margin: 0.2em;color: black;border-radius: 0.25em;background-color: #f0f8ff;}#sk-container-id-3 input.sk-toggleable__control:checked~div.sk-toggleable__content {max-height: 200px;max-width: 100%;overflow: auto;}#sk-container-id-3 input.sk-toggleable__control:checked~label.sk-toggleable__label-arrow:before {content: \"▾\";}#sk-container-id-3 div.sk-estimator input.sk-toggleable__control:checked~label.sk-toggleable__label {background-color: #d4ebff;}#sk-container-id-3 div.sk-label input.sk-toggleable__control:checked~label.sk-toggleable__label {background-color: #d4ebff;}#sk-container-id-3 input.sk-hidden--visually {border: 0;clip: rect(1px 1px 1px 1px);clip: rect(1px, 1px, 1px, 1px);height: 1px;margin: -1px;overflow: hidden;padding: 0;position: absolute;width: 1px;}#sk-container-id-3 div.sk-estimator {font-family: monospace;background-color: #f0f8ff;border: 1px dotted black;border-radius: 0.25em;box-sizing: border-box;margin-bottom: 0.5em;}#sk-container-id-3 div.sk-estimator:hover {background-color: #d4ebff;}#sk-container-id-3 div.sk-parallel-item::after {content: \"\";width: 100%;border-bottom: 1px solid gray;flex-grow: 1;}#sk-container-id-3 div.sk-label:hover label.sk-toggleable__label {background-color: #d4ebff;}#sk-container-id-3 div.sk-serial::before {content: \"\";position: absolute;border-left: 1px solid gray;box-sizing: border-box;top: 0;bottom: 0;left: 50%;z-index: 0;}#sk-container-id-3 div.sk-serial {display: flex;flex-direction: column;align-items: center;background-color: white;padding-right: 0.2em;padding-left: 0.2em;position: relative;}#sk-container-id-3 div.sk-item {position: relative;z-index: 1;}#sk-container-id-3 div.sk-parallel {display: flex;align-items: stretch;justify-content: center;background-color: white;position: relative;}#sk-container-id-3 div.sk-item::before, #sk-container-id-3 div.sk-parallel-item::before {content: \"\";position: absolute;border-left: 1px solid gray;box-sizing: border-box;top: 0;bottom: 0;left: 50%;z-index: -1;}#sk-container-id-3 div.sk-parallel-item {display: flex;flex-direction: column;z-index: 1;position: relative;background-color: white;}#sk-container-id-3 div.sk-parallel-item:first-child::after {align-self: flex-end;width: 50%;}#sk-container-id-3 div.sk-parallel-item:last-child::after {align-self: flex-start;width: 50%;}#sk-container-id-3 div.sk-parallel-item:only-child::after {width: 0;}#sk-container-id-3 div.sk-dashed-wrapped {border: 1px dashed gray;margin: 0 0.4em 0.5em 0.4em;box-sizing: border-box;padding-bottom: 0.4em;background-color: white;}#sk-container-id-3 div.sk-label label {font-family: monospace;font-weight: bold;display: inline-block;line-height: 1.2em;}#sk-container-id-3 div.sk-label-container {text-align: center;}#sk-container-id-3 div.sk-container {/* jupyter's `normalize.less` sets `[hidden] { display: none; }` but bootstrap.min.css set `[hidden] { display: none !important; }` so we also need the `!important` here to be able to override the default hidden behavior on the sphinx rendered scikit-learn.org. See: https://github.com/scikit-learn/scikit-learn/issues/21755 */display: inline-block !important;position: relative;}#sk-container-id-3 div.sk-text-repr-fallback {display: none;}</style><div id=\"sk-container-id-3\" class=\"sk-top-container\"><div class=\"sk-text-repr-fallback\"><pre>LogisticRegression()</pre><b>In a Jupyter environment, please rerun this cell to show the HTML representation or trust the notebook. <br />On GitHub, the HTML representation is unable to render, please try loading this page with nbviewer.org.</b></div><div class=\"sk-container\" hidden><div class=\"sk-item\"><div class=\"sk-estimator sk-toggleable\"><input class=\"sk-toggleable__control sk-hidden--visually\" id=\"sk-estimator-id-3\" type=\"checkbox\" checked><label for=\"sk-estimator-id-3\" class=\"sk-toggleable__label sk-toggleable__label-arrow\">LogisticRegression</label><div class=\"sk-toggleable__content\"><pre>LogisticRegression()</pre></div></div></div></div></div>"
      ],
      "text/plain": [
       "LogisticRegression()"
      ]
     },
     "execution_count": 56,
     "metadata": {},
     "output_type": "execute_result"
    }
   ],
   "source": [
    "model2 = LogisticRegression()\n",
    "model2.fit(x_train, y1_train)"
   ]
  },
  {
   "cell_type": "code",
   "execution_count": 57,
   "id": "8fe13195",
   "metadata": {},
   "outputs": [],
   "source": [
    "y_pred1 = model2.predict(x_test)"
   ]
  },
  {
   "cell_type": "code",
   "execution_count": 65,
   "id": "ccf52e59",
   "metadata": {},
   "outputs": [
    {
     "data": {
      "text/plain": [
       "array([0, 1, 0, ..., 1, 0, 0], dtype=int64)"
      ]
     },
     "execution_count": 65,
     "metadata": {},
     "output_type": "execute_result"
    }
   ],
   "source": [
    "y1_test.values"
   ]
  },
  {
   "cell_type": "code",
   "execution_count": 67,
   "id": "c9c2debb",
   "metadata": {},
   "outputs": [
    {
     "data": {
      "text/plain": [
       "array([0, 1, 1, ..., 1, 1, 1], dtype=int64)"
      ]
     },
     "execution_count": 67,
     "metadata": {},
     "output_type": "execute_result"
    }
   ],
   "source": [
    "y_pred1"
   ]
  },
  {
   "cell_type": "code",
   "execution_count": 69,
   "id": "79826d01",
   "metadata": {},
   "outputs": [
    {
     "data": {
      "text/plain": [
       "array([[319, 192],\n",
       "       [175, 333]], dtype=int64)"
      ]
     },
     "execution_count": 69,
     "metadata": {},
     "output_type": "execute_result"
    }
   ],
   "source": [
    "confusion_matrix(y1_test, y_pred1)"
   ]
  },
  {
   "cell_type": "code",
   "execution_count": 73,
   "id": "4d6ec433",
   "metadata": {},
   "outputs": [],
   "source": [
    "tn, fp, fn, tp = confusion_matrix(y1_test, y_pred1).ravel()"
   ]
  },
  {
   "cell_type": "code",
   "execution_count": 74,
   "id": "24bd5497",
   "metadata": {},
   "outputs": [],
   "source": [
    "accuracy=(tp+tn)/(tp+tn+fp+fn)\n",
    "error = 1-accuracy\n",
    "precision=tp/(tp+fp)\n",
    "recall=tp/(tp+fn)\n",
    "specificity=tn/(fp+tn)\n",
    "result={\"Accuracy\":accuracy,\"Error\":error, \"Precision\":precision,\"Recall\":recall,'Specificity':specificity}"
   ]
  },
  {
   "cell_type": "code",
   "execution_count": 75,
   "id": "3923a8d7",
   "metadata": {},
   "outputs": [
    {
     "data": {
      "text/plain": [
       "{'Accuracy': 0.6398429833169774,\n",
       " 'Error': 0.3601570166830226,\n",
       " 'Precision': 0.6342857142857142,\n",
       " 'Recall': 0.655511811023622,\n",
       " 'Specificity': 0.62426614481409}"
      ]
     },
     "execution_count": 75,
     "metadata": {},
     "output_type": "execute_result"
    }
   ],
   "source": [
    "result"
   ]
  }
 ],
 "metadata": {
  "kernelspec": {
   "display_name": "Python 3 (ipykernel)",
   "language": "python",
   "name": "python3"
  },
  "language_info": {
   "codemirror_mode": {
    "name": "ipython",
    "version": 3
   },
   "file_extension": ".py",
   "mimetype": "text/x-python",
   "name": "python",
   "nbconvert_exporter": "python",
   "pygments_lexer": "ipython3",
   "version": "3.10.9"
  },
  "papermill": {
   "default_parameters": {},
   "duration": 79.725934,
   "end_time": "2022-10-21T18:23:50.600735",
   "environment_variables": {},
   "exception": null,
   "input_path": "__notebook__.ipynb",
   "output_path": "__notebook__.ipynb",
   "parameters": {},
   "start_time": "2022-10-21T18:22:30.874801",
   "version": "2.3.4"
  }
 },
 "nbformat": 4,
 "nbformat_minor": 5
}
