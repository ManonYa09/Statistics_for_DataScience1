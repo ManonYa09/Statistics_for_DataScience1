{
 "cells": [
  {
   "cell_type": "markdown",
   "metadata": {},
   "source": [
    "# Descriptive Statistics with Python\n"
   ]
  },
  {
   "cell_type": "markdown",
   "metadata": {},
   "source": [
    "### Determine whether descriptive or inferential statistics\n",
    "a. The average price of a 30-second ad for the Academy Awards show in a recent \n",
    "year was 1.90 million dollars.\n",
    "\n",
    "b. The Department of Economic and Social Affairs predicts that the population of \n",
    "Mexico City, Mexico, in 2030 will be 238,647,000 people.\n",
    "\n",
    "c. A medical report stated that taking statins is proven to lower heart attacks, but some \n",
    "people are at a slightly higher risk of developing diabetes when taking statins.\n",
    "\n",
    "d. A survey of 2234 people conducted by the Harris Poll found that 55% of the \n",
    "respondents said that excessive complaining by adults was the most annoying \n",
    "social media habit."
   ]
  },
  {
   "cell_type": "markdown",
   "metadata": {},
   "source": [
    "#### Measures of Central tendency\n",
    "#### Measures of Dispersion"
   ]
  },
  {
   "cell_type": "markdown",
   "metadata": {},
   "source": [
    "## Table of Contents\n"
   ]
  },
  {
   "cell_type": "markdown",
   "metadata": {},
   "source": [
    "```py\n",
    "list1 = [20, 35, 30]\n",
    "list2 = [10 25,55]\n",
    "list3 = [5, 10, 75]\n",
    "```"
   ]
  },
  {
   "cell_type": "markdown",
   "metadata": {},
   "source": [
    "### 1. Measures of central tendency \n",
    "Is a single value that represent the center point of a dataset. This value can also be referred to as `the central location` of a dataset.\n",
    "\n",
    "#### Mean \n",
    "- The mean represent the average value of the dataset.\n",
    "- The most common measure of central tendency is the mean.\n",
    "- The mean can be used for both continuous and discrete numeric data.\n",
    "##### When to use Mean?\n",
    "- When the distribution of data is symmertrical and there are no outliers.\n",
    "- Distribution is Symmetrical\n",
    "\n",
    "**Symmertrical**\n",
    "<img src=\"Photos/Symmertrical Distribution.png.\" alt=\"Control Structure\" width=\"70%\" style=\"display: block; margin: 0 auto;\">\n",
    "\n",
    "[Details](https://www.abs.gov.au/statistics/understanding-statistics/statistical-terms-and-concepts/measures-central-tendency#:~:text=There%20are%20three%20main%20measures,central%20value%20in%20the%20distribution.)\n",
    "##### Limitations of the mean\n",
    "\n",
    "    The mean cannot be calculated for `categorical data`, as the values cannot be summed.\n",
    "\n",
    "    As the mean includes every value in the distribution the mean is influenced by outliers and skewed distributions.\n",
    "\n",
    "#### Median \n",
    "- Median is the number which divides the dataset into two equal halves.\n",
    "##### When to use Median?\n",
    "- The median is less affected by outliers and **skewed** data than the mean and is usually the preferred measure of central tendency when the distribution is not symmetrical. \n",
    "\n",
    "**Skewed Distribution**\n",
    "\n",
    "<img src=\"Photos/Skewed distribution.png\" alt=\"Control Structure\" width=\"75%\" style=\"display: block; margin: 0 auto;\">\n",
    "\n",
    "##### Limitation of the median\n",
    "The median cannot be identified for categorical nominal data, as it cannot be logically ordered.\n",
    "\n",
    "\n",
    "#### Mode \n",
    "The mode is the most coommly occurring value in a distribution.\n",
    "###### Advantage of the mode\n",
    "The mode has an advantage over the median and the mean as it can be found for both numerical and categorical (non-numerical) data.\n"
   ]
  },
  {
   "cell_type": "markdown",
   "metadata": {},
   "source": [
    "### 2. Measures Of Dispersion\n",
    "let we describe the spread of our dataset, or the amount of variation in your data values. \n",
    "\n",
    "```py\n",
    "list1 = [20, 35, 30]\n",
    "list2 = [10 25,55]\n",
    "list3 = [5, 10, 75]\n",
    "```"
   ]
  },
  {
   "cell_type": "code",
   "execution_count": 6,
   "metadata": {},
   "outputs": [],
   "source": [
    "import numpy as np"
   ]
  },
  {
   "cell_type": "code",
   "execution_count": 12,
   "metadata": {},
   "outputs": [],
   "source": [
    "list1 = np.array([20, 35, 30])\n",
    "list2 = np.array([10,25,55])\n",
    "list3 = np.array([5, 10, 75])"
   ]
  },
  {
   "cell_type": "code",
   "execution_count": 3,
   "metadata": {},
   "outputs": [
    {
     "data": {
      "text/plain": [
       "28.333333333333332"
      ]
     },
     "execution_count": 3,
     "metadata": {},
     "output_type": "execute_result"
    }
   ],
   "source": [
    "sum(list1)/len(list1)"
   ]
  },
  {
   "cell_type": "code",
   "execution_count": 7,
   "metadata": {},
   "outputs": [],
   "source": [
    "list1 = np.array(list1)"
   ]
  },
  {
   "cell_type": "code",
   "execution_count": 8,
   "metadata": {},
   "outputs": [
    {
     "data": {
      "text/plain": [
       "6.236095644623236"
      ]
     },
     "execution_count": 8,
     "metadata": {},
     "output_type": "execute_result"
    }
   ],
   "source": [
    "list1.std()"
   ]
  },
  {
   "cell_type": "code",
   "execution_count": 4,
   "metadata": {},
   "outputs": [
    {
     "data": {
      "text/plain": [
       "30.0"
      ]
     },
     "execution_count": 4,
     "metadata": {},
     "output_type": "execute_result"
    }
   ],
   "source": [
    "sum(list2)/len(list2)"
   ]
  },
  {
   "cell_type": "code",
   "execution_count": 10,
   "metadata": {},
   "outputs": [
    {
     "data": {
      "text/plain": [
       "18.708286933869708"
      ]
     },
     "execution_count": 10,
     "metadata": {},
     "output_type": "execute_result"
    }
   ],
   "source": [
    "list2 = np.array(list2)\n",
    "list2.std()"
   ]
  },
  {
   "cell_type": "code",
   "execution_count": 5,
   "metadata": {},
   "outputs": [
    {
     "data": {
      "text/plain": [
       "30.0"
      ]
     },
     "execution_count": 5,
     "metadata": {},
     "output_type": "execute_result"
    }
   ],
   "source": [
    "sum(list3)/len(list3)"
   ]
  },
  {
   "cell_type": "code",
   "execution_count": 11,
   "metadata": {},
   "outputs": [
    {
     "data": {
      "text/plain": [
       "31.88521078284832"
      ]
     },
     "execution_count": 11,
     "metadata": {},
     "output_type": "execute_result"
    }
   ],
   "source": [
    "list3 = np.array(list3)\n",
    "list3.std()"
   ]
  },
  {
   "cell_type": "code",
   "execution_count": 13,
   "metadata": {},
   "outputs": [
    {
     "data": {
      "text/plain": [
       "array([20, 35, 30])"
      ]
     },
     "execution_count": 13,
     "metadata": {},
     "output_type": "execute_result"
    }
   ],
   "source": [
    "list1"
   ]
  },
  {
   "cell_type": "code",
   "execution_count": 15,
   "metadata": {},
   "outputs": [
    {
     "data": {
      "text/plain": [
       "15"
      ]
     },
     "execution_count": 15,
     "metadata": {},
     "output_type": "execute_result"
    }
   ],
   "source": [
    "list1[1] - list1[0]"
   ]
  },
  {
   "cell_type": "code",
   "execution_count": 16,
   "metadata": {},
   "outputs": [
    {
     "data": {
      "text/plain": [
       "15"
      ]
     },
     "execution_count": 16,
     "metadata": {},
     "output_type": "execute_result"
    }
   ],
   "source": [
    "list1.max() - list1.min()"
   ]
  },
  {
   "cell_type": "markdown",
   "metadata": {},
   "source": [
    "#### Range\n",
    "The **range** is the difference between the largest and smallest value in a dataset. \n",
    "\n",
    "#### Variance \n",
    "The average of the spuared difference of each data point from the mean.\n",
    "#### Standard Deviation\n",
    "Measures how spread out your values are from the mean of your dataset.\n",
    "\n",
    "    - Low, or small, standard deviation indicates data are clustered tightly around the mean, and high, or large, standard deviation indicates data are more spread out.\n",
    "<img src=\"Photos/photo_2023-11-11_10-46-48.jpg\" alt=\"Control Structure\" width=\"75%\" style=\"display: block; margin: 0 auto;\">"
   ]
  },
  {
   "cell_type": "markdown",
   "metadata": {},
   "source": [
    "**Exercise:** \n",
    "```py\n",
    "data = [56, 65, 74, 75, 76, 77, 80, 81, 91]\n",
    "```\n",
    "- Find Mean \n",
    "- Find std Population"
   ]
  },
  {
   "cell_type": "code",
   "execution_count": 22,
   "metadata": {},
   "outputs": [
    {
     "name": "stdout",
     "output_type": "stream",
     "text": [
      "The average of our data: 75.0\n",
      "The STD of our data: 9.33\n"
     ]
    }
   ],
   "source": [
    "data = np.array([56, 65, 74, 75, 76, 77, 80, 81, 91])\n",
    "print('The average of our data:', data.mean())\n",
    "print('The STD of our data:', np.round(data.std(), 2))"
   ]
  },
  {
   "cell_type": "markdown",
   "metadata": {},
   "source": [
    "### 3. Measures of Position \n"
   ]
  },
  {
   "cell_type": "markdown",
   "metadata": {},
   "source": [
    "\n",
    "**Measures of Position**  let you determine the position of a value in relation to other values in a dataset."
   ]
  },
  {
   "cell_type": "markdown",
   "metadata": {},
   "source": [
    "#### 3.1 Percentile "
   ]
  },
  {
   "cell_type": "markdown",
   "metadata": {},
   "source": [
    "#### What Is a Percentile in Statistics?"
   ]
  },
  {
   "cell_type": "markdown",
   "metadata": {},
   "source": [
    "Percentiles: are value that separates a set of data into **100** equal parts. we can use $ P_1, P_2, P_3, ... P_{99}$"
   ]
  },
  {
   "attachments": {
    "image.png": {
     "image/png": "[encoded data removed]"
    }
   },
   "cell_type": "markdown",
   "metadata": {},
   "source": [
    "![image.png](attachment:image.png)"
   ]
  },
  {
   "cell_type": "markdown",
   "metadata": {},
   "source": [
    "### Quartile"
   ]
  },
  {
   "cell_type": "markdown",
   "metadata": {},
   "source": [
    "divides the values in a dataset into four equal parts"
   ]
  },
  {
   "cell_type": "markdown",
   "metadata": {},
   "source": [
    "\n",
    "<img src=\"Photos/Three-Quartiles-Four-Quarters.png\" alt=\"Control Structure\" width=\"75%\" style=\"display: block; margin: 0 auto;\">"
   ]
  },
  {
   "cell_type": "markdown",
   "metadata": {},
   "source": [
    "#### Boxplot\n",
    "\n",
    "#### Using visualizations\n"
   ]
  },
  {
   "cell_type": "markdown",
   "metadata": {},
   "source": [
    "<img src=\"Photos/Box-Plot-and-Whisker-Plot-1.png\" alt=\"Control Structure\" width=\"75%\" style=\"display: block; margin: 0 auto;\">\n",
    "\n",
    "[Deials](https://www.scribbr.com/statistics/outliers/)"
   ]
  },
  {
   "cell_type": "markdown",
   "metadata": {},
   "source": [
    "### Outlier\n",
    "Outliers are values at the extreme ends of a dataset.\n",
    "\n",
    "Some outliers represent true values from natural variation in the population. Other outliers may result from incorrect data entry, equipment malfunctions, or other measurement errors.\n",
    "\n"
   ]
  },
  {
   "cell_type": "code",
   "execution_count": 27,
   "metadata": {},
   "outputs": [],
   "source": [
    "def outlier_detection(df):\n",
    "    \"\"\"\n",
    "    Detect potential outliers in a DataFrame using the Interquartile Range (IQR) method.\n",
    "\n",
    "    Parameters:\n",
    "    - df (pandas.DataFrame): The input DataFrame containing numerical data.\n",
    "\n",
    "    Returns:\n",
    "    - pandas.Series: A Series containing potential outlier values.\n",
    "    \n",
    "    The function calculates the first quartile (Q1), third quartile (Q3), and the Interquartile Range (IQR).\n",
    "    It then identifies potential outliers below the lower bound (Q1 - 1.5 * IQR) or above the upper bound (Q3 + 1.5 * IQR).\n",
    "    The result is a Series containing the values in the DataFrame that are potential outliers.\n",
    "\n",
    "    Example:\n",
    "    >>> data = {'Column1': [2, 4, 5, 7, 8, 9, 10, 11, 12, 50]}\n",
    "    >>> df = pd.DataFrame(data)\n",
    "    >>> outlier_detection(df['Column1'])\n",
    "    Returns:\n",
    "    9    50\n",
    "    Name: Column1, dtype: int64\n",
    "    \"\"\"\n",
    "    Q1 = df.quantile(0.25)\n",
    "    Q3 = df.quantile(0.75)\n",
    "    IQR = Q3 - Q1\n",
    "    upper_end = Q3 + 1.5 * IQR\n",
    "    lower_end = Q1 - 1.5 * IQR\n",
    "    outliers = df[(df > upper_end) | (df < lower_end)]\n",
    "    return outliers\n"
   ]
  },
  {
   "cell_type": "code",
   "execution_count": 28,
   "metadata": {},
   "outputs": [],
   "source": [
    "def filter_by_substring(df, column_name, substring, case = True):\n",
    "    \"\"\"\n",
    "    Filter DataFrame rows based on a substring match in a specific column.\n",
    "\n",
    "    Parameters:\n",
    "    - df (pandas.DataFrame): The input DataFrame.\n",
    "    - column_name (str): The name of the column to check for the substring.\n",
    "    - substring (str): The substring to search for in the specified column.\n",
    "\n",
    "    Returns:\n",
    "    - pandas.DataFrame: A DataFrame containing rows where the specified substring is found in the specified column.\n",
    "    \"\"\"\n",
    "    return df[df[column_name].str.contains(substring, case=case)]"
   ]
  },
  {
   "cell_type": "code",
   "execution_count": 29,
   "metadata": {},
   "outputs": [],
   "source": [
    "def boxplot(data, column_name):\n",
    "    \"\"\"\n",
    "    Create a box plot for a specified column in a DataFrame.\n",
    "\n",
    "    Parameters:\n",
    "    - data (pandas.DataFrame): The input DataFrame.\n",
    "    - column_name (str): The name of the column for which to create the box plot.\n",
    "\n",
    "    Returns:\n",
    "    - None\n",
    "\n",
    "    This function uses Matplotlib and Seaborn to generate a box plot for the specified column.\n",
    "    \"\"\"\n",
    "    plt.figure(figsize=(8, 6))\n",
    "    sns.boxplot(x=data[column_name])\n",
    "\n",
    "    # Add labels and a title\n",
    "    plt.xlabel('Data')\n",
    "    plt.ylabel('Values')\n",
    "    plt.title(f'Box Plot for {column_name}')\n",
    "    plt.grid(True)\n",
    "    plt.show()"
   ]
  },
  {
   "cell_type": "code",
   "execution_count": 30,
   "metadata": {},
   "outputs": [],
   "source": [
    "def get_missing_features(data):\n",
    "    \"\"\"\n",
    "    Get the features (columns) in a DataFrame that have missing values.\n",
    "\n",
    "    Parameters:\n",
    "    - data (pandas.DataFrame): The input DataFrame.\n",
    "\n",
    "    Returns:\n",
    "    - list: A list of feature names with missing values.\n",
    "    \"\"\"\n",
    "    missing_features = data.columns[data.isnull().any()].tolist()\n",
    "    return missing_features"
   ]
  },
  {
   "cell_type": "code",
   "execution_count": 44,
   "metadata": {},
   "outputs": [],
   "source": [
    "def get_cat_features(df):\n",
    "    \"\"\"\n",
    "    Identify categorical features in a Pandas DataFrame.\n",
    "\n",
    "    Parameters:\n",
    "    - df (pd.DataFrame): The input DataFrame to analyze.\n",
    "\n",
    "    Returns:\n",
    "    - List[str]: A list of column names containing categorical features.\n",
    "\n",
    "    Example:\n",
    "    >>> import pandas as pd\n",
    "    >>> data = {'Name': ['Alice', 'Bob', 'Charlie'],\n",
    "    ...         'Age': [25, 30, 22],\n",
    "    ...         'Gender': ['Female', 'Male', 'Male']}\n",
    "    >>> df = pd.DataFrame(data)\n",
    "    >>> categorical_columns = check_cat_features(df)\n",
    "    >>> print(categorical_columns)\n",
    "    ['Name', 'Gender']\n",
    "    \"\"\"\n",
    "    cat_features = []\n",
    "    for col in df.columns:\n",
    "        if df[col].dtype == 'O':\n",
    "            cat_features.append(col)\n",
    "    return cat_features\n"
   ]
  },
  {
   "cell_type": "code",
   "execution_count": 45,
   "metadata": {},
   "outputs": [],
   "source": [
    "def getnum_features(df, cat_features):\n",
    "    \"\"\"\n",
    "    Identify numerical features in a Pandas DataFrame by excluding categorical features.\n",
    "\n",
    "    Parameters:\n",
    "    - df (pd.DataFrame): The input DataFrame to analyze.\n",
    "    - cat_features (list): A list of column names containing categorical features.\n",
    "\n",
    "    Returns:\n",
    "    - List[str]: A list of column names containing numerical features.\n",
    "\n",
    "    Example:\n",
    "    >>> import pandas as pd\n",
    "    >>> data = {'Name': ['Alice', 'Bob', 'Charlie'],\n",
    "    ...         'Age': [25, 30, 22],\n",
    "    ...         'Gender': ['Female', 'Male', 'Male']}\n",
    "    >>> df = pd.DataFrame(data)\n",
    "    >>> cat_columns = ['Name', 'Gender']\n",
    "    >>> numerical_columns = get_num_features(df, cat_columns)\n",
    "    >>> print(numerical_columns)\n",
    "    ['Age']\n",
    "    \"\"\"\n",
    "    num_features = [col for col in df.columns if col not in cat_features]\n",
    "    return num_features\n"
   ]
  },
  {
   "cell_type": "markdown",
   "metadata": {},
   "source": [
    "### About dataset\n",
    "This dataset represents a list of school districts in an anonymous country. The data includes district and state names, total population, and the literacy rate.\n",
    "\n",
    "The dataset contains:\n",
    "\n",
    "680 rows – each row is a different school district\n",
    "\n",
    "| Column Name | Type   | Description                                                |\n",
    "|-------------|--------|------------------------------------------------------------|\n",
    "| DISTNAME    | str    | The names of an anonymous country’s school districts      |\n",
    "| STATNAME    | str    | The names of an anonymous country’s states                 |\n",
    "| BLOCKS      | int64  | The number of blocks in the school district. Blocks are the smallest organizational structure in the education system of the anonymous country.                |\n",
    "| VILLAGES    | int64  | The number of villages in each district                    |\n",
    "| CLUSTERS    | int64  | The number of clusters in the school district              |\n",
    "| TOTPOPULAT  | int64  | The population for each district                           |\n",
    "| OVERALL_LI  | int64  | The literacy rate for each district                        |"
   ]
  },
  {
   "cell_type": "code",
   "execution_count": 46,
   "metadata": {},
   "outputs": [],
   "source": [
    "import matplotlib.pyplot as plt\n",
    "import seaborn as sns\n",
    "import pandas as pd"
   ]
  },
  {
   "cell_type": "code",
   "execution_count": 47,
   "metadata": {},
   "outputs": [],
   "source": [
    "df = pd.read_csv('education_districtwise.csv')"
   ]
  },
  {
   "cell_type": "code",
   "execution_count": 25,
   "metadata": {},
   "outputs": [
    {
     "data": {
      "text/html": [
       "<div>\n",
       "<style scoped>\n",
       "    .dataframe tbody tr th:only-of-type {\n",
       "        vertical-align: middle;\n",
       "    }\n",
       "\n",
       "    .dataframe tbody tr th {\n",
       "        vertical-align: top;\n",
       "    }\n",
       "\n",
       "    .dataframe thead th {\n",
       "        text-align: right;\n",
       "    }\n",
       "</style>\n",
       "<table border=\"1\" class=\"dataframe\">\n",
       "  <thead>\n",
       "    <tr style=\"text-align: right;\">\n",
       "      <th></th>\n",
       "      <th>DISTNAME</th>\n",
       "      <th>STATNAME</th>\n",
       "      <th>BLOCKS</th>\n",
       "      <th>VILLAGES</th>\n",
       "      <th>CLUSTERS</th>\n",
       "      <th>TOTPOPULAT</th>\n",
       "      <th>OVERALL_LI</th>\n",
       "    </tr>\n",
       "  </thead>\n",
       "  <tbody>\n",
       "    <tr>\n",
       "      <th>0</th>\n",
       "      <td>DISTRICT32</td>\n",
       "      <td>STATE1</td>\n",
       "      <td>13</td>\n",
       "      <td>391</td>\n",
       "      <td>104</td>\n",
       "      <td>875564.0</td>\n",
       "      <td>66.92</td>\n",
       "    </tr>\n",
       "    <tr>\n",
       "      <th>1</th>\n",
       "      <td>DISTRICT649</td>\n",
       "      <td>STATE1</td>\n",
       "      <td>18</td>\n",
       "      <td>678</td>\n",
       "      <td>144</td>\n",
       "      <td>1015503.0</td>\n",
       "      <td>66.93</td>\n",
       "    </tr>\n",
       "    <tr>\n",
       "      <th>2</th>\n",
       "      <td>DISTRICT229</td>\n",
       "      <td>STATE1</td>\n",
       "      <td>8</td>\n",
       "      <td>94</td>\n",
       "      <td>65</td>\n",
       "      <td>1269751.0</td>\n",
       "      <td>71.21</td>\n",
       "    </tr>\n",
       "    <tr>\n",
       "      <th>3</th>\n",
       "      <td>DISTRICT259</td>\n",
       "      <td>STATE1</td>\n",
       "      <td>13</td>\n",
       "      <td>523</td>\n",
       "      <td>104</td>\n",
       "      <td>735753.0</td>\n",
       "      <td>57.98</td>\n",
       "    </tr>\n",
       "    <tr>\n",
       "      <th>4</th>\n",
       "      <td>DISTRICT486</td>\n",
       "      <td>STATE1</td>\n",
       "      <td>8</td>\n",
       "      <td>359</td>\n",
       "      <td>64</td>\n",
       "      <td>570060.0</td>\n",
       "      <td>65.00</td>\n",
       "    </tr>\n",
       "  </tbody>\n",
       "</table>\n",
       "</div>"
      ],
      "text/plain": [
       "      DISTNAME STATNAME  BLOCKS  VILLAGES  CLUSTERS  TOTPOPULAT  OVERALL_LI\n",
       "0   DISTRICT32   STATE1      13       391       104    875564.0       66.92\n",
       "1  DISTRICT649   STATE1      18       678       144   1015503.0       66.93\n",
       "2  DISTRICT229   STATE1       8        94        65   1269751.0       71.21\n",
       "3  DISTRICT259   STATE1      13       523       104    735753.0       57.98\n",
       "4  DISTRICT486   STATE1       8       359        64    570060.0       65.00"
      ]
     },
     "execution_count": 25,
     "metadata": {},
     "output_type": "execute_result"
    }
   ],
   "source": [
    "df.head()"
   ]
  },
  {
   "cell_type": "code",
   "execution_count": 49,
   "metadata": {},
   "outputs": [
    {
     "data": {
      "text/plain": [
       "DISTNAME       object\n",
       "STATNAME       object\n",
       "BLOCKS          int64\n",
       "VILLAGES        int64\n",
       "CLUSTERS        int64\n",
       "TOTPOPULAT    float64\n",
       "OVERALL_LI    float64\n",
       "dtype: object"
      ]
     },
     "execution_count": 49,
     "metadata": {},
     "output_type": "execute_result"
    }
   ],
   "source": [
    "df.dtypes"
   ]
  },
  {
   "cell_type": "code",
   "execution_count": 52,
   "metadata": {},
   "outputs": [],
   "source": [
    "cat_feature = get_cat_features(df)"
   ]
  },
  {
   "cell_type": "code",
   "execution_count": 53,
   "metadata": {},
   "outputs": [
    {
     "data": {
      "text/plain": [
       "['BLOCKS', 'VILLAGES', 'CLUSTERS', 'TOTPOPULAT', 'OVERALL_LI']"
      ]
     },
     "execution_count": 53,
     "metadata": {},
     "output_type": "execute_result"
    }
   ],
   "source": [
    "getnum_features(df, cat_feature)"
   ]
  },
  {
   "cell_type": "code",
   "execution_count": 42,
   "metadata": {},
   "outputs": [
    {
     "data": {
      "text/plain": [
       "(680, 7)"
      ]
     },
     "execution_count": 42,
     "metadata": {},
     "output_type": "execute_result"
    }
   ],
   "source": [
    "df.shape"
   ]
  },
  {
   "cell_type": "code",
   "execution_count": 43,
   "metadata": {},
   "outputs": [
    {
     "data": {
      "text/plain": [
       "9.578309437379888"
      ]
     },
     "execution_count": 43,
     "metadata": {},
     "output_type": "execute_result"
    }
   ],
   "source": [
    "df['BLOCKS'].std(ddof=0)"
   ]
  },
  {
   "cell_type": "code",
   "execution_count": 26,
   "metadata": {},
   "outputs": [
    {
     "data": {
      "text/html": [
       "<div>\n",
       "<style scoped>\n",
       "    .dataframe tbody tr th:only-of-type {\n",
       "        vertical-align: middle;\n",
       "    }\n",
       "\n",
       "    .dataframe tbody tr th {\n",
       "        vertical-align: top;\n",
       "    }\n",
       "\n",
       "    .dataframe thead th {\n",
       "        text-align: right;\n",
       "    }\n",
       "</style>\n",
       "<table border=\"1\" class=\"dataframe\">\n",
       "  <thead>\n",
       "    <tr style=\"text-align: right;\">\n",
       "      <th></th>\n",
       "      <th>BLOCKS</th>\n",
       "      <th>VILLAGES</th>\n",
       "      <th>CLUSTERS</th>\n",
       "      <th>TOTPOPULAT</th>\n",
       "      <th>OVERALL_LI</th>\n",
       "    </tr>\n",
       "  </thead>\n",
       "  <tbody>\n",
       "    <tr>\n",
       "      <th>count</th>\n",
       "      <td>680.000000</td>\n",
       "      <td>680.000000</td>\n",
       "      <td>680.000000</td>\n",
       "      <td>6.340000e+02</td>\n",
       "      <td>634.000000</td>\n",
       "    </tr>\n",
       "    <tr>\n",
       "      <th>mean</th>\n",
       "      <td>10.760294</td>\n",
       "      <td>874.614706</td>\n",
       "      <td>121.226471</td>\n",
       "      <td>1.899024e+06</td>\n",
       "      <td>73.395189</td>\n",
       "    </tr>\n",
       "    <tr>\n",
       "      <th>std</th>\n",
       "      <td>9.585360</td>\n",
       "      <td>622.711657</td>\n",
       "      <td>94.040172</td>\n",
       "      <td>1.547475e+06</td>\n",
       "      <td>10.098460</td>\n",
       "    </tr>\n",
       "    <tr>\n",
       "      <th>min</th>\n",
       "      <td>1.000000</td>\n",
       "      <td>6.000000</td>\n",
       "      <td>1.000000</td>\n",
       "      <td>7.948000e+03</td>\n",
       "      <td>37.220000</td>\n",
       "    </tr>\n",
       "    <tr>\n",
       "      <th>25%</th>\n",
       "      <td>5.000000</td>\n",
       "      <td>390.750000</td>\n",
       "      <td>56.750000</td>\n",
       "      <td>8.226940e+05</td>\n",
       "      <td>66.437500</td>\n",
       "    </tr>\n",
       "    <tr>\n",
       "      <th>50%</th>\n",
       "      <td>8.000000</td>\n",
       "      <td>785.500000</td>\n",
       "      <td>101.000000</td>\n",
       "      <td>1.564392e+06</td>\n",
       "      <td>73.490000</td>\n",
       "    </tr>\n",
       "    <tr>\n",
       "      <th>75%</th>\n",
       "      <td>13.000000</td>\n",
       "      <td>1204.250000</td>\n",
       "      <td>162.500000</td>\n",
       "      <td>2.587520e+06</td>\n",
       "      <td>80.815000</td>\n",
       "    </tr>\n",
       "    <tr>\n",
       "      <th>max</th>\n",
       "      <td>66.000000</td>\n",
       "      <td>3963.000000</td>\n",
       "      <td>592.000000</td>\n",
       "      <td>1.105413e+07</td>\n",
       "      <td>98.760000</td>\n",
       "    </tr>\n",
       "  </tbody>\n",
       "</table>\n",
       "</div>"
      ],
      "text/plain": [
       "           BLOCKS     VILLAGES    CLUSTERS    TOTPOPULAT  OVERALL_LI\n",
       "count  680.000000   680.000000  680.000000  6.340000e+02  634.000000\n",
       "mean    10.760294   874.614706  121.226471  1.899024e+06   73.395189\n",
       "std      9.585360   622.711657   94.040172  1.547475e+06   10.098460\n",
       "min      1.000000     6.000000    1.000000  7.948000e+03   37.220000\n",
       "25%      5.000000   390.750000   56.750000  8.226940e+05   66.437500\n",
       "50%      8.000000   785.500000  101.000000  1.564392e+06   73.490000\n",
       "75%     13.000000  1204.250000  162.500000  2.587520e+06   80.815000\n",
       "max     66.000000  3963.000000  592.000000  1.105413e+07   98.760000"
      ]
     },
     "execution_count": 26,
     "metadata": {},
     "output_type": "execute_result"
    }
   ],
   "source": [
    "df.describe()"
   ]
  },
  {
   "cell_type": "code",
   "execution_count": 40,
   "metadata": {},
   "outputs": [
    {
     "data": {
      "text/html": [
       "<div>\n",
       "<style scoped>\n",
       "    .dataframe tbody tr th:only-of-type {\n",
       "        vertical-align: middle;\n",
       "    }\n",
       "\n",
       "    .dataframe tbody tr th {\n",
       "        vertical-align: top;\n",
       "    }\n",
       "\n",
       "    .dataframe thead th {\n",
       "        text-align: right;\n",
       "    }\n",
       "</style>\n",
       "<table border=\"1\" class=\"dataframe\">\n",
       "  <thead>\n",
       "    <tr style=\"text-align: right;\">\n",
       "      <th></th>\n",
       "      <th>DISTNAME</th>\n",
       "    </tr>\n",
       "  </thead>\n",
       "  <tbody>\n",
       "    <tr>\n",
       "      <th>209</th>\n",
       "      <td>DISTRICT208</td>\n",
       "    </tr>\n",
       "    <tr>\n",
       "      <th>350</th>\n",
       "      <td>DISTRICT254</td>\n",
       "    </tr>\n",
       "    <tr>\n",
       "      <th>352</th>\n",
       "      <td>DISTRICT329</td>\n",
       "    </tr>\n",
       "    <tr>\n",
       "      <th>353</th>\n",
       "      <td>DISTRICT252</td>\n",
       "    </tr>\n",
       "    <tr>\n",
       "      <th>354</th>\n",
       "      <td>DISTRICT388</td>\n",
       "    </tr>\n",
       "    <tr>\n",
       "      <th>355</th>\n",
       "      <td>DISTRICT269</td>\n",
       "    </tr>\n",
       "    <tr>\n",
       "      <th>360</th>\n",
       "      <td>DISTRICT13</td>\n",
       "    </tr>\n",
       "    <tr>\n",
       "      <th>361</th>\n",
       "      <td>DISTRICT561</td>\n",
       "    </tr>\n",
       "    <tr>\n",
       "      <th>362</th>\n",
       "      <td>DISTRICT230</td>\n",
       "    </tr>\n",
       "    <tr>\n",
       "      <th>395</th>\n",
       "      <td>DISTRICT406</td>\n",
       "    </tr>\n",
       "    <tr>\n",
       "      <th>407</th>\n",
       "      <td>DISTRICT118</td>\n",
       "    </tr>\n",
       "    <tr>\n",
       "      <th>569</th>\n",
       "      <td>DISTRICT437</td>\n",
       "    </tr>\n",
       "    <tr>\n",
       "      <th>570</th>\n",
       "      <td>DISTRICT411</td>\n",
       "    </tr>\n",
       "    <tr>\n",
       "      <th>571</th>\n",
       "      <td>DISTRICT73</td>\n",
       "    </tr>\n",
       "    <tr>\n",
       "      <th>572</th>\n",
       "      <td>DISTRICT213</td>\n",
       "    </tr>\n",
       "    <tr>\n",
       "      <th>573</th>\n",
       "      <td>DISTRICT204</td>\n",
       "    </tr>\n",
       "    <tr>\n",
       "      <th>574</th>\n",
       "      <td>DISTRICT92</td>\n",
       "    </tr>\n",
       "    <tr>\n",
       "      <th>575</th>\n",
       "      <td>DISTRICT87</td>\n",
       "    </tr>\n",
       "    <tr>\n",
       "      <th>576</th>\n",
       "      <td>DISTRICT321</td>\n",
       "    </tr>\n",
       "    <tr>\n",
       "      <th>577</th>\n",
       "      <td>DISTRICT113</td>\n",
       "    </tr>\n",
       "    <tr>\n",
       "      <th>578</th>\n",
       "      <td>DISTRICT108</td>\n",
       "    </tr>\n",
       "    <tr>\n",
       "      <th>579</th>\n",
       "      <td>DISTRICT235</td>\n",
       "    </tr>\n",
       "    <tr>\n",
       "      <th>580</th>\n",
       "      <td>DISTRICT58</td>\n",
       "    </tr>\n",
       "    <tr>\n",
       "      <th>581</th>\n",
       "      <td>DISTRICT492</td>\n",
       "    </tr>\n",
       "    <tr>\n",
       "      <th>670</th>\n",
       "      <td>DISTRICT371</td>\n",
       "    </tr>\n",
       "    <tr>\n",
       "      <th>671</th>\n",
       "      <td>DISTRICT620</td>\n",
       "    </tr>\n",
       "    <tr>\n",
       "      <th>672</th>\n",
       "      <td>DISTRICT477</td>\n",
       "    </tr>\n",
       "    <tr>\n",
       "      <th>673</th>\n",
       "      <td>DISTRICT599</td>\n",
       "    </tr>\n",
       "    <tr>\n",
       "      <th>675</th>\n",
       "      <td>DISTRICT522</td>\n",
       "    </tr>\n",
       "    <tr>\n",
       "      <th>676</th>\n",
       "      <td>DISTRICT498</td>\n",
       "    </tr>\n",
       "    <tr>\n",
       "      <th>677</th>\n",
       "      <td>DISTRICT343</td>\n",
       "    </tr>\n",
       "    <tr>\n",
       "      <th>678</th>\n",
       "      <td>DISTRICT130</td>\n",
       "    </tr>\n",
       "    <tr>\n",
       "      <th>679</th>\n",
       "      <td>DISTRICT341</td>\n",
       "    </tr>\n",
       "  </tbody>\n",
       "</table>\n",
       "</div>"
      ],
      "text/plain": [
       "        DISTNAME\n",
       "209  DISTRICT208\n",
       "350  DISTRICT254\n",
       "352  DISTRICT329\n",
       "353  DISTRICT252\n",
       "354  DISTRICT388\n",
       "355  DISTRICT269\n",
       "360   DISTRICT13\n",
       "361  DISTRICT561\n",
       "362  DISTRICT230\n",
       "395  DISTRICT406\n",
       "407  DISTRICT118\n",
       "569  DISTRICT437\n",
       "570  DISTRICT411\n",
       "571   DISTRICT73\n",
       "572  DISTRICT213\n",
       "573  DISTRICT204\n",
       "574   DISTRICT92\n",
       "575   DISTRICT87\n",
       "576  DISTRICT321\n",
       "577  DISTRICT113\n",
       "578  DISTRICT108\n",
       "579  DISTRICT235\n",
       "580   DISTRICT58\n",
       "581  DISTRICT492\n",
       "670  DISTRICT371\n",
       "671  DISTRICT620\n",
       "672  DISTRICT477\n",
       "673  DISTRICT599\n",
       "675  DISTRICT522\n",
       "676  DISTRICT498\n",
       "677  DISTRICT343\n",
       "678  DISTRICT130\n",
       "679  DISTRICT341"
      ]
     },
     "execution_count": 40,
     "metadata": {},
     "output_type": "execute_result"
    }
   ],
   "source": [
    "df.iloc[index_outlier, [0]]"
   ]
  },
  {
   "cell_type": "code",
   "execution_count": 41,
   "metadata": {},
   "outputs": [
    {
     "data": {
      "text/html": [
       "<div>\n",
       "<style scoped>\n",
       "    .dataframe tbody tr th:only-of-type {\n",
       "        vertical-align: middle;\n",
       "    }\n",
       "\n",
       "    .dataframe tbody tr th {\n",
       "        vertical-align: top;\n",
       "    }\n",
       "\n",
       "    .dataframe thead th {\n",
       "        text-align: right;\n",
       "    }\n",
       "</style>\n",
       "<table border=\"1\" class=\"dataframe\">\n",
       "  <thead>\n",
       "    <tr style=\"text-align: right;\">\n",
       "      <th></th>\n",
       "      <th>DISTNAME</th>\n",
       "    </tr>\n",
       "  </thead>\n",
       "  <tbody>\n",
       "    <tr>\n",
       "      <th>209</th>\n",
       "      <td>DISTRICT208</td>\n",
       "    </tr>\n",
       "    <tr>\n",
       "      <th>350</th>\n",
       "      <td>DISTRICT254</td>\n",
       "    </tr>\n",
       "    <tr>\n",
       "      <th>352</th>\n",
       "      <td>DISTRICT329</td>\n",
       "    </tr>\n",
       "    <tr>\n",
       "      <th>353</th>\n",
       "      <td>DISTRICT252</td>\n",
       "    </tr>\n",
       "    <tr>\n",
       "      <th>354</th>\n",
       "      <td>DISTRICT388</td>\n",
       "    </tr>\n",
       "    <tr>\n",
       "      <th>355</th>\n",
       "      <td>DISTRICT269</td>\n",
       "    </tr>\n",
       "    <tr>\n",
       "      <th>360</th>\n",
       "      <td>DISTRICT13</td>\n",
       "    </tr>\n",
       "    <tr>\n",
       "      <th>361</th>\n",
       "      <td>DISTRICT561</td>\n",
       "    </tr>\n",
       "    <tr>\n",
       "      <th>362</th>\n",
       "      <td>DISTRICT230</td>\n",
       "    </tr>\n",
       "    <tr>\n",
       "      <th>395</th>\n",
       "      <td>DISTRICT406</td>\n",
       "    </tr>\n",
       "    <tr>\n",
       "      <th>407</th>\n",
       "      <td>DISTRICT118</td>\n",
       "    </tr>\n",
       "    <tr>\n",
       "      <th>569</th>\n",
       "      <td>DISTRICT437</td>\n",
       "    </tr>\n",
       "    <tr>\n",
       "      <th>570</th>\n",
       "      <td>DISTRICT411</td>\n",
       "    </tr>\n",
       "    <tr>\n",
       "      <th>571</th>\n",
       "      <td>DISTRICT73</td>\n",
       "    </tr>\n",
       "    <tr>\n",
       "      <th>572</th>\n",
       "      <td>DISTRICT213</td>\n",
       "    </tr>\n",
       "    <tr>\n",
       "      <th>573</th>\n",
       "      <td>DISTRICT204</td>\n",
       "    </tr>\n",
       "    <tr>\n",
       "      <th>574</th>\n",
       "      <td>DISTRICT92</td>\n",
       "    </tr>\n",
       "    <tr>\n",
       "      <th>575</th>\n",
       "      <td>DISTRICT87</td>\n",
       "    </tr>\n",
       "    <tr>\n",
       "      <th>576</th>\n",
       "      <td>DISTRICT321</td>\n",
       "    </tr>\n",
       "    <tr>\n",
       "      <th>577</th>\n",
       "      <td>DISTRICT113</td>\n",
       "    </tr>\n",
       "    <tr>\n",
       "      <th>578</th>\n",
       "      <td>DISTRICT108</td>\n",
       "    </tr>\n",
       "    <tr>\n",
       "      <th>579</th>\n",
       "      <td>DISTRICT235</td>\n",
       "    </tr>\n",
       "    <tr>\n",
       "      <th>580</th>\n",
       "      <td>DISTRICT58</td>\n",
       "    </tr>\n",
       "    <tr>\n",
       "      <th>581</th>\n",
       "      <td>DISTRICT492</td>\n",
       "    </tr>\n",
       "    <tr>\n",
       "      <th>670</th>\n",
       "      <td>DISTRICT371</td>\n",
       "    </tr>\n",
       "    <tr>\n",
       "      <th>671</th>\n",
       "      <td>DISTRICT620</td>\n",
       "    </tr>\n",
       "    <tr>\n",
       "      <th>672</th>\n",
       "      <td>DISTRICT477</td>\n",
       "    </tr>\n",
       "    <tr>\n",
       "      <th>673</th>\n",
       "      <td>DISTRICT599</td>\n",
       "    </tr>\n",
       "    <tr>\n",
       "      <th>675</th>\n",
       "      <td>DISTRICT522</td>\n",
       "    </tr>\n",
       "    <tr>\n",
       "      <th>676</th>\n",
       "      <td>DISTRICT498</td>\n",
       "    </tr>\n",
       "    <tr>\n",
       "      <th>677</th>\n",
       "      <td>DISTRICT343</td>\n",
       "    </tr>\n",
       "    <tr>\n",
       "      <th>678</th>\n",
       "      <td>DISTRICT130</td>\n",
       "    </tr>\n",
       "    <tr>\n",
       "      <th>679</th>\n",
       "      <td>DISTRICT341</td>\n",
       "    </tr>\n",
       "  </tbody>\n",
       "</table>\n",
       "</div>"
      ],
      "text/plain": [
       "        DISTNAME\n",
       "209  DISTRICT208\n",
       "350  DISTRICT254\n",
       "352  DISTRICT329\n",
       "353  DISTRICT252\n",
       "354  DISTRICT388\n",
       "355  DISTRICT269\n",
       "360   DISTRICT13\n",
       "361  DISTRICT561\n",
       "362  DISTRICT230\n",
       "395  DISTRICT406\n",
       "407  DISTRICT118\n",
       "569  DISTRICT437\n",
       "570  DISTRICT411\n",
       "571   DISTRICT73\n",
       "572  DISTRICT213\n",
       "573  DISTRICT204\n",
       "574   DISTRICT92\n",
       "575   DISTRICT87\n",
       "576  DISTRICT321\n",
       "577  DISTRICT113\n",
       "578  DISTRICT108\n",
       "579  DISTRICT235\n",
       "580   DISTRICT58\n",
       "581  DISTRICT492\n",
       "670  DISTRICT371\n",
       "671  DISTRICT620\n",
       "672  DISTRICT477\n",
       "673  DISTRICT599\n",
       "675  DISTRICT522\n",
       "676  DISTRICT498\n",
       "677  DISTRICT343\n",
       "678  DISTRICT130\n",
       "679  DISTRICT341"
      ]
     },
     "execution_count": 41,
     "metadata": {},
     "output_type": "execute_result"
    }
   ],
   "source": [
    "df.loc[index_outlier, ['DISTNAME']]"
   ]
  },
  {
   "cell_type": "code",
   "execution_count": 36,
   "metadata": {},
   "outputs": [],
   "source": [
    "index_outlier = outlier_detection(df['BLOCKS']).index"
   ]
  },
  {
   "cell_type": "code",
   "execution_count": 54,
   "metadata": {},
   "outputs": [
    {
     "data": {
      "text/plain": [
       "156    2603\n",
       "193    2618\n",
       "350    3142\n",
       "352    3175\n",
       "354    3042\n",
       "360    3803\n",
       "361    3963\n",
       "362    3430\n",
       "370    2573\n",
       "395    3238\n",
       "407    2460\n",
       "Name: VILLAGES, dtype: int64"
      ]
     },
     "execution_count": 54,
     "metadata": {},
     "output_type": "execute_result"
    }
   ],
   "source": [
    "outlier_detection(df['VILLAGES'])"
   ]
  },
  {
   "cell_type": "code",
   "execution_count": 55,
   "metadata": {},
   "outputs": [
    {
     "data": {
      "text/plain": [
       "434    42.67\n",
       "469    44.45\n",
       "494    37.22\n",
       "Name: OVERALL_LI, dtype: float64"
      ]
     },
     "execution_count": 55,
     "metadata": {},
     "output_type": "execute_result"
    }
   ],
   "source": [
    "outlier_detection(df['OVERALL_LI'])"
   ]
  },
  {
   "cell_type": "code",
   "execution_count": 58,
   "metadata": {},
   "outputs": [
    {
     "data": {
      "text/plain": [
       "Index(['DISTNAME', 'STATNAME', 'BLOCKS', 'VILLAGES', 'CLUSTERS', 'TOTPOPULAT',\n",
       "       'OVERALL_LI'],\n",
       "      dtype='object')"
      ]
     },
     "execution_count": 58,
     "metadata": {},
     "output_type": "execute_result"
    }
   ],
   "source": [
    "df.columns"
   ]
  },
  {
   "cell_type": "code",
   "execution_count": 59,
   "metadata": {},
   "outputs": [
    {
     "data": {
      "image/png": "[encoded data removed]",
      "text/plain": [
       "<Figure size 800x600 with 1 Axes>"
      ]
     },
     "metadata": {},
     "output_type": "display_data"
    }
   ],
   "source": [
    "boxplot(df, 'TOTPOPULAT')"
   ]
  },
  {
   "cell_type": "code",
   "execution_count": 33,
   "metadata": {},
   "outputs": [
    {
     "data": {
      "image/png": "[encoded data removed]",
      "text/plain": [
       "<Figure size 800x600 with 1 Axes>"
      ]
     },
     "metadata": {},
     "output_type": "display_data"
    }
   ],
   "source": [
    "boxplot(df, 'BLOCKS')"
   ]
  },
  {
   "cell_type": "code",
   "execution_count": 19,
   "metadata": {},
   "outputs": [
    {
     "data": {
      "text/plain": [
       "DISTNAME       object\n",
       "STATNAME       object\n",
       "BLOCKS          int64\n",
       "VILLAGES        int64\n",
       "CLUSTERS        int64\n",
       "TOTPOPULAT    float64\n",
       "OVERALL_LI    float64\n",
       "dtype: object"
      ]
     },
     "execution_count": 19,
     "metadata": {},
     "output_type": "execute_result"
    }
   ],
   "source": [
    "df.dtypes"
   ]
  },
  {
   "cell_type": "markdown",
   "metadata": {},
   "source": [
    "## Missing value"
   ]
  },
  {
   "cell_type": "code",
   "execution_count": 62,
   "metadata": {},
   "outputs": [
    {
     "data": {
      "text/html": [
       "<div>\n",
       "<style scoped>\n",
       "    .dataframe tbody tr th:only-of-type {\n",
       "        vertical-align: middle;\n",
       "    }\n",
       "\n",
       "    .dataframe tbody tr th {\n",
       "        vertical-align: top;\n",
       "    }\n",
       "\n",
       "    .dataframe thead th {\n",
       "        text-align: right;\n",
       "    }\n",
       "</style>\n",
       "<table border=\"1\" class=\"dataframe\">\n",
       "  <thead>\n",
       "    <tr style=\"text-align: right;\">\n",
       "      <th></th>\n",
       "      <th>DISTNAME</th>\n",
       "      <th>STATNAME</th>\n",
       "      <th>BLOCKS</th>\n",
       "      <th>VILLAGES</th>\n",
       "      <th>CLUSTERS</th>\n",
       "      <th>TOTPOPULAT</th>\n",
       "      <th>OVERALL_LI</th>\n",
       "    </tr>\n",
       "  </thead>\n",
       "  <tbody>\n",
       "    <tr>\n",
       "      <th>0</th>\n",
       "      <td>False</td>\n",
       "      <td>False</td>\n",
       "      <td>False</td>\n",
       "      <td>False</td>\n",
       "      <td>False</td>\n",
       "      <td>False</td>\n",
       "      <td>False</td>\n",
       "    </tr>\n",
       "    <tr>\n",
       "      <th>1</th>\n",
       "      <td>False</td>\n",
       "      <td>False</td>\n",
       "      <td>False</td>\n",
       "      <td>False</td>\n",
       "      <td>False</td>\n",
       "      <td>False</td>\n",
       "      <td>False</td>\n",
       "    </tr>\n",
       "    <tr>\n",
       "      <th>2</th>\n",
       "      <td>False</td>\n",
       "      <td>False</td>\n",
       "      <td>False</td>\n",
       "      <td>False</td>\n",
       "      <td>False</td>\n",
       "      <td>False</td>\n",
       "      <td>False</td>\n",
       "    </tr>\n",
       "    <tr>\n",
       "      <th>3</th>\n",
       "      <td>False</td>\n",
       "      <td>False</td>\n",
       "      <td>False</td>\n",
       "      <td>False</td>\n",
       "      <td>False</td>\n",
       "      <td>False</td>\n",
       "      <td>False</td>\n",
       "    </tr>\n",
       "    <tr>\n",
       "      <th>4</th>\n",
       "      <td>False</td>\n",
       "      <td>False</td>\n",
       "      <td>False</td>\n",
       "      <td>False</td>\n",
       "      <td>False</td>\n",
       "      <td>False</td>\n",
       "      <td>False</td>\n",
       "    </tr>\n",
       "    <tr>\n",
       "      <th>...</th>\n",
       "      <td>...</td>\n",
       "      <td>...</td>\n",
       "      <td>...</td>\n",
       "      <td>...</td>\n",
       "      <td>...</td>\n",
       "      <td>...</td>\n",
       "      <td>...</td>\n",
       "    </tr>\n",
       "    <tr>\n",
       "      <th>675</th>\n",
       "      <td>False</td>\n",
       "      <td>False</td>\n",
       "      <td>False</td>\n",
       "      <td>False</td>\n",
       "      <td>False</td>\n",
       "      <td>False</td>\n",
       "      <td>False</td>\n",
       "    </tr>\n",
       "    <tr>\n",
       "      <th>676</th>\n",
       "      <td>False</td>\n",
       "      <td>False</td>\n",
       "      <td>False</td>\n",
       "      <td>False</td>\n",
       "      <td>False</td>\n",
       "      <td>False</td>\n",
       "      <td>False</td>\n",
       "    </tr>\n",
       "    <tr>\n",
       "      <th>677</th>\n",
       "      <td>False</td>\n",
       "      <td>False</td>\n",
       "      <td>False</td>\n",
       "      <td>False</td>\n",
       "      <td>False</td>\n",
       "      <td>False</td>\n",
       "      <td>False</td>\n",
       "    </tr>\n",
       "    <tr>\n",
       "      <th>678</th>\n",
       "      <td>False</td>\n",
       "      <td>False</td>\n",
       "      <td>False</td>\n",
       "      <td>False</td>\n",
       "      <td>False</td>\n",
       "      <td>False</td>\n",
       "      <td>False</td>\n",
       "    </tr>\n",
       "    <tr>\n",
       "      <th>679</th>\n",
       "      <td>False</td>\n",
       "      <td>False</td>\n",
       "      <td>False</td>\n",
       "      <td>False</td>\n",
       "      <td>False</td>\n",
       "      <td>False</td>\n",
       "      <td>False</td>\n",
       "    </tr>\n",
       "  </tbody>\n",
       "</table>\n",
       "<p>680 rows × 7 columns</p>\n",
       "</div>"
      ],
      "text/plain": [
       "     DISTNAME  STATNAME  BLOCKS  VILLAGES  CLUSTERS  TOTPOPULAT  OVERALL_LI\n",
       "0       False     False   False     False     False       False       False\n",
       "1       False     False   False     False     False       False       False\n",
       "2       False     False   False     False     False       False       False\n",
       "3       False     False   False     False     False       False       False\n",
       "4       False     False   False     False     False       False       False\n",
       "..        ...       ...     ...       ...       ...         ...         ...\n",
       "675     False     False   False     False     False       False       False\n",
       "676     False     False   False     False     False       False       False\n",
       "677     False     False   False     False     False       False       False\n",
       "678     False     False   False     False     False       False       False\n",
       "679     False     False   False     False     False       False       False\n",
       "\n",
       "[680 rows x 7 columns]"
      ]
     },
     "execution_count": 62,
     "metadata": {},
     "output_type": "execute_result"
    }
   ],
   "source": [
    "df.isnull()"
   ]
  },
  {
   "cell_type": "code",
   "execution_count": 60,
   "metadata": {},
   "outputs": [],
   "source": [
    "number_of_missing = df.isnull().sum()"
   ]
  },
  {
   "cell_type": "code",
   "execution_count": 61,
   "metadata": {},
   "outputs": [
    {
     "data": {
      "text/plain": [
       "DISTNAME       0\n",
       "STATNAME       0\n",
       "BLOCKS         0\n",
       "VILLAGES       0\n",
       "CLUSTERS       0\n",
       "TOTPOPULAT    46\n",
       "OVERALL_LI    46\n",
       "dtype: int64"
      ]
     },
     "execution_count": 61,
     "metadata": {},
     "output_type": "execute_result"
    }
   ],
   "source": [
    "number_of_missing"
   ]
  },
  {
   "cell_type": "code",
   "execution_count": 63,
   "metadata": {},
   "outputs": [
    {
     "data": {
      "text/plain": [
       "680"
      ]
     },
     "execution_count": 63,
     "metadata": {},
     "output_type": "execute_result"
    }
   ],
   "source": [
    "len(df)"
   ]
  },
  {
   "cell_type": "code",
   "execution_count": 48,
   "metadata": {},
   "outputs": [
    {
     "data": {
      "text/plain": [
       "DISTNAME      0.000000\n",
       "STATNAME      0.000000\n",
       "BLOCKS        0.000000\n",
       "VILLAGES      0.000000\n",
       "CLUSTERS      0.000000\n",
       "TOTPOPULAT    6.764706\n",
       "OVERALL_LI    6.764706\n",
       "dtype: float64"
      ]
     },
     "execution_count": 48,
     "metadata": {},
     "output_type": "execute_result"
    }
   ],
   "source": [
    "100 * number_of_missing/len(df)"
   ]
  },
  {
   "cell_type": "code",
   "execution_count": 64,
   "metadata": {},
   "outputs": [],
   "source": [
    "missing_features = get_missing_features(df)"
   ]
  },
  {
   "cell_type": "code",
   "execution_count": 65,
   "metadata": {},
   "outputs": [
    {
     "data": {
      "text/plain": [
       "['TOTPOPULAT', 'OVERALL_LI']"
      ]
     },
     "execution_count": 65,
     "metadata": {},
     "output_type": "execute_result"
    }
   ],
   "source": [
    "missing_features"
   ]
  },
  {
   "cell_type": "code",
   "execution_count": null,
   "metadata": {},
   "outputs": [],
   "source": [
    "df['BLOCKS'].any()"
   ]
  },
  {
   "cell_type": "code",
   "execution_count": 69,
   "metadata": {},
   "outputs": [],
   "source": [
    "missing_rows = df[df[missing_features].isnull().any(axis = 1)]"
   ]
  },
  {
   "cell_type": "code",
   "execution_count": 70,
   "metadata": {},
   "outputs": [
    {
     "data": {
      "text/html": [
       "<div>\n",
       "<style scoped>\n",
       "    .dataframe tbody tr th:only-of-type {\n",
       "        vertical-align: middle;\n",
       "    }\n",
       "\n",
       "    .dataframe tbody tr th {\n",
       "        vertical-align: top;\n",
       "    }\n",
       "\n",
       "    .dataframe thead th {\n",
       "        text-align: right;\n",
       "    }\n",
       "</style>\n",
       "<table border=\"1\" class=\"dataframe\">\n",
       "  <thead>\n",
       "    <tr style=\"text-align: right;\">\n",
       "      <th></th>\n",
       "      <th>DISTNAME</th>\n",
       "      <th>STATNAME</th>\n",
       "      <th>BLOCKS</th>\n",
       "      <th>VILLAGES</th>\n",
       "      <th>CLUSTERS</th>\n",
       "      <th>TOTPOPULAT</th>\n",
       "      <th>OVERALL_LI</th>\n",
       "    </tr>\n",
       "  </thead>\n",
       "  <tbody>\n",
       "    <tr>\n",
       "      <th>54</th>\n",
       "      <td>DISTRICT302</td>\n",
       "      <td>STATE26</td>\n",
       "      <td>5</td>\n",
       "      <td>510</td>\n",
       "      <td>61</td>\n",
       "      <td>NaN</td>\n",
       "      <td>NaN</td>\n",
       "    </tr>\n",
       "    <tr>\n",
       "      <th>55</th>\n",
       "      <td>DISTRICT276</td>\n",
       "      <td>STATE26</td>\n",
       "      <td>6</td>\n",
       "      <td>393</td>\n",
       "      <td>59</td>\n",
       "      <td>NaN</td>\n",
       "      <td>NaN</td>\n",
       "    </tr>\n",
       "    <tr>\n",
       "      <th>200</th>\n",
       "      <td>DISTRICT588</td>\n",
       "      <td>STATE21</td>\n",
       "      <td>10</td>\n",
       "      <td>951</td>\n",
       "      <td>71</td>\n",
       "      <td>NaN</td>\n",
       "      <td>NaN</td>\n",
       "    </tr>\n",
       "    <tr>\n",
       "      <th>205</th>\n",
       "      <td>DISTRICT535</td>\n",
       "      <td>STATE21</td>\n",
       "      <td>13</td>\n",
       "      <td>1050</td>\n",
       "      <td>99</td>\n",
       "      <td>NaN</td>\n",
       "      <td>NaN</td>\n",
       "    </tr>\n",
       "    <tr>\n",
       "      <th>206</th>\n",
       "      <td>DISTRICT218</td>\n",
       "      <td>STATE21</td>\n",
       "      <td>8</td>\n",
       "      <td>341</td>\n",
       "      <td>47</td>\n",
       "      <td>NaN</td>\n",
       "      <td>NaN</td>\n",
       "    </tr>\n",
       "    <tr>\n",
       "      <th>207</th>\n",
       "      <td>DISTRICT258</td>\n",
       "      <td>STATE21</td>\n",
       "      <td>6</td>\n",
       "      <td>342</td>\n",
       "      <td>53</td>\n",
       "      <td>NaN</td>\n",
       "      <td>NaN</td>\n",
       "    </tr>\n",
       "    <tr>\n",
       "      <th>266</th>\n",
       "      <td>DISTRICT303</td>\n",
       "      <td>STATE3</td>\n",
       "      <td>4</td>\n",
       "      <td>62</td>\n",
       "      <td>5</td>\n",
       "      <td>NaN</td>\n",
       "      <td>NaN</td>\n",
       "    </tr>\n",
       "    <tr>\n",
       "      <th>267</th>\n",
       "      <td>DISTRICT608</td>\n",
       "      <td>STATE3</td>\n",
       "      <td>3</td>\n",
       "      <td>160</td>\n",
       "      <td>13</td>\n",
       "      <td>NaN</td>\n",
       "      <td>NaN</td>\n",
       "    </tr>\n",
       "    <tr>\n",
       "      <th>268</th>\n",
       "      <td>DISTRICT62</td>\n",
       "      <td>STATE3</td>\n",
       "      <td>4</td>\n",
       "      <td>145</td>\n",
       "      <td>7</td>\n",
       "      <td>NaN</td>\n",
       "      <td>NaN</td>\n",
       "    </tr>\n",
       "    <tr>\n",
       "      <th>269</th>\n",
       "      <td>DISTRICT474</td>\n",
       "      <td>STATE3</td>\n",
       "      <td>4</td>\n",
       "      <td>91</td>\n",
       "      <td>11</td>\n",
       "      <td>NaN</td>\n",
       "      <td>NaN</td>\n",
       "    </tr>\n",
       "    <tr>\n",
       "      <th>302</th>\n",
       "      <td>DISTRICT467</td>\n",
       "      <td>STATE14</td>\n",
       "      <td>9</td>\n",
       "      <td>159</td>\n",
       "      <td>40</td>\n",
       "      <td>NaN</td>\n",
       "      <td>NaN</td>\n",
       "    </tr>\n",
       "    <tr>\n",
       "      <th>303</th>\n",
       "      <td>DISTRICT449</td>\n",
       "      <td>STATE14</td>\n",
       "      <td>8</td>\n",
       "      <td>95</td>\n",
       "      <td>33</td>\n",
       "      <td>NaN</td>\n",
       "      <td>NaN</td>\n",
       "    </tr>\n",
       "    <tr>\n",
       "      <th>304</th>\n",
       "      <td>DISTRICT464</td>\n",
       "      <td>STATE14</td>\n",
       "      <td>9</td>\n",
       "      <td>162</td>\n",
       "      <td>46</td>\n",
       "      <td>NaN</td>\n",
       "      <td>NaN</td>\n",
       "    </tr>\n",
       "    <tr>\n",
       "      <th>305</th>\n",
       "      <td>DISTRICT38</td>\n",
       "      <td>STATE14</td>\n",
       "      <td>6</td>\n",
       "      <td>82</td>\n",
       "      <td>33</td>\n",
       "      <td>NaN</td>\n",
       "      <td>NaN</td>\n",
       "    </tr>\n",
       "    <tr>\n",
       "      <th>313</th>\n",
       "      <td>DISTRICT192</td>\n",
       "      <td>STATE4</td>\n",
       "      <td>2</td>\n",
       "      <td>503</td>\n",
       "      <td>36</td>\n",
       "      <td>NaN</td>\n",
       "      <td>NaN</td>\n",
       "    </tr>\n",
       "    <tr>\n",
       "      <th>314</th>\n",
       "      <td>DISTRICT164</td>\n",
       "      <td>STATE4</td>\n",
       "      <td>2</td>\n",
       "      <td>179</td>\n",
       "      <td>29</td>\n",
       "      <td>NaN</td>\n",
       "      <td>NaN</td>\n",
       "    </tr>\n",
       "    <tr>\n",
       "      <th>315</th>\n",
       "      <td>DISTRICT112</td>\n",
       "      <td>STATE4</td>\n",
       "      <td>2</td>\n",
       "      <td>297</td>\n",
       "      <td>38</td>\n",
       "      <td>NaN</td>\n",
       "      <td>NaN</td>\n",
       "    </tr>\n",
       "    <tr>\n",
       "      <th>316</th>\n",
       "      <td>DISTRICT426</td>\n",
       "      <td>STATE4</td>\n",
       "      <td>2</td>\n",
       "      <td>430</td>\n",
       "      <td>37</td>\n",
       "      <td>NaN</td>\n",
       "      <td>NaN</td>\n",
       "    </tr>\n",
       "    <tr>\n",
       "      <th>364</th>\n",
       "      <td>DISTRICT165</td>\n",
       "      <td>STATE34</td>\n",
       "      <td>7</td>\n",
       "      <td>776</td>\n",
       "      <td>107</td>\n",
       "      <td>NaN</td>\n",
       "      <td>NaN</td>\n",
       "    </tr>\n",
       "    <tr>\n",
       "      <th>389</th>\n",
       "      <td>DISTRICT378</td>\n",
       "      <td>STATE24</td>\n",
       "      <td>15</td>\n",
       "      <td>1187</td>\n",
       "      <td>157</td>\n",
       "      <td>NaN</td>\n",
       "      <td>NaN</td>\n",
       "    </tr>\n",
       "    <tr>\n",
       "      <th>390</th>\n",
       "      <td>DISTRICT591</td>\n",
       "      <td>STATE24</td>\n",
       "      <td>8</td>\n",
       "      <td>385</td>\n",
       "      <td>60</td>\n",
       "      <td>NaN</td>\n",
       "      <td>NaN</td>\n",
       "    </tr>\n",
       "    <tr>\n",
       "      <th>391</th>\n",
       "      <td>DISTRICT171</td>\n",
       "      <td>STATE24</td>\n",
       "      <td>14</td>\n",
       "      <td>996</td>\n",
       "      <td>149</td>\n",
       "      <td>NaN</td>\n",
       "      <td>NaN</td>\n",
       "    </tr>\n",
       "    <tr>\n",
       "      <th>435</th>\n",
       "      <td>DISTRICT376</td>\n",
       "      <td>STATE31</td>\n",
       "      <td>5</td>\n",
       "      <td>632</td>\n",
       "      <td>103</td>\n",
       "      <td>NaN</td>\n",
       "      <td>NaN</td>\n",
       "    </tr>\n",
       "    <tr>\n",
       "      <th>436</th>\n",
       "      <td>DISTRICT212</td>\n",
       "      <td>STATE31</td>\n",
       "      <td>2</td>\n",
       "      <td>244</td>\n",
       "      <td>30</td>\n",
       "      <td>NaN</td>\n",
       "      <td>NaN</td>\n",
       "    </tr>\n",
       "    <tr>\n",
       "      <th>437</th>\n",
       "      <td>DISTRICT439</td>\n",
       "      <td>STATE31</td>\n",
       "      <td>3</td>\n",
       "      <td>628</td>\n",
       "      <td>56</td>\n",
       "      <td>NaN</td>\n",
       "      <td>NaN</td>\n",
       "    </tr>\n",
       "    <tr>\n",
       "      <th>438</th>\n",
       "      <td>DISTRICT419</td>\n",
       "      <td>STATE31</td>\n",
       "      <td>4</td>\n",
       "      <td>512</td>\n",
       "      <td>61</td>\n",
       "      <td>NaN</td>\n",
       "      <td>NaN</td>\n",
       "    </tr>\n",
       "    <tr>\n",
       "      <th>439</th>\n",
       "      <td>DISTRICT445</td>\n",
       "      <td>STATE31</td>\n",
       "      <td>3</td>\n",
       "      <td>524</td>\n",
       "      <td>56</td>\n",
       "      <td>NaN</td>\n",
       "      <td>NaN</td>\n",
       "    </tr>\n",
       "    <tr>\n",
       "      <th>440</th>\n",
       "      <td>DISTRICT166</td>\n",
       "      <td>STATE31</td>\n",
       "      <td>5</td>\n",
       "      <td>771</td>\n",
       "      <td>93</td>\n",
       "      <td>NaN</td>\n",
       "      <td>NaN</td>\n",
       "    </tr>\n",
       "    <tr>\n",
       "      <th>441</th>\n",
       "      <td>DISTRICT317</td>\n",
       "      <td>STATE31</td>\n",
       "      <td>4</td>\n",
       "      <td>719</td>\n",
       "      <td>70</td>\n",
       "      <td>NaN</td>\n",
       "      <td>NaN</td>\n",
       "    </tr>\n",
       "    <tr>\n",
       "      <th>442</th>\n",
       "      <td>DISTRICT14</td>\n",
       "      <td>STATE31</td>\n",
       "      <td>6</td>\n",
       "      <td>1051</td>\n",
       "      <td>118</td>\n",
       "      <td>NaN</td>\n",
       "      <td>NaN</td>\n",
       "    </tr>\n",
       "    <tr>\n",
       "      <th>443</th>\n",
       "      <td>DISTRICT331</td>\n",
       "      <td>STATE31</td>\n",
       "      <td>5</td>\n",
       "      <td>786</td>\n",
       "      <td>85</td>\n",
       "      <td>NaN</td>\n",
       "      <td>NaN</td>\n",
       "    </tr>\n",
       "    <tr>\n",
       "      <th>444</th>\n",
       "      <td>DISTRICT59</td>\n",
       "      <td>STATE31</td>\n",
       "      <td>6</td>\n",
       "      <td>700</td>\n",
       "      <td>114</td>\n",
       "      <td>NaN</td>\n",
       "      <td>NaN</td>\n",
       "    </tr>\n",
       "    <tr>\n",
       "      <th>445</th>\n",
       "      <td>DISTRICT548</td>\n",
       "      <td>STATE31</td>\n",
       "      <td>6</td>\n",
       "      <td>688</td>\n",
       "      <td>111</td>\n",
       "      <td>NaN</td>\n",
       "      <td>NaN</td>\n",
       "    </tr>\n",
       "    <tr>\n",
       "      <th>496</th>\n",
       "      <td>DISTRICT233</td>\n",
       "      <td>STATE22</td>\n",
       "      <td>4</td>\n",
       "      <td>505</td>\n",
       "      <td>32</td>\n",
       "      <td>NaN</td>\n",
       "      <td>NaN</td>\n",
       "    </tr>\n",
       "    <tr>\n",
       "      <th>523</th>\n",
       "      <td>DISTRICT153</td>\n",
       "      <td>STATE9</td>\n",
       "      <td>6</td>\n",
       "      <td>629</td>\n",
       "      <td>161</td>\n",
       "      <td>NaN</td>\n",
       "      <td>NaN</td>\n",
       "    </tr>\n",
       "    <tr>\n",
       "      <th>524</th>\n",
       "      <td>DISTRICT179</td>\n",
       "      <td>STATE9</td>\n",
       "      <td>4</td>\n",
       "      <td>195</td>\n",
       "      <td>40</td>\n",
       "      <td>NaN</td>\n",
       "      <td>NaN</td>\n",
       "    </tr>\n",
       "    <tr>\n",
       "      <th>525</th>\n",
       "      <td>DISTRICT530</td>\n",
       "      <td>STATE9</td>\n",
       "      <td>4</td>\n",
       "      <td>269</td>\n",
       "      <td>83</td>\n",
       "      <td>NaN</td>\n",
       "      <td>NaN</td>\n",
       "    </tr>\n",
       "    <tr>\n",
       "      <th>526</th>\n",
       "      <td>DISTRICT139</td>\n",
       "      <td>STATE9</td>\n",
       "      <td>6</td>\n",
       "      <td>360</td>\n",
       "      <td>85</td>\n",
       "      <td>NaN</td>\n",
       "      <td>NaN</td>\n",
       "    </tr>\n",
       "    <tr>\n",
       "      <th>527</th>\n",
       "      <td>DISTRICT106</td>\n",
       "      <td>STATE9</td>\n",
       "      <td>6</td>\n",
       "      <td>648</td>\n",
       "      <td>135</td>\n",
       "      <td>NaN</td>\n",
       "      <td>NaN</td>\n",
       "    </tr>\n",
       "    <tr>\n",
       "      <th>528</th>\n",
       "      <td>DISTRICT89</td>\n",
       "      <td>STATE9</td>\n",
       "      <td>6</td>\n",
       "      <td>929</td>\n",
       "      <td>116</td>\n",
       "      <td>NaN</td>\n",
       "      <td>NaN</td>\n",
       "    </tr>\n",
       "    <tr>\n",
       "      <th>529</th>\n",
       "      <td>DISTRICT137</td>\n",
       "      <td>STATE9</td>\n",
       "      <td>5</td>\n",
       "      <td>402</td>\n",
       "      <td>82</td>\n",
       "      <td>NaN</td>\n",
       "      <td>NaN</td>\n",
       "    </tr>\n",
       "    <tr>\n",
       "      <th>568</th>\n",
       "      <td>DISTRICT506</td>\n",
       "      <td>STATE17</td>\n",
       "      <td>8</td>\n",
       "      <td>1006</td>\n",
       "      <td>151</td>\n",
       "      <td>NaN</td>\n",
       "      <td>NaN</td>\n",
       "    </tr>\n",
       "    <tr>\n",
       "      <th>601</th>\n",
       "      <td>DISTRICT105</td>\n",
       "      <td>STATE20</td>\n",
       "      <td>5</td>\n",
       "      <td>584</td>\n",
       "      <td>96</td>\n",
       "      <td>NaN</td>\n",
       "      <td>NaN</td>\n",
       "    </tr>\n",
       "    <tr>\n",
       "      <th>611</th>\n",
       "      <td>DISTRICT236</td>\n",
       "      <td>STATE20</td>\n",
       "      <td>8</td>\n",
       "      <td>687</td>\n",
       "      <td>164</td>\n",
       "      <td>NaN</td>\n",
       "      <td>NaN</td>\n",
       "    </tr>\n",
       "    <tr>\n",
       "      <th>612</th>\n",
       "      <td>DISTRICT383</td>\n",
       "      <td>STATE20</td>\n",
       "      <td>4</td>\n",
       "      <td>832</td>\n",
       "      <td>102</td>\n",
       "      <td>NaN</td>\n",
       "      <td>NaN</td>\n",
       "    </tr>\n",
       "    <tr>\n",
       "      <th>615</th>\n",
       "      <td>DISTRICT606</td>\n",
       "      <td>STATE20</td>\n",
       "      <td>6</td>\n",
       "      <td>782</td>\n",
       "      <td>96</td>\n",
       "      <td>NaN</td>\n",
       "      <td>NaN</td>\n",
       "    </tr>\n",
       "  </tbody>\n",
       "</table>\n",
       "</div>"
      ],
      "text/plain": [
       "        DISTNAME STATNAME  BLOCKS  VILLAGES  CLUSTERS  TOTPOPULAT  OVERALL_LI\n",
       "54   DISTRICT302  STATE26       5       510        61         NaN         NaN\n",
       "55   DISTRICT276  STATE26       6       393        59         NaN         NaN\n",
       "200  DISTRICT588  STATE21      10       951        71         NaN         NaN\n",
       "205  DISTRICT535  STATE21      13      1050        99         NaN         NaN\n",
       "206  DISTRICT218  STATE21       8       341        47         NaN         NaN\n",
       "207  DISTRICT258  STATE21       6       342        53         NaN         NaN\n",
       "266  DISTRICT303   STATE3       4        62         5         NaN         NaN\n",
       "267  DISTRICT608   STATE3       3       160        13         NaN         NaN\n",
       "268   DISTRICT62   STATE3       4       145         7         NaN         NaN\n",
       "269  DISTRICT474   STATE3       4        91        11         NaN         NaN\n",
       "302  DISTRICT467  STATE14       9       159        40         NaN         NaN\n",
       "303  DISTRICT449  STATE14       8        95        33         NaN         NaN\n",
       "304  DISTRICT464  STATE14       9       162        46         NaN         NaN\n",
       "305   DISTRICT38  STATE14       6        82        33         NaN         NaN\n",
       "313  DISTRICT192   STATE4       2       503        36         NaN         NaN\n",
       "314  DISTRICT164   STATE4       2       179        29         NaN         NaN\n",
       "315  DISTRICT112   STATE4       2       297        38         NaN         NaN\n",
       "316  DISTRICT426   STATE4       2       430        37         NaN         NaN\n",
       "364  DISTRICT165  STATE34       7       776       107         NaN         NaN\n",
       "389  DISTRICT378  STATE24      15      1187       157         NaN         NaN\n",
       "390  DISTRICT591  STATE24       8       385        60         NaN         NaN\n",
       "391  DISTRICT171  STATE24      14       996       149         NaN         NaN\n",
       "435  DISTRICT376  STATE31       5       632       103         NaN         NaN\n",
       "436  DISTRICT212  STATE31       2       244        30         NaN         NaN\n",
       "437  DISTRICT439  STATE31       3       628        56         NaN         NaN\n",
       "438  DISTRICT419  STATE31       4       512        61         NaN         NaN\n",
       "439  DISTRICT445  STATE31       3       524        56         NaN         NaN\n",
       "440  DISTRICT166  STATE31       5       771        93         NaN         NaN\n",
       "441  DISTRICT317  STATE31       4       719        70         NaN         NaN\n",
       "442   DISTRICT14  STATE31       6      1051       118         NaN         NaN\n",
       "443  DISTRICT331  STATE31       5       786        85         NaN         NaN\n",
       "444   DISTRICT59  STATE31       6       700       114         NaN         NaN\n",
       "445  DISTRICT548  STATE31       6       688       111         NaN         NaN\n",
       "496  DISTRICT233  STATE22       4       505        32         NaN         NaN\n",
       "523  DISTRICT153   STATE9       6       629       161         NaN         NaN\n",
       "524  DISTRICT179   STATE9       4       195        40         NaN         NaN\n",
       "525  DISTRICT530   STATE9       4       269        83         NaN         NaN\n",
       "526  DISTRICT139   STATE9       6       360        85         NaN         NaN\n",
       "527  DISTRICT106   STATE9       6       648       135         NaN         NaN\n",
       "528   DISTRICT89   STATE9       6       929       116         NaN         NaN\n",
       "529  DISTRICT137   STATE9       5       402        82         NaN         NaN\n",
       "568  DISTRICT506  STATE17       8      1006       151         NaN         NaN\n",
       "601  DISTRICT105  STATE20       5       584        96         NaN         NaN\n",
       "611  DISTRICT236  STATE20       8       687       164         NaN         NaN\n",
       "612  DISTRICT383  STATE20       4       832       102         NaN         NaN\n",
       "615  DISTRICT606  STATE20       6       782        96         NaN         NaN"
      ]
     },
     "execution_count": 70,
     "metadata": {},
     "output_type": "execute_result"
    }
   ],
   "source": [
    "missing_rows"
   ]
  },
  {
   "cell_type": "code",
   "execution_count": 72,
   "metadata": {},
   "outputs": [
    {
     "data": {
      "text/plain": [
       "46"
      ]
     },
     "execution_count": 72,
     "metadata": {},
     "output_type": "execute_result"
    }
   ],
   "source": [
    "len(missing_rows)"
   ]
  },
  {
   "cell_type": "code",
   "execution_count": 73,
   "metadata": {},
   "outputs": [],
   "source": [
    "df1 = df.dropna()"
   ]
  },
  {
   "cell_type": "code",
   "execution_count": 74,
   "metadata": {},
   "outputs": [
    {
     "data": {
      "text/plain": [
       "DISTNAME      0\n",
       "STATNAME      0\n",
       "BLOCKS        0\n",
       "VILLAGES      0\n",
       "CLUSTERS      0\n",
       "TOTPOPULAT    0\n",
       "OVERALL_LI    0\n",
       "dtype: int64"
      ]
     },
     "execution_count": 74,
     "metadata": {},
     "output_type": "execute_result"
    }
   ],
   "source": [
    "df1.isnull().sum()"
   ]
  },
  {
   "cell_type": "markdown",
   "metadata": {},
   "source": [
    "## Duplicated"
   ]
  },
  {
   "cell_type": "code",
   "execution_count": 75,
   "metadata": {},
   "outputs": [
    {
     "data": {
      "text/plain": [
       "0"
      ]
     },
     "execution_count": 75,
     "metadata": {},
     "output_type": "execute_result"
    }
   ],
   "source": [
    "df1.duplicated().sum()"
   ]
  },
  {
   "cell_type": "markdown",
   "metadata": {},
   "source": [
    "## Outlier"
   ]
  },
  {
   "cell_type": "code",
   "execution_count": 83,
   "metadata": {},
   "outputs": [],
   "source": [
    "out_index_block = outlier_detection(df1['BLOCKS']).index"
   ]
  },
  {
   "cell_type": "code",
   "execution_count": 124,
   "metadata": {
    "scrolled": true
   },
   "outputs": [
    {
     "data": {
      "text/html": [
       "<div>\n",
       "<style scoped>\n",
       "    .dataframe tbody tr th:only-of-type {\n",
       "        vertical-align: middle;\n",
       "    }\n",
       "\n",
       "    .dataframe tbody tr th {\n",
       "        vertical-align: top;\n",
       "    }\n",
       "\n",
       "    .dataframe thead th {\n",
       "        text-align: right;\n",
       "    }\n",
       "</style>\n",
       "<table border=\"1\" class=\"dataframe\">\n",
       "  <thead>\n",
       "    <tr style=\"text-align: right;\">\n",
       "      <th></th>\n",
       "      <th>BLOCKS</th>\n",
       "      <th>VILLAGES</th>\n",
       "      <th>CLUSTERS</th>\n",
       "      <th>TOTPOPULAT</th>\n",
       "      <th>OVERALL_LI</th>\n",
       "    </tr>\n",
       "  </thead>\n",
       "  <tbody>\n",
       "    <tr>\n",
       "      <th>count</th>\n",
       "      <td>680.000000</td>\n",
       "      <td>680.000000</td>\n",
       "      <td>680.000000</td>\n",
       "      <td>6.340000e+02</td>\n",
       "      <td>634.000000</td>\n",
       "    </tr>\n",
       "    <tr>\n",
       "      <th>mean</th>\n",
       "      <td>10.760294</td>\n",
       "      <td>874.614706</td>\n",
       "      <td>121.226471</td>\n",
       "      <td>1.899024e+06</td>\n",
       "      <td>73.395189</td>\n",
       "    </tr>\n",
       "    <tr>\n",
       "      <th>std</th>\n",
       "      <td>9.585360</td>\n",
       "      <td>622.711657</td>\n",
       "      <td>94.040172</td>\n",
       "      <td>1.547475e+06</td>\n",
       "      <td>10.098460</td>\n",
       "    </tr>\n",
       "    <tr>\n",
       "      <th>min</th>\n",
       "      <td>1.000000</td>\n",
       "      <td>6.000000</td>\n",
       "      <td>1.000000</td>\n",
       "      <td>7.948000e+03</td>\n",
       "      <td>37.220000</td>\n",
       "    </tr>\n",
       "    <tr>\n",
       "      <th>25%</th>\n",
       "      <td>5.000000</td>\n",
       "      <td>390.750000</td>\n",
       "      <td>56.750000</td>\n",
       "      <td>8.226940e+05</td>\n",
       "      <td>66.437500</td>\n",
       "    </tr>\n",
       "    <tr>\n",
       "      <th>50%</th>\n",
       "      <td>8.000000</td>\n",
       "      <td>785.500000</td>\n",
       "      <td>101.000000</td>\n",
       "      <td>1.564392e+06</td>\n",
       "      <td>73.490000</td>\n",
       "    </tr>\n",
       "    <tr>\n",
       "      <th>75%</th>\n",
       "      <td>13.000000</td>\n",
       "      <td>1204.250000</td>\n",
       "      <td>162.500000</td>\n",
       "      <td>2.587520e+06</td>\n",
       "      <td>80.815000</td>\n",
       "    </tr>\n",
       "    <tr>\n",
       "      <th>max</th>\n",
       "      <td>66.000000</td>\n",
       "      <td>3963.000000</td>\n",
       "      <td>592.000000</td>\n",
       "      <td>1.105413e+07</td>\n",
       "      <td>98.760000</td>\n",
       "    </tr>\n",
       "  </tbody>\n",
       "</table>\n",
       "</div>"
      ],
      "text/plain": [
       "           BLOCKS     VILLAGES    CLUSTERS    TOTPOPULAT  OVERALL_LI\n",
       "count  680.000000   680.000000  680.000000  6.340000e+02  634.000000\n",
       "mean    10.760294   874.614706  121.226471  1.899024e+06   73.395189\n",
       "std      9.585360   622.711657   94.040172  1.547475e+06   10.098460\n",
       "min      1.000000     6.000000    1.000000  7.948000e+03   37.220000\n",
       "25%      5.000000   390.750000   56.750000  8.226940e+05   66.437500\n",
       "50%      8.000000   785.500000  101.000000  1.564392e+06   73.490000\n",
       "75%     13.000000  1204.250000  162.500000  2.587520e+06   80.815000\n",
       "max     66.000000  3963.000000  592.000000  1.105413e+07   98.760000"
      ]
     },
     "execution_count": 124,
     "metadata": {},
     "output_type": "execute_result"
    }
   ],
   "source": [
    "df.describe()"
   ]
  },
  {
   "cell_type": "code",
   "execution_count": 76,
   "metadata": {},
   "outputs": [
    {
     "data": {
      "image/png": "[encoded data removed]",
      "text/plain": [
       "<Figure size 800x600 with 1 Axes>"
      ]
     },
     "metadata": {},
     "output_type": "display_data"
    }
   ],
   "source": [
    "boxplot(df1, 'BLOCKS')"
   ]
  },
  {
   "cell_type": "code",
   "execution_count": 79,
   "metadata": {
    "scrolled": true
   },
   "outputs": [],
   "source": [
    "df3 = df1.loc[index_outlier, ['DISTNAME','STATNAME','BLOCKS']]"
   ]
  },
  {
   "cell_type": "code",
   "execution_count": 81,
   "metadata": {},
   "outputs": [
    {
     "data": {
      "text/html": [
       "<div>\n",
       "<style scoped>\n",
       "    .dataframe tbody tr th:only-of-type {\n",
       "        vertical-align: middle;\n",
       "    }\n",
       "\n",
       "    .dataframe tbody tr th {\n",
       "        vertical-align: top;\n",
       "    }\n",
       "\n",
       "    .dataframe thead th {\n",
       "        text-align: right;\n",
       "    }\n",
       "</style>\n",
       "<table border=\"1\" class=\"dataframe\">\n",
       "  <thead>\n",
       "    <tr style=\"text-align: right;\">\n",
       "      <th></th>\n",
       "      <th>DISTNAME</th>\n",
       "      <th>STATNAME</th>\n",
       "      <th>BLOCKS</th>\n",
       "    </tr>\n",
       "  </thead>\n",
       "  <tbody>\n",
       "    <tr>\n",
       "      <th>209</th>\n",
       "      <td>DISTRICT208</td>\n",
       "      <td>STATE28</td>\n",
       "      <td>27</td>\n",
       "    </tr>\n",
       "    <tr>\n",
       "      <th>350</th>\n",
       "      <td>DISTRICT254</td>\n",
       "      <td>STATE34</td>\n",
       "      <td>33</td>\n",
       "    </tr>\n",
       "    <tr>\n",
       "      <th>352</th>\n",
       "      <td>DISTRICT329</td>\n",
       "      <td>STATE34</td>\n",
       "      <td>42</td>\n",
       "    </tr>\n",
       "    <tr>\n",
       "      <th>353</th>\n",
       "      <td>DISTRICT252</td>\n",
       "      <td>STATE34</td>\n",
       "      <td>27</td>\n",
       "    </tr>\n",
       "    <tr>\n",
       "      <th>354</th>\n",
       "      <td>DISTRICT388</td>\n",
       "      <td>STATE34</td>\n",
       "      <td>50</td>\n",
       "    </tr>\n",
       "    <tr>\n",
       "      <th>355</th>\n",
       "      <td>DISTRICT269</td>\n",
       "      <td>STATE34</td>\n",
       "      <td>31</td>\n",
       "    </tr>\n",
       "    <tr>\n",
       "      <th>360</th>\n",
       "      <td>DISTRICT13</td>\n",
       "      <td>STATE34</td>\n",
       "      <td>36</td>\n",
       "    </tr>\n",
       "    <tr>\n",
       "      <th>361</th>\n",
       "      <td>DISTRICT561</td>\n",
       "      <td>STATE34</td>\n",
       "      <td>30</td>\n",
       "    </tr>\n",
       "    <tr>\n",
       "      <th>362</th>\n",
       "      <td>DISTRICT230</td>\n",
       "      <td>STATE34</td>\n",
       "      <td>37</td>\n",
       "    </tr>\n",
       "    <tr>\n",
       "      <th>395</th>\n",
       "      <td>DISTRICT406</td>\n",
       "      <td>STATE24</td>\n",
       "      <td>30</td>\n",
       "    </tr>\n",
       "    <tr>\n",
       "      <th>407</th>\n",
       "      <td>DISTRICT118</td>\n",
       "      <td>STATE24</td>\n",
       "      <td>40</td>\n",
       "    </tr>\n",
       "    <tr>\n",
       "      <th>569</th>\n",
       "      <td>DISTRICT437</td>\n",
       "      <td>STATE7</td>\n",
       "      <td>38</td>\n",
       "    </tr>\n",
       "    <tr>\n",
       "      <th>570</th>\n",
       "      <td>DISTRICT411</td>\n",
       "      <td>STATE7</td>\n",
       "      <td>34</td>\n",
       "    </tr>\n",
       "    <tr>\n",
       "      <th>571</th>\n",
       "      <td>DISTRICT73</td>\n",
       "      <td>STATE7</td>\n",
       "      <td>43</td>\n",
       "    </tr>\n",
       "    <tr>\n",
       "      <th>572</th>\n",
       "      <td>DISTRICT213</td>\n",
       "      <td>STATE7</td>\n",
       "      <td>64</td>\n",
       "    </tr>\n",
       "    <tr>\n",
       "      <th>573</th>\n",
       "      <td>DISTRICT204</td>\n",
       "      <td>STATE7</td>\n",
       "      <td>48</td>\n",
       "    </tr>\n",
       "    <tr>\n",
       "      <th>574</th>\n",
       "      <td>DISTRICT92</td>\n",
       "      <td>STATE7</td>\n",
       "      <td>50</td>\n",
       "    </tr>\n",
       "    <tr>\n",
       "      <th>575</th>\n",
       "      <td>DISTRICT87</td>\n",
       "      <td>STATE7</td>\n",
       "      <td>57</td>\n",
       "    </tr>\n",
       "    <tr>\n",
       "      <th>576</th>\n",
       "      <td>DISTRICT321</td>\n",
       "      <td>STATE7</td>\n",
       "      <td>56</td>\n",
       "    </tr>\n",
       "    <tr>\n",
       "      <th>577</th>\n",
       "      <td>DISTRICT113</td>\n",
       "      <td>STATE7</td>\n",
       "      <td>46</td>\n",
       "    </tr>\n",
       "    <tr>\n",
       "      <th>578</th>\n",
       "      <td>DISTRICT108</td>\n",
       "      <td>STATE7</td>\n",
       "      <td>51</td>\n",
       "    </tr>\n",
       "    <tr>\n",
       "      <th>579</th>\n",
       "      <td>DISTRICT235</td>\n",
       "      <td>STATE7</td>\n",
       "      <td>54</td>\n",
       "    </tr>\n",
       "    <tr>\n",
       "      <th>580</th>\n",
       "      <td>DISTRICT58</td>\n",
       "      <td>STATE7</td>\n",
       "      <td>63</td>\n",
       "    </tr>\n",
       "    <tr>\n",
       "      <th>581</th>\n",
       "      <td>DISTRICT492</td>\n",
       "      <td>STATE7</td>\n",
       "      <td>66</td>\n",
       "    </tr>\n",
       "    <tr>\n",
       "      <th>670</th>\n",
       "      <td>DISTRICT371</td>\n",
       "      <td>STATE29</td>\n",
       "      <td>52</td>\n",
       "    </tr>\n",
       "    <tr>\n",
       "      <th>671</th>\n",
       "      <td>DISTRICT620</td>\n",
       "      <td>STATE29</td>\n",
       "      <td>36</td>\n",
       "    </tr>\n",
       "    <tr>\n",
       "      <th>672</th>\n",
       "      <td>DISTRICT477</td>\n",
       "      <td>STATE29</td>\n",
       "      <td>57</td>\n",
       "    </tr>\n",
       "    <tr>\n",
       "      <th>673</th>\n",
       "      <td>DISTRICT599</td>\n",
       "      <td>STATE29</td>\n",
       "      <td>46</td>\n",
       "    </tr>\n",
       "    <tr>\n",
       "      <th>675</th>\n",
       "      <td>DISTRICT522</td>\n",
       "      <td>STATE29</td>\n",
       "      <td>37</td>\n",
       "    </tr>\n",
       "    <tr>\n",
       "      <th>676</th>\n",
       "      <td>DISTRICT498</td>\n",
       "      <td>STATE29</td>\n",
       "      <td>64</td>\n",
       "    </tr>\n",
       "    <tr>\n",
       "      <th>677</th>\n",
       "      <td>DISTRICT343</td>\n",
       "      <td>STATE29</td>\n",
       "      <td>59</td>\n",
       "    </tr>\n",
       "    <tr>\n",
       "      <th>678</th>\n",
       "      <td>DISTRICT130</td>\n",
       "      <td>STATE29</td>\n",
       "      <td>51</td>\n",
       "    </tr>\n",
       "    <tr>\n",
       "      <th>679</th>\n",
       "      <td>DISTRICT341</td>\n",
       "      <td>STATE29</td>\n",
       "      <td>41</td>\n",
       "    </tr>\n",
       "  </tbody>\n",
       "</table>\n",
       "</div>"
      ],
      "text/plain": [
       "        DISTNAME STATNAME  BLOCKS\n",
       "209  DISTRICT208  STATE28      27\n",
       "350  DISTRICT254  STATE34      33\n",
       "352  DISTRICT329  STATE34      42\n",
       "353  DISTRICT252  STATE34      27\n",
       "354  DISTRICT388  STATE34      50\n",
       "355  DISTRICT269  STATE34      31\n",
       "360   DISTRICT13  STATE34      36\n",
       "361  DISTRICT561  STATE34      30\n",
       "362  DISTRICT230  STATE34      37\n",
       "395  DISTRICT406  STATE24      30\n",
       "407  DISTRICT118  STATE24      40\n",
       "569  DISTRICT437   STATE7      38\n",
       "570  DISTRICT411   STATE7      34\n",
       "571   DISTRICT73   STATE7      43\n",
       "572  DISTRICT213   STATE7      64\n",
       "573  DISTRICT204   STATE7      48\n",
       "574   DISTRICT92   STATE7      50\n",
       "575   DISTRICT87   STATE7      57\n",
       "576  DISTRICT321   STATE7      56\n",
       "577  DISTRICT113   STATE7      46\n",
       "578  DISTRICT108   STATE7      51\n",
       "579  DISTRICT235   STATE7      54\n",
       "580   DISTRICT58   STATE7      63\n",
       "581  DISTRICT492   STATE7      66\n",
       "670  DISTRICT371  STATE29      52\n",
       "671  DISTRICT620  STATE29      36\n",
       "672  DISTRICT477  STATE29      57\n",
       "673  DISTRICT599  STATE29      46\n",
       "675  DISTRICT522  STATE29      37\n",
       "676  DISTRICT498  STATE29      64\n",
       "677  DISTRICT343  STATE29      59\n",
       "678  DISTRICT130  STATE29      51\n",
       "679  DISTRICT341  STATE29      41"
      ]
     },
     "execution_count": 81,
     "metadata": {},
     "output_type": "execute_result"
    }
   ],
   "source": [
    "df3"
   ]
  },
  {
   "cell_type": "code",
   "execution_count": 80,
   "metadata": {},
   "outputs": [],
   "source": [
    "df3.to_csv('BlOCKS_check.csv', index=False)"
   ]
  }
 ],
 "metadata": {
  "kernelspec": {
   "display_name": "Python 3 (ipykernel)",
   "language": "python",
   "name": "python3"
  },
  "language_info": {
   "codemirror_mode": {
    "name": "ipython",
    "version": 3
   },
   "file_extension": ".py",
   "mimetype": "text/x-python",
   "name": "python",
   "nbconvert_exporter": "python",
   "pygments_lexer": "ipython3",
   "version": "3.10.9"
  }
 },
 "nbformat": 4,
 "nbformat_minor": 2
}
